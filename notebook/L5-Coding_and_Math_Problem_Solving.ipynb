{
 "cells": [
  {
   "cell_type": "markdown",
   "metadata": {},
   "source": [
    "#### Lesson 5: Coding and Math Problem Solving\n",
    "\n",
    "The python version of this lesson is Coding and Financial Analysis. Because of lacking financial and plotting library in dotnet, it is very challenging for GPT to analyze financial data using C# as programming language. So I change the topic to Coding and Math Problem Solving."
   ]
  },
  {
   "cell_type": "markdown",
   "metadata": {},
   "source": [
    "#### Setup"
   ]
  },
  {
   "cell_type": "code",
   "execution_count": 1,
   "metadata": {
    "vscode": {
     "languageId": "polyglot-notebook"
    }
   },
   "outputs": [
    {
     "data": {
      "text/html": [
       "<div><div></div><div></div><div><strong>Installed Packages</strong><ul><li><span>AutoGen, 0.0.16</span></li></ul></div></div>"
      ]
     },
     "metadata": {},
     "output_type": "display_data"
    }
   ],
   "source": [
    "#r \"nuget:AutoGen\"\n",
    "\n",
    "using AutoGen.Core;\n",
    "using AutoGen.OpenAI;\n",
    "using AutoGen.OpenAI.Extension;\n",
    "using Azure.AI.OpenAI;\n",
    "using System.Threading;\n",
    "using System.IO;\n",
    "using System.Reactive.Linq;\n",
    "using Microsoft.DotNet.Interactive;\n",
    "using Microsoft.DotNet.Interactive.Events;\n",
    "\n",
    "var openAIKey = Environment.GetEnvironmentVariable(\"OPENAI_API_KEY\") ?? throw new Exception(\"Please set the OPENAI_API_KEY environment variable.\");\n",
    "var openAIModel = \"gpt-3.5-turbo\";\n",
    "var openaiClient = new OpenAIClient(openAIKey);\n"
   ]
  },
  {
   "cell_type": "markdown",
   "metadata": {},
   "source": [
    "Agent with code executor configuration. Because we are in dotnet interactive notebook, we can simply using the dotnet interactive kernel to execute the code.\n",
    "\n",
    "The code below retreive the csharp code between ```csharp and ``` and send it to dotnet interactive kernel to execute."
   ]
  },
  {
   "cell_type": "code",
   "execution_count": 2,
   "metadata": {
    "vscode": {
     "languageId": "polyglot-notebook"
    }
   },
   "outputs": [],
   "source": [
    "var codeBlockPrefix = \"```csharp\";\n",
    "var codeBlockSuffix = \"```\";\n",
    "var codeExecutorAgent = new DefaultReplyAgent(\n",
    "    name: \"code_executor_agent\",\n",
    "    defaultReply: \"no code to execute\")\n",
    "    .RegisterMiddleware(async (msgs, option, innerAgent, ct) =>\n",
    "        {\n",
    "            var lastMessage = msgs.LastOrDefault();\n",
    "            if (lastMessage == null || lastMessage.GetContent() is null)\n",
    "            {\n",
    "                return await innerAgent.GenerateReplyAsync(msgs, option, ct);\n",
    "            }\n",
    "\n",
    "            // retrieve all code blocks from last message\n",
    "            var codeBlocks = lastMessage.GetContent()!.Split(new[] { codeBlockPrefix }, StringSplitOptions.RemoveEmptyEntries);\n",
    "            if (codeBlocks.Length <= 0)\n",
    "            {\n",
    "                return await innerAgent.GenerateReplyAsync(msgs, option, ct);\n",
    "            }\n",
    "\n",
    "            // run code blocks\n",
    "            var result = new StringBuilder();\n",
    "            var i = 0;\n",
    "            result.AppendLine(@$\"// [DOTNET_CODE_BLOCK_EXECUTION]\");\n",
    "            foreach (var codeBlock in codeBlocks)\n",
    "            {\n",
    "                var codeBlockIndex = codeBlock.IndexOf(codeBlockSuffix);\n",
    "\n",
    "                if (codeBlockIndex == -1)\n",
    "                {\n",
    "                    continue;\n",
    "                }\n",
    "\n",
    "                // remove code block suffix\n",
    "                var code = codeBlock.Substring(0, codeBlockIndex).Trim();\n",
    "\n",
    "                if (code.Length == 0)\n",
    "                {\n",
    "                    continue;\n",
    "                }\n",
    "\n",
    "                var events = new List<DisplayEvent>();\n",
    "                Kernel.Current.RootKernel.KernelEvents.OfType<DisplayEvent>().Subscribe(e => events.Add(e));\n",
    "                var kernelCommandResult = await Kernel.Current.RootKernel.SubmitCodeAsync(code);\n",
    "                var displayValues = events.Where(x => x is StandardErrorValueProduced || x is StandardOutputValueProduced || x is ReturnValueProduced)\n",
    "                    .SelectMany(x => (x as DisplayEvent)!.FormattedValues);\n",
    "                \n",
    "                if (displayValues is null || displayValues.Count() == 0)\n",
    "                {\n",
    "                    return new TextMessage(Role.Assistant, \"No output\", from: innerAgent.Name);\n",
    "                }\n",
    "\n",
    "                var codeResult = string.Join(\"\\n\", displayValues.Select(x => x.Value));\n",
    "                result.AppendLine(@$\"### Executing result for code block {i++}\");\n",
    "                result.AppendLine(codeResult);\n",
    "                result.AppendLine(\"### End of executing result ###\");\n",
    "            }\n",
    "\n",
    "            return new TextMessage(Role.Assistant, result.ToString(), from: innerAgent.Name);\n",
    "        })\n",
    "    .RegisterPrintMessage();"
   ]
  },
  {
   "cell_type": "markdown",
   "metadata": {},
   "source": [
    "Agent with dotnet coding writing capability"
   ]
  },
  {
   "cell_type": "code",
   "execution_count": 3,
   "metadata": {
    "vscode": {
     "languageId": "polyglot-notebook"
    }
   },
   "outputs": [],
   "source": [
    "var coderAgent = new OpenAIChatAgent(\n",
    "    openAIClient: openaiClient,\n",
    "    name: \"code_writer_agent\",\n",
    "    modelName: openAIModel,\n",
    "    systemMessage: \"\"\"\n",
    "    You act as dotnet coder, you write dotnet code to resolve task. Once you finish writing code, ask runner to run the code for you.\n",
    "\n",
    "    Here're some rules to follow on writing dotnet code:\n",
    "    - put code between ```csharp and ```\n",
    "    - When creating http client, use `var httpClient = new HttpClient()`. Don't use `using var httpClient = new HttpClient()` because it will cause error when running the code.\n",
    "    - Try to use `var` instead of explicit type.\n",
    "    - Try avoid using external library, use .NET Core library instead.\n",
    "    - Use top level statement to write code.\n",
    "    - Always print out the result to console. Don't write code that doesn't print out anything.\n",
    "    \n",
    "    If you need to install nuget packages, put nuget packages in the following format:\n",
    "    ```nuget\n",
    "    nuget_package_name\n",
    "    ```\n",
    "    \n",
    "    If your code is incorrect, Fix the error and send the code again.\n",
    "    Once the task is resolved, say 'task completed' to finish the task.\n",
    "    \"\"\",\n",
    "    temperature: 0.4f)\n",
    "    .RegisterMessageConnector()\n",
    "    .RegisterPrintMessage();"
   ]
  },
  {
   "cell_type": "markdown",
   "metadata": {},
   "source": [
    "The task!"
   ]
  },
  {
   "cell_type": "code",
   "execution_count": 4,
   "metadata": {
    "vscode": {
     "languageId": "polyglot-notebook"
    }
   },
   "outputs": [],
   "source": [
    "var task = \"\"\"\n",
    "    calculate the 39th fibonacci number and save the result to result.txt\n",
    "    \"\"\";"
   ]
  },
  {
   "cell_type": "markdown",
   "metadata": {},
   "source": [
    "Start the conversation to resolve the task."
   ]
  },
  {
   "cell_type": "code",
   "execution_count": 5,
   "metadata": {
    "vscode": {
     "languageId": "polyglot-notebook"
    }
   },
   "outputs": [
    {
     "name": "stdout",
     "output_type": "stream",
     "text": [
      "from: code_writer_agent\n",
      "```csharp\n",
      "var n = 39;\n",
      "var a = 0;\n",
      "var b = 1;\n",
      "\n",
      "for (var i = 0; i < n; i++)\n",
      "{\n",
      "    var temp = a;\n",
      "    a = b;\n",
      "    b = temp + b;\n",
      "}\n",
      "\n",
      "System.IO.File.WriteAllText(\"result.txt\", b.ToString());\n",
      "Console.WriteLine($\"The 39th Fibonacci number is: {b}\");\n",
      "``` \n",
      "\n",
      "The 39th Fibonacci number is: 102334155\n",
      "TextMessage from code_executor_agent\n",
      "--------------------\n",
      "// [DOTNET_CODE_BLOCK_EXECUTION]\n",
      "### Executing result for code block 0\n",
      "The 39th Fibonacci number is: 102334155\n",
      "\n",
      "### End of executing result ###\n",
      "\n",
      "--------------------\n",
      "\n",
      "from: code_writer_agent\n",
      "task completed\n",
      "\n"
     ]
    }
   ],
   "source": [
    "var chatHistory = new List<IMessage>()\n",
    "{\n",
    "    new TextMessage(Role.Assistant, task, from: codeExecutorAgent.Name),\n",
    "};\n",
    "var maxRoundLeft = 10;\n",
    "\n",
    "while (maxRoundLeft > 0)\n",
    "{\n",
    "    var reply = await coderAgent.SendAsync(\n",
    "        receiver: codeExecutorAgent,\n",
    "        chatHistory: chatHistory,\n",
    "        maxRound: 1);\n",
    "\n",
    "    if (reply.Last().GetContent()?.ToLower().Contains(\"task completed\") == true)\n",
    "    {\n",
    "        break;\n",
    "    }\n",
    "    else\n",
    "    {\n",
    "        chatHistory.Add(reply.Last());\n",
    "    }\n",
    "    maxRoundLeft--;\n",
    "}"
   ]
  }
 ],
 "metadata": {
  "kernelspec": {
   "display_name": ".NET (C#)",
   "language": "C#",
   "name": ".net-csharp"
  },
  "language_info": {
   "name": "python"
  },
  "polyglot_notebook": {
   "kernelInfo": {
    "defaultKernelName": "csharp",
    "items": [
     {
      "aliases": [
       "C#",
       "c#"
      ],
      "languageName": "C#",
      "name": "csharp"
     },
     {
      "aliases": [],
      "languageName": "HTTP",
      "name": "http"
     }
    ]
   }
  }
 },
 "nbformat": 4,
 "nbformat_minor": 2
}
