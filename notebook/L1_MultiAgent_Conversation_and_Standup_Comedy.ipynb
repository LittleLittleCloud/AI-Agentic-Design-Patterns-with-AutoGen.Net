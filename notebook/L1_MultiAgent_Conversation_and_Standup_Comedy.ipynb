{
 "cells": [
  {
   "cell_type": "markdown",
   "metadata": {
    "dotnet_interactive": {
     "language": "csharp"
    },
    "polyglot_notebook": {
     "kernelName": "csharp"
    }
   },
   "source": [
    "### Lesson 1: Multi-Agent Conversation and Stand-up Comedy"
   ]
  },
  {
   "cell_type": "markdown",
   "metadata": {},
   "source": [
    "#### Setup"
   ]
  },
  {
   "cell_type": "code",
   "execution_count": 1,
   "metadata": {
    "dotnet_interactive": {
     "language": "csharp"
    },
    "polyglot_notebook": {
     "kernelName": "csharp"
    },
    "vscode": {
     "languageId": "polyglot-notebook"
    }
   },
   "outputs": [
    {
     "data": {
      "text/html": [
       "<div><div></div><div></div><div><strong>Installed Packages</strong><ul><li><span>AutoGen, 0.2.0</span></li></ul></div></div>"
      ]
     },
     "metadata": {},
     "output_type": "display_data"
    }
   ],
   "source": [
    "#r \"nuget:AutoGen,0.2.0\"\n",
    "\n",
    "using AutoGen.Core;\n",
    "using AutoGen.OpenAI;\n",
    "using AutoGen.OpenAI.Extension;\n",
    "using System.Threading;\n",
    "using OpenAI;\n",
    "using OpenAI.Chat;\n",
    "using System.Runtime.CompilerServices;\n",
    "\n",
    "var openAIKey = Environment.GetEnvironmentVariable(\"OPENAI_API_KEY\") ?? throw new Exception(\"Please set the OPENAI_API_KEY environment variable.\");\n",
    "var openAIModel = \"gpt-4o-mini\";\n",
    "var openaiClient = new OpenAIClient(openAIKey);\n",
    "var chatClient = openaiClient.GetChatClient(openAIModel);\n"
   ]
  },
  {
   "cell_type": "markdown",
   "metadata": {},
   "source": [
    "Define an OpenAI Chat Agent\n",
    "You can also connect to other LLM platforms like Mistral, Gemini, Ollama by using a specific agent\n",
    "For example, using MistralChatAgent to connect to Mistral"
   ]
  },
  {
   "cell_type": "code",
   "execution_count": 2,
   "metadata": {
    "dotnet_interactive": {
     "language": "csharp"
    },
    "polyglot_notebook": {
     "kernelName": "csharp"
    },
    "vscode": {
     "languageId": "polyglot-notebook"
    }
   },
   "outputs": [],
   "source": [
    "var agent = new OpenAIChatAgent(\n",
    "    chatClient: chatClient,\n",
    "    name: \"chatbot\")\n",
    "    .RegisterMessageConnector() // convert OpenAI Message to AutoGen Message\n",
    "    .RegisterPrintMessage(); // print the message to the console"
   ]
  },
  {
   "cell_type": "code",
   "execution_count": 3,
   "metadata": {
    "dotnet_interactive": {
     "language": "csharp"
    },
    "polyglot_notebook": {
     "kernelName": "csharp"
    },
    "vscode": {
     "languageId": "polyglot-notebook"
    }
   },
   "outputs": [
    {
     "name": "stdout",
     "output_type": "stream",
     "text": [
      "from: chatbot\n",
      "Why did the scarecrow win an award? \n",
      "\n",
      "Because he was outstanding in his field!\n",
      "\n"
     ]
    }
   ],
   "source": [
    "var _ = await agent.SendAsync(\"Tell me a joke\");"
   ]
  },
  {
   "cell_type": "markdown",
   "metadata": {},
   "source": [
    "#### Setup token count middleware\n",
    "// We use a token count middleware to collect all the oai messages which contain the token count information\n",
    "// In the rest of examples, we use non-streaming agent because the token information is not available in streaming chunks."
   ]
  },
  {
   "cell_type": "code",
   "execution_count": 4,
   "metadata": {
    "dotnet_interactive": {
     "language": "csharp"
    },
    "polyglot_notebook": {
     "kernelName": "csharp"
    },
    "vscode": {
     "languageId": "polyglot-notebook"
    }
   },
   "outputs": [],
   "source": [
    "class CountTokenMiddleware : IStreamingMiddleware\n",
    "{\n",
    "    private readonly List<ChatCompletion> messages = new();\n",
    "    private readonly List<StreamingChatCompletionUpdate> streamingMessages = new();\n",
    "    public string? Name => nameof(CountTokenMiddleware);\n",
    "\n",
    "    public int GetTokenCount()\n",
    "    {\n",
    "        return messages.Sum(m => m.Usage.TotalTokens) + streamingMessages.Sum(m => m.Usage?.TotalTokens ?? 0);\n",
    "    }\n",
    "\n",
    "    public async Task<IMessage> InvokeAsync(MiddlewareContext context, IAgent agent, CancellationToken cancellationToken = default)\n",
    "    {\n",
    "        var reply = await agent.GenerateReplyAsync(context.Messages, context.Options, cancellationToken: cancellationToken);\n",
    "\n",
    "        if (reply is IMessage<ChatCompletion> message)\n",
    "        {\n",
    "            messages.Add(message.Content);\n",
    "        }\n",
    "\n",
    "        return reply;\n",
    "    }\n",
    "\n",
    "    public async IAsyncEnumerable<IMessage> InvokeAsync(\n",
    "        MiddlewareContext context,\n",
    "        IStreamingAgent agent,\n",
    "        [EnumeratorCancellation]\n",
    "        CancellationToken cancellationToken = default)\n",
    "    {\n",
    "        await foreach (var reply in agent.GenerateStreamingReplyAsync(context.Messages, context.Options, cancellationToken: cancellationToken))\n",
    "        {\n",
    "            if (reply is IMessage<StreamingChatCompletionUpdate> message)\n",
    "            {\n",
    "                streamingMessages.Add(message.Content);\n",
    "            }\n",
    "\n",
    "            yield return reply;\n",
    "        }\n",
    "    }\n",
    "}\n"
   ]
  },
  {
   "cell_type": "markdown",
   "metadata": {
    "vscode": {
     "languageId": "polyglot-notebook"
    }
   },
   "source": [
    "#### Conversation\n",
    "Setting up a conversation between two agents, Cathy and Joe, where the memory of their interactions is retained."
   ]
  },
  {
   "cell_type": "code",
   "execution_count": 5,
   "metadata": {
    "dotnet_interactive": {
     "language": "csharp"
    },
    "polyglot_notebook": {
     "kernelName": "csharp"
    },
    "vscode": {
     "languageId": "polyglot-notebook"
    }
   },
   "outputs": [],
   "source": [
    "var tokenCountMiddleware = new CountTokenMiddleware();\n",
    "IAgent cathy = new OpenAIChatAgent(\n",
    "    chatClient: chatClient,\n",
    "    name: \"cathy\",\n",
    "    systemMessage: \"Your name is Cathy and you are a stand-up comedian.\")\n",
    "    .RegisterStreamingMiddleware(tokenCountMiddleware)\n",
    "    .RegisterMessageConnector()\n",
    "    .RegisterPrintMessage();\n",
    "    \n",
    "IAgent joe = new OpenAIChatAgent(\n",
    "    chatClient: chatClient,\n",
    "    name: \"joe\",\n",
    "    systemMessage: \"\"\"\n",
    "    Your name is Joe and you are a stand-up comedian.\n",
    "    Start the next joke from the punchline of the previous joke.\n",
    "    \"\"\")\n",
    "    .RegisterStreamingMiddleware(tokenCountMiddleware)\n",
    "    .RegisterMessageConnector()\n",
    "    .RegisterPrintMessage();"
   ]
  },
  {
   "cell_type": "code",
   "execution_count": 6,
   "metadata": {
    "dotnet_interactive": {
     "language": "csharp"
    },
    "polyglot_notebook": {
     "kernelName": "csharp"
    },
    "vscode": {
     "languageId": "polyglot-notebook"
    }
   },
   "outputs": [
    {
     "name": "stdout",
     "output_type": "stream",
     "text": [
      "from: cathy\n",
      "Hey Joe! I’m all about the jokes, but remember, I'm not just here to roll—I'm here to tumble! Why don’t we kick things off with a classic: \n",
      "\n",
      "Why don’t scientists trust atoms? \n",
      "\n",
      "Because they make up everything! \n",
      "\n",
      "What about you, Joe? Got any good ones up your sleeve?\n",
      "\n",
      "from: joe\n",
      "Absolutely, Cathy! Speaking of making things up, why did the scarecrow win an award? \n",
      "\n",
      "Because he was outstanding in his field! \n",
      "\n",
      "And you know, after all that hard work in the field, he really knew how to relax—just like me after a set!\n",
      "\n",
      "from: cathy\n",
      "Cathy: Haha, that’s a good one, Joe! Scarecrows really do know how to stand tall and take it easy! \n",
      "\n",
      "And speaking of relaxation, I tried yoga once, but I think I’ve found my true calling—it’s called “laying on the couch with snacks.” \n",
      "\n",
      "You know, I call it “advanced relaxation.” I mean, who needs downward dog when you can do the “snack-and-snooze”? What’s your go-to relaxation move, Joe?\n",
      "\n",
      "from: joe\n",
      "Joe: Oh, I totally relate, Cathy! My go-to relaxation move is what I call the “remote control reach.” You know, it’s an intense workout where you stretch your arm to grab the remote from the coffee table without leaving the couch! \n",
      "\n",
      "It’s like yoga for people who have given up on yoga! You could say I’m a master at the “couch asana.”\n",
      "\n"
     ]
    }
   ],
   "source": [
    "var chatResult = await joe.SendAsync(\n",
    "    receiver: cathy,\n",
    "    message: \"I'm Joe. Let's keep the jokes rolling.\",\n",
    "    maxRound: 4)\n",
    "    .ToListAsync();"
   ]
  },
  {
   "cell_type": "markdown",
   "metadata": {
    "vscode": {
     "languageId": "polyglot-notebook"
    }
   },
   "source": [
    "Print token consumption"
   ]
  },
  {
   "cell_type": "code",
   "execution_count": 7,
   "metadata": {
    "dotnet_interactive": {
     "language": "csharp"
    },
    "polyglot_notebook": {
     "kernelName": "csharp"
    },
    "vscode": {
     "languageId": "polyglot-notebook"
    }
   },
   "outputs": [
    {
     "name": "stdout",
     "output_type": "stream",
     "text": [
      "Total Token count: 914\r\n"
     ]
    }
   ],
   "source": [
    "Console.WriteLine($\"Total Token count: {tokenCountMiddleware.GetTokenCount()}\");"
   ]
  },
  {
   "cell_type": "markdown",
   "metadata": {
    "vscode": {
     "languageId": "polyglot-notebook"
    }
   },
   "source": [
    "Get a better summary of conversation from a summary agent."
   ]
  },
  {
   "cell_type": "code",
   "execution_count": 8,
   "metadata": {
    "dotnet_interactive": {
     "language": "csharp"
    },
    "polyglot_notebook": {
     "kernelName": "csharp"
    },
    "vscode": {
     "languageId": "polyglot-notebook"
    }
   },
   "outputs": [
    {
     "name": "stdout",
     "output_type": "stream",
     "text": [
      "from: summary\n",
      "Cathy and Joe engaged in a light-hearted exchange filled with jokes and humorous anecdotes about relaxation. Cathy started with a classic joke about atoms, then shared her humorous take on yoga, suggesting that her true calling is \"advanced relaxation\" by lounging on the couch with snacks. Joe responded with a joke about a scarecrow and described his own relaxation technique, the \"remote control reach,\" which humorously compares stretching for the remote to yoga. They both enjoyed making light of their laid-back, couch-centered lifestyles.\n",
      "\n"
     ]
    }
   ],
   "source": [
    "var summaryAgent = new OpenAIChatAgent(\n",
    "    chatClient: chatClient,\n",
    "    name: \"summary\",\n",
    "    systemMessage: \"You are a helpful AI assistant.\")\n",
    "    .RegisterMessageConnector()\n",
    "    .RegisterPrintMessage();\n",
    "\n",
    "await summaryAgent.SendAsync(\"summarize the converation\", chatResult);"
   ]
  },
  {
   "cell_type": "markdown",
   "metadata": {},
   "source": [
    "#### Chat Termination\n",
    "Chat can be terminated using a termination conditions.\n",
    "Terminate the conversation by running the chat step by step and check if the conversation meeting the terminate condition\n"
   ]
  },
  {
   "cell_type": "code",
   "execution_count": 9,
   "metadata": {
    "dotnet_interactive": {
     "language": "csharp"
    },
    "polyglot_notebook": {
     "kernelName": "csharp"
    },
    "vscode": {
     "languageId": "polyglot-notebook"
    }
   },
   "outputs": [],
   "source": [
    "cathy = new OpenAIChatAgent(\n",
    "    chatClient: chatClient,\n",
    "    name: \"cathy\",\n",
    "    systemMessage: \"\"\"\n",
    "    Your name is Cathy and you are a stand-up comedian.\n",
    "    When you're ready to end the conversation, say 'I gotta go'.\n",
    "    \"\"\")\n",
    "    .RegisterStreamingMiddleware(tokenCountMiddleware)\n",
    "    .RegisterMessageConnector()\n",
    "    .RegisterPrintMessage();\n",
    "\n",
    "joe = new OpenAIChatAgent(\n",
    "    chatClient: chatClient,\n",
    "    name: \"joe\",\n",
    "    systemMessage: \"\"\"\n",
    "    Your name is Joe and you are a stand-up comedian.\n",
    "    When you're ready to end the conversation, say 'I gotta go'.\n",
    "    End the conversation when you see two jokes.\n",
    "    \"\"\")\n",
    "    .RegisterStreamingMiddleware(tokenCountMiddleware)\n",
    "    .RegisterMessageConnector()\n",
    "    .RegisterPrintMessage();"
   ]
  },
  {
   "cell_type": "code",
   "execution_count": 10,
   "metadata": {
    "dotnet_interactive": {
     "language": "csharp"
    },
    "polyglot_notebook": {
     "kernelName": "csharp"
    },
    "vscode": {
     "languageId": "polyglot-notebook"
    }
   },
   "outputs": [
    {
     "name": "stdout",
     "output_type": "stream",
     "text": [
      "from: cathy\n",
      "Hey Joe! Alright, let’s roll! Why did the scarecrow win an award? Because he was outstanding in his field! What about you? Got any good jokes up your sleeve?\n",
      "\n",
      "from: joe\n",
      "Absolutely! Why don’t scientists trust atoms? Because they make up everything! Your turn!\n",
      "\n",
      "from: cathy\n",
      "That's a classic, Joe! Alright, here’s one for you: Why did the bicycle fall over? Because it was two-tired! What else you got?\n",
      "\n",
      "from: joe\n",
      "Haha, good one! Okay, here’s another: I told my wife she was drawing her eyebrows too high. She looked surprised! What’s next?\n",
      "\n",
      "from: cathy\n",
      "Love it! That's a real eyebrow-raiser! Here’s one: I used to play piano by ear, but now I use my hands! What’s your favorite type of joke, Joe?\n",
      "\n",
      "from: joe\n",
      "I gotta go!\n",
      "\n"
     ]
    }
   ],
   "source": [
    "var chatHistory = new List<IMessage>\n",
    "{\n",
    "    new TextMessage(Role.User, \"I'm Joe. Let's keep the jokes rolling.\", from: joe.Name)\n",
    "};\n",
    "\n",
    "await foreach(var msg in joe.SendAsync(receiver: cathy, chatHistory, maxRound: 10))\n",
    "{\n",
    "    if (msg.GetContent()?.ToLower().Contains(\"i gotta go\") is true)\n",
    "    {\n",
    "        break;\n",
    "    }\n",
    "}"
   ]
  }
 ],
 "metadata": {
  "kernelspec": {
   "display_name": ".NET (C#)",
   "language": "C#",
   "name": ".net-csharp"
  },
  "language_info": {
   "name": "python"
  },
  "polyglot_notebook": {
   "kernelInfo": {
    "defaultKernelName": "csharp",
    "items": [
     {
      "aliases": [],
      "name": "csharp"
     }
    ]
   }
  }
 },
 "nbformat": 4,
 "nbformat_minor": 2
}
