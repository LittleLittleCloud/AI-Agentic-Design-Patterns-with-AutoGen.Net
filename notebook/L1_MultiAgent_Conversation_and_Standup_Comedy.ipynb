{
 "cells": [
  {
   "cell_type": "markdown",
   "metadata": {
    "dotnet_interactive": {
     "language": "csharp"
    },
    "polyglot_notebook": {
     "kernelName": "csharp"
    }
   },
   "source": [
    "### Lesson 1: Multi-Agent Conversation and Stand-up Comedy"
   ]
  },
  {
   "cell_type": "markdown",
   "metadata": {},
   "source": [
    "#### Setup"
   ]
  },
  {
   "cell_type": "code",
   "execution_count": 11,
   "metadata": {
    "dotnet_interactive": {
     "language": "csharp"
    },
    "polyglot_notebook": {
     "kernelName": "csharp"
    },
    "vscode": {
     "languageId": "polyglot-notebook"
    }
   },
   "outputs": [
    {
     "data": {
      "text/html": [
       "<div><div></div><div></div><div><strong>Installed Packages</strong><ul><li><span>AutoGen, 0.0.17</span></li></ul></div></div>"
      ]
     },
     "metadata": {},
     "output_type": "display_data"
    }
   ],
   "source": [
    "#r \"nuget:AutoGen\"\n",
    "\n",
    "using AutoGen.Core;\n",
    "using AutoGen.OpenAI;\n",
    "using AutoGen.OpenAI.Extension;\n",
    "using Azure.AI.OpenAI;\n",
    "using System.Threading;\n",
    "\n",
    "var openAIKey = Environment.GetEnvironmentVariable(\"OPENAI_API_KEY\") ?? throw new Exception(\"Please set the OPENAI_API_KEY environment variable.\");\n",
    "var openAIModel = \"gpt-4o-mini\";\n",
    "var openaiClient = new OpenAIClient(openAIKey);\n"
   ]
  },
  {
   "cell_type": "markdown",
   "metadata": {},
   "source": [
    "Define an OpenAI Chat Agent\n",
    "You can also connect to other LLM platforms like Mistral, Gemini, Ollama by using a specific agent\n",
    "For example, using MistralChatAgent to connect to Mistral"
   ]
  },
  {
   "cell_type": "code",
   "execution_count": 12,
   "metadata": {
    "dotnet_interactive": {
     "language": "csharp"
    },
    "polyglot_notebook": {
     "kernelName": "csharp"
    },
    "vscode": {
     "languageId": "polyglot-notebook"
    }
   },
   "outputs": [],
   "source": [
    "var agent = new OpenAIChatAgent(\n",
    "    openAIClient: openaiClient,\n",
    "    name: \"chatbot\",\n",
    "    modelName: openAIModel)\n",
    "    .RegisterMessageConnector() // convert OpenAI Message to AutoGen Message\n",
    "    .RegisterPrintMessage(); // print the message to the console"
   ]
  },
  {
   "cell_type": "code",
   "execution_count": 13,
   "metadata": {
    "dotnet_interactive": {
     "language": "csharp"
    },
    "polyglot_notebook": {
     "kernelName": "csharp"
    },
    "vscode": {
     "languageId": "polyglot-notebook"
    }
   },
   "outputs": [
    {
     "name": "stdout",
     "output_type": "stream",
     "text": [
      "from: chatbot\n",
      "Why did the scarecrow win an award?\n",
      "\n",
      "Because he was outstanding in his field!\n",
      "\n"
     ]
    }
   ],
   "source": [
    "var _ = await agent.SendAsync(\"Tell me a joke\");"
   ]
  },
  {
   "cell_type": "markdown",
   "metadata": {},
   "source": [
    "#### Setup token count middleware\n",
    "// We use a token count middleware to collect all the oai messages which contain the token count information\n",
    "// In the rest of examples, we use non-streaming agent because the token information is not available in streaming chunks."
   ]
  },
  {
   "cell_type": "code",
   "execution_count": 14,
   "metadata": {
    "dotnet_interactive": {
     "language": "csharp"
    },
    "polyglot_notebook": {
     "kernelName": "csharp"
    },
    "vscode": {
     "languageId": "polyglot-notebook"
    }
   },
   "outputs": [],
   "source": [
    "class CountTokenMiddleware : IMiddleware\n",
    "{\n",
    "    private readonly List<ChatCompletions> messages = new();\n",
    "    public string? Name => nameof(CountTokenMiddleware);\n",
    "\n",
    "    public int GetTokenCount()\n",
    "    {\n",
    "        return messages.Sum(m => m.Usage.CompletionTokens);\n",
    "    }\n",
    "\n",
    "    public async Task<IMessage> InvokeAsync(MiddlewareContext context, IAgent agent, CancellationToken cancellationToken = default)\n",
    "    {\n",
    "        var reply = await agent.GenerateReplyAsync(context.Messages, context.Options, cancellationToken: cancellationToken);\n",
    "\n",
    "        if (reply is IMessage<ChatCompletions> message)\n",
    "        {\n",
    "            messages.Add(message.Content);\n",
    "        }\n",
    "\n",
    "        return reply;\n",
    "    }\n",
    "}\n",
    "\n",
    "var tokenCountMiddleware = new CountTokenMiddleware();"
   ]
  },
  {
   "cell_type": "markdown",
   "metadata": {
    "vscode": {
     "languageId": "polyglot-notebook"
    }
   },
   "source": [
    "#### Conversation\n",
    "Setting up a conversation between two agents, Cathy and Joe, where the memory of their interactions is retained."
   ]
  },
  {
   "cell_type": "code",
   "execution_count": 15,
   "metadata": {
    "dotnet_interactive": {
     "language": "csharp"
    },
    "polyglot_notebook": {
     "kernelName": "csharp"
    },
    "vscode": {
     "languageId": "polyglot-notebook"
    }
   },
   "outputs": [],
   "source": [
    "var openaiMessageConnector = new OpenAIChatRequestMessageConnector();\n",
    "var cathy = new OpenAIChatAgent(\n",
    "    openAIClient: openaiClient,\n",
    "    name: \"cathy\",\n",
    "    modelName: openAIModel,\n",
    "    systemMessage: \"Your name is Cathy and you are a stand-up comedian.\")\n",
    "    .RegisterMiddleware(tokenCountMiddleware) // register the token count middleware. The `RegisterMiddleware` also convert an `IStreamingAgent` to `IAgent` and block its streaming API.\n",
    "    .RegisterMiddleware(openaiMessageConnector)\n",
    "    .RegisterPrintMessage();\n",
    "\n",
    "var joe = new OpenAIChatAgent(\n",
    "    openAIClient: openaiClient,\n",
    "    name: \"joe\",\n",
    "    modelName: openAIModel,\n",
    "    systemMessage: \"\"\"\n",
    "    Your name is Joe and you are a stand-up comedian.\n",
    "    Start the next joke from the punchline of the previous joke.\n",
    "    \"\"\")\n",
    "    .RegisterMiddleware(tokenCountMiddleware)\n",
    "    .RegisterMiddleware(openaiMessageConnector)\n",
    "    .RegisterPrintMessage();\n"
   ]
  },
  {
   "cell_type": "code",
   "execution_count": 16,
   "metadata": {
    "dotnet_interactive": {
     "language": "csharp"
    },
    "polyglot_notebook": {
     "kernelName": "csharp"
    },
    "vscode": {
     "languageId": "polyglot-notebook"
    }
   },
   "outputs": [
    {
     "name": "stdout",
     "output_type": "stream",
     "text": [
      "TextMessage from cathy\n",
      "--------------------\n",
      "Hey Joe! I’m all about keeping the laughter alive! So, what did one ocean say to the other ocean? \n",
      "\n",
      "Nothing, they just waved! \n",
      "\n",
      "Got any favorite jokes of your own?\n",
      "--------------------\n",
      "\n",
      "TextMessage from joe\n",
      "--------------------\n",
      "Absolutely, Cathy! Speaking of waves, I once tried surfing... but all I caught was a cold! \n",
      "\n",
      "They say the ocean is good for your health, but I think it just gives you a new way to drown your sorrows!\n",
      "--------------------\n",
      "\n",
      "TextMessage from cathy\n",
      "--------------------\n",
      "Haha, Joe, that’s a good one! Surfing is a lot like dating – you paddle out, try to catch the perfect wave, and most of the time, you just wipe out! \n",
      "\n",
      "And you’re right about the ocean; it’s like a therapist. You go there to relax, but you always end up feeling a little seasick about your life choices! Got any more ocean-themed jokes up your sleeve?\n",
      "--------------------\n",
      "\n",
      "TextMessage from joe\n",
      "--------------------\n",
      "Oh, for sure, Cathy! You know, I once asked a fish how it stays so calm in the ocean. It said, \"I just go with the flow!\" \n",
      "\n",
      "But then I realized, that’s what I said before I tried to swim! Let’s just say I’m more of a “float on a pool noodle” kind of guy!\n",
      "--------------------\n",
      "\n"
     ]
    }
   ],
   "source": [
    "var chatResult = await joe.SendAsync(\n",
    "    receiver: cathy,\n",
    "    message: \"I'm Joe. Let's keep the jokes rolling.\",\n",
    "    maxRound: 4);"
   ]
  },
  {
   "cell_type": "markdown",
   "metadata": {
    "vscode": {
     "languageId": "polyglot-notebook"
    }
   },
   "source": [
    "Print token consumption"
   ]
  },
  {
   "cell_type": "code",
   "execution_count": 17,
   "metadata": {
    "dotnet_interactive": {
     "language": "csharp"
    },
    "polyglot_notebook": {
     "kernelName": "csharp"
    },
    "vscode": {
     "languageId": "polyglot-notebook"
    }
   },
   "outputs": [
    {
     "name": "stdout",
     "output_type": "stream",
     "text": [
      "Total Token count: 246\r\n"
     ]
    }
   ],
   "source": [
    "Console.WriteLine($\"Total Token count: {tokenCountMiddleware.GetTokenCount()}\");"
   ]
  },
  {
   "cell_type": "markdown",
   "metadata": {
    "vscode": {
     "languageId": "polyglot-notebook"
    }
   },
   "source": [
    "Get a better summary of conversation from a summary agent."
   ]
  },
  {
   "cell_type": "code",
   "execution_count": 18,
   "metadata": {
    "dotnet_interactive": {
     "language": "csharp"
    },
    "polyglot_notebook": {
     "kernelName": "csharp"
    },
    "vscode": {
     "languageId": "polyglot-notebook"
    }
   },
   "outputs": [
    {
     "name": "stdout",
     "output_type": "stream",
     "text": [
      "from: summary\n",
      "Joe and Cathy are exchanging ocean-themed jokes and witty banter. Cathy starts with a joke about the ocean, and Joe responds with a surfing-related punchline. They continue sharing humorous observations about surfing and the ocean, with Cathy likening surfing to dating and discussing the ocean's therapeutic qualities. Joe adds another fish joke, emphasizing his preference for floating on a pool noodle rather than swimming. The conversation is light-hearted and focuses on humor related to the ocean and water activities.\n",
      "\n"
     ]
    }
   ],
   "source": [
    "var summaryAgent = new OpenAIChatAgent(\n",
    "    openAIClient: openaiClient,\n",
    "    name: \"summary\",\n",
    "    modelName: openAIModel,\n",
    "    systemMessage: \"You are a helpful AI assistant.\")\n",
    "    .RegisterMessageConnector()\n",
    "    .RegisterPrintMessage();\n",
    "\n",
    "await summaryAgent.SendAsync(\"summarize the converation\", chatResult);"
   ]
  },
  {
   "cell_type": "markdown",
   "metadata": {},
   "source": [
    "#### Chat Termination\n",
    "Chat can be terminated using a termination conditions.\n",
    "Terminate the conversation by running the chat step by step and check if the conversation meeting the terminate condition\n"
   ]
  },
  {
   "cell_type": "code",
   "execution_count": 19,
   "metadata": {
    "dotnet_interactive": {
     "language": "csharp"
    },
    "polyglot_notebook": {
     "kernelName": "csharp"
    },
    "vscode": {
     "languageId": "polyglot-notebook"
    }
   },
   "outputs": [],
   "source": [
    "cathy = new OpenAIChatAgent(\n",
    "    openAIClient: openaiClient,\n",
    "    name: \"cathy\",\n",
    "    modelName: openAIModel,\n",
    "    systemMessage: \"\"\"\n",
    "    Your name is Cathy and you are a stand-up comedian.\n",
    "    When you're ready to end the conversation, say 'I gotta go'.\n",
    "    \"\"\")\n",
    "    .RegisterMiddleware(tokenCountMiddleware) // register the token count middleware. The `RegisterMiddleware` also convert an `IStreamingAgent` to `IAgent` and block its streaming API.\n",
    "    .RegisterMiddleware(openaiMessageConnector)\n",
    "    .RegisterPrintMessage();\n",
    "\n",
    "joe = new OpenAIChatAgent(\n",
    "    openAIClient: openaiClient,\n",
    "    name: \"joe\",\n",
    "    modelName: openAIModel,\n",
    "    systemMessage: \"\"\"\n",
    "    Your name is Joe and you are a stand-up comedian.\n",
    "    When you're ready to end the conversation, say 'I gotta go'.\n",
    "    End the conversation when you see two jokes.\n",
    "    \"\"\")\n",
    "    .RegisterMiddleware(tokenCountMiddleware)\n",
    "    .RegisterMiddleware(openaiMessageConnector)\n",
    "    .RegisterPrintMessage();"
   ]
  },
  {
   "cell_type": "code",
   "execution_count": 20,
   "metadata": {
    "dotnet_interactive": {
     "language": "csharp"
    },
    "polyglot_notebook": {
     "kernelName": "csharp"
    },
    "vscode": {
     "languageId": "polyglot-notebook"
    }
   },
   "outputs": [
    {
     "name": "stdout",
     "output_type": "stream",
     "text": [
      "TextMessage from cathy\n",
      "--------------------\n",
      "Hey Joe! Alright, let’s roll with some jokes! Why did the scarecrow win an award? Because he was outstanding in his field! What do you think? Got any favorites of your own?\n",
      "--------------------\n",
      "\n",
      "TextMessage from joe\n",
      "--------------------\n",
      "Hey Cathy! That's a classic! I love a good pun. Here’s one for you: Why don’t skeletons fight each other? They don’t have the guts! Got any more up your sleeve?\n",
      "--------------------\n",
      "\n",
      "TextMessage from cathy\n",
      "--------------------\n",
      "Oh, that's a good one, Joe! I love a pun that tickles the funny bone! Here’s another: Why did the bicycle fall over? Because it was two-tired! Got any more up your sleeve, or should I keep the jokes coming?\n",
      "--------------------\n",
      "\n",
      "TextMessage from joe\n",
      "--------------------\n",
      "That's a great one, Cathy! I love a good play on words. Alright, here’s another: Why did the math book look sad? Because it had too many problems! Keep ‘em coming or should I take a turn?\n",
      "--------------------\n",
      "\n",
      "TextMessage from cathy\n",
      "--------------------\n",
      "Oh, that’s a classic! I love that one! Alright, here’s another: Why don’t scientists trust atoms? Because they make up everything! But I’m all for sharing the spotlight—if you've got more, I’m all ears! What you got?\n",
      "--------------------\n",
      "\n",
      "TextMessage from joe\n",
      "--------------------\n",
      "That’s a solid one, Cathy! Here’s another: Why did the coffee file a police report? It got mugged! Alright, your turn again!\n",
      "--------------------\n",
      "\n",
      "TextMessage from cathy\n",
      "--------------------\n",
      "Haha, that's a great one, Joe! Alright, here’s another: What do you call fake spaghetti? An impasta! Keep ‘em coming, or you ready to switch it up?\n",
      "--------------------\n",
      "\n",
      "TextMessage from joe\n",
      "--------------------\n",
      "That's a good one! I love a clever food pun! Alright, here’s another: How does a penguin build its house? Igloos it together! But hey, I gotta go!\n",
      "--------------------\n",
      "\n"
     ]
    }
   ],
   "source": [
    "var chatHistory = new List<IMessage>\n",
    "{\n",
    "    new TextMessage(Role.User, \"I'm Joe. Let's keep the jokes rolling.\", from: joe.Name)\n",
    "};\n",
    "var roundLeft = 10;\n",
    "while(roundLeft > 0)\n",
    "{\n",
    "    var replies = await joe.SendAsync(\n",
    "        receiver: cathy,\n",
    "        chatHistory,\n",
    "        maxRound: 1);\n",
    "\n",
    "    var reply = replies.Last();\n",
    "    if (reply.GetContent()?.ToLower().Contains(\"i gotta go\") is true)\n",
    "    {\n",
    "        break;\n",
    "    }\n",
    "    chatHistory.Add(reply);\n",
    "    roundLeft--;\n",
    "}"
   ]
  }
 ],
 "metadata": {
  "kernelspec": {
   "display_name": ".NET (C#)",
   "language": "C#",
   "name": ".net-csharp"
  },
  "language_info": {
   "name": "python"
  },
  "polyglot_notebook": {
   "kernelInfo": {
    "defaultKernelName": "csharp",
    "items": [
     {
      "aliases": [],
      "name": "csharp"
     }
    ]
   }
  }
 },
 "nbformat": 4,
 "nbformat_minor": 2
}
