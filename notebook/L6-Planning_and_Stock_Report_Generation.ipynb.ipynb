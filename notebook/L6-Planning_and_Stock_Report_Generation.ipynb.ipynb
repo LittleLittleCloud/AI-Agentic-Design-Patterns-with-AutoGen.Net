{
 "cells": [
  {
   "cell_type": "markdown",
   "metadata": {
    "dotnet_interactive": {
     "language": "csharp"
    },
    "polyglot_notebook": {
     "kernelName": "csharp"
    },
    "vscode": {
     "languageId": "polyglot-notebook"
    }
   },
   "source": [
    "#### Lesson 6: Planning and Stock Report Generation"
   ]
  },
  {
   "cell_type": "markdown",
   "metadata": {},
   "source": [
    "#### Setup"
   ]
  },
  {
   "cell_type": "code",
   "execution_count": 12,
   "metadata": {
    "vscode": {
     "languageId": "polyglot-notebook"
    }
   },
   "outputs": [
    {
     "data": {
      "text/html": [
       "<div><div></div><div></div><div><strong>Installed Packages</strong><ul><li><span>AutoGen, 0.0.16</span></li></ul></div></div>"
      ]
     },
     "metadata": {},
     "output_type": "display_data"
    }
   ],
   "source": [
    "#r \"nuget:AutoGen\"\n",
    "\n",
    "using AutoGen.Core;\n",
    "using AutoGen.OpenAI;\n",
    "using AutoGen.OpenAI.Extension;\n",
    "using Azure.AI.OpenAI;\n",
    "using System.Threading;\n",
    "using System.IO;\n",
    "using Microsoft.SemanticKernel;\n",
    "using System.ComponentModel;\n",
    "using AutoGen.SemanticKernel;\n",
    "\n",
    "var openAIKey = Environment.GetEnvironmentVariable(\"OPENAI_API_KEY\") ?? throw new Exception(\"Please set the OPENAI_API_KEY environment variable.\");\n",
    "var openAIModel = \"gpt-4o-mini\";\n",
    "var openaiClient = new OpenAIClient(openAIKey);\n"
   ]
  },
  {
   "cell_type": "markdown",
   "metadata": {},
   "source": [
    "#### Note\n",
    "This example is slightly different with the python ones when it comes to engineer agent\n",
    "\n",
    "due to the lacking built-in support of running python code in C# AutoGen.\n",
    "\n",
    "The engineer and executor agent is replaced with market watcher and data analyst agents to gather and plot the stock price data."
   ]
  },
  {
   "cell_type": "markdown",
   "metadata": {},
   "source": [
    "#### The task!"
   ]
  },
  {
   "cell_type": "code",
   "execution_count": 3,
   "metadata": {
    "vscode": {
     "languageId": "polyglot-notebook"
    }
   },
   "outputs": [],
   "source": [
    "var task = \"\"\"\n",
    "Write a blogpost about the stock price performance of Nvidia in the past month.\n",
    "Today's date is 2024-04-23.\n",
    "\"\"\";"
   ]
  },
  {
   "cell_type": "markdown",
   "metadata": {},
   "source": [
    "#### Build a group chat\n",
    "This group chat will include these agents:\n",
    "\n",
    "- User_proxy: to allow the user to comment on the report and ask the writer to refine it.\n",
    "- Planner: to determine relevant information needed to complete the task.\n",
    "- Market_Watcher: to gather the stock price data.\n",
    "- Data_Analyst: to plot the stock price data.\n",
    "- Writer: to write the report."
   ]
  },
  {
   "cell_type": "code",
   "execution_count": 4,
   "metadata": {
    "vscode": {
     "languageId": "polyglot-notebook"
    }
   },
   "outputs": [],
   "source": [
    "var user = new OpenAIChatAgent(\n",
    "    openAIClient: openaiClient,\n",
    "    name: \"user\",\n",
    "    modelName: openAIModel,\n",
    "    systemMessage: \"\"\"\n",
    "    Give the task, and send instructions to writer to refine the blog post.\n",
    "    \"\"\")\n",
    "    .RegisterMessageConnector()\n",
    "    .RegisterPrintMessage();"
   ]
  },
  {
   "cell_type": "code",
   "execution_count": 5,
   "metadata": {
    "vscode": {
     "languageId": "polyglot-notebook"
    }
   },
   "outputs": [],
   "source": [
    "var planner = new OpenAIChatAgent(\n",
    "    openAIClient: openaiClient,\n",
    "    name: \"Planner\",\n",
    "    modelName: openAIModel,\n",
    "    systemMessage: \"\"\"\n",
    "    You are Planner.\n",
    "    Given a task, please determine what step is needed to complete the task.\n",
    "    Please only suggest steps that can be done by others.\n",
    "    After each step is done by others, check the progress and instruct the remaining steps.\n",
    "    If a step fails, try to work around it.\n",
    "    If the task is completed, say 'task completed'.\n",
    "    \"\"\")\n",
    "    .RegisterMessageConnector()\n",
    "    .RegisterPrintMessage();"
   ]
  },
  {
   "cell_type": "code",
   "execution_count": 7,
   "metadata": {
    "vscode": {
     "languageId": "polyglot-notebook"
    }
   },
   "outputs": [],
   "source": [
    "var workingDirectory = Path.Combine(Directory.GetCurrentDirectory(), \"work\");\n",
    "if (!Directory.Exists(workingDirectory))\n",
    "{\n",
    "    Directory.CreateDirectory(workingDirectory);\n",
    "}"
   ]
  },
  {
   "cell_type": "markdown",
   "metadata": {},
   "source": [
    "Create market tools to gather and plot the stock price data. The data analyst will plot the stock price data and the writer will write the report."
   ]
  },
  {
   "cell_type": "code",
   "execution_count": 14,
   "metadata": {
    "vscode": {
     "languageId": "polyglot-notebook"
    }
   },
   "outputs": [],
   "source": [
    "public class MarketTools\n",
    "{\n",
    "    private string workDir;\n",
    "\n",
    "    public MarketTools(string workDir)\n",
    "    {\n",
    "        this.workDir = workDir;\n",
    "    }\n",
    "\n",
    "    /// <summary>\n",
    "    /// Retrieve stock price data for a given symbol and date range.\n",
    "    /// </summary>\n",
    "    /// <param name=\"symbol\">stock symbol.</param>\n",
    "    /// <param name=\"from\">from date, in the format of YYYY-MM-dd</param>\n",
    "    /// <param name=\"to\">to date, in the format of YYYY-MM-dd</param>\n",
    "    /// <returns></returns>\n",
    "    [KernelFunction]\n",
    "    [Description(\"Retrieve stock price data for a given symbol and date range.\")]\n",
    "    public async Task<string> RetrieveStockPrice(\n",
    "        [Description(\"stock symbol\")]string symbol,\n",
    "        [Description(\"from data, in the format of YYYY-MM-dd\")]string from, \n",
    "        [Description(\"to date, in the format of YYYY-MM-dd\")]string to)\n",
    "    {\n",
    "        var sb = new StringBuilder();\n",
    "        sb.AppendLine($\"Retrieving stock price data for {symbol} from {from} to {to}...\");\n",
    "        // Retrieve stock price data from the database\n",
    "        var stockData = \"\"\"\n",
    "            2024-03-25    950.020020\n",
    "            2024-03-26    925.609985\n",
    "            2024-03-27    902.500000\n",
    "            2024-03-28    903.559998\n",
    "            2024-04-01    903.630005\n",
    "            2024-04-02    894.520020\n",
    "            2024-04-03    889.640015\n",
    "            2024-04-04    859.049988\n",
    "            2024-04-05    880.080017\n",
    "            2024-04-08    871.330017\n",
    "            2024-04-09    853.539978\n",
    "            2024-04-10    870.390015\n",
    "            2024-04-11    906.159973\n",
    "            2024-04-12    881.859985\n",
    "            2024-04-15    860.010010\n",
    "            2024-04-16    874.150024\n",
    "            2024-04-17    840.349976\n",
    "            2024-04-18    846.710022\n",
    "            2024-04-19    762.000000\n",
    "            2024-04-22    795.179993\n",
    "            \"\"\";\n",
    "\n",
    "        sb.AppendLine(stockData);\n",
    "\n",
    "        return sb.ToString();\n",
    "    }\n",
    "\n",
    "    /// <summary>\n",
    "    /// Plot candle line chart for stock price data.\n",
    "    /// </summary>\n",
    "    /// <param name=\"symbol\">stock symbol.</param>\n",
    "    /// <param name=\"close\">close price.</param>\n",
    "    /// <param name=\"date\">date, in the format of YYYY-MM-dd</param>\n",
    "    [KernelFunction]\n",
    "    [Description(\"Plot candle line chart for stock price data.\")]\n",
    "    public async Task<string> PlotStockLineChart(\n",
    "        [Description(\"stock symbol\")]string symbol,\n",
    "        [Description(\"close price\")]float[] close,\n",
    "        [Description(\"date, in the format of YYYY-MM-dd\")]string[] date)\n",
    "    {\n",
    "        var title = $\"Stock Price Performance of {symbol} from {date[0]} to {date[^1]}\";\n",
    "\n",
    "        // copy img/nvidia-plot.png to workDir/{title}.png\n",
    "        var targetPath = Path.Combine(workDir, $\"{title}.png\");\n",
    "        var imgPath = Path.Combine(\"img\", \"nvidia-plot.png\");\n",
    "        File.Copy(imgPath, targetPath, true);\n",
    "\n",
    "        var reply = $\"\"\"\n",
    "            Stock price data has been plotted.\n",
    "            You can view the chart at {targetPath}\n",
    "            \"\"\";\n",
    "\n",
    "        return reply;\n",
    "    }\n",
    "}\n",
    "\n",
    "var kernel = new Kernel();\n",
    "var marketTools = new MarketTools(workingDirectory);\n",
    "var marketToolsPlugin = kernel.ImportPluginFromObject(marketTools);\n",
    "var marketToolsPluginMiddleware = new KernelPluginMiddleware(kernel, marketToolsPlugin);"
   ]
  },
  {
   "cell_type": "code",
   "execution_count": 15,
   "metadata": {
    "vscode": {
     "languageId": "polyglot-notebook"
    }
   },
   "outputs": [],
   "source": [
    "var marketWatcher = new OpenAIChatAgent(\n",
    "    openAIClient: openaiClient,\n",
    "    name: \"Market_Watcher\",\n",
    "    modelName: openAIModel,\n",
    "    systemMessage: \"\"\"\n",
    "    You are Market Watcher. You can gather stock price data.\n",
    "    \"\"\")\n",
    "    .RegisterMessageConnector()\n",
    "    .RegisterMiddleware(marketToolsPluginMiddleware)\n",
    "    .RegisterPrintMessage();"
   ]
  },
  {
   "cell_type": "code",
   "execution_count": 16,
   "metadata": {
    "vscode": {
     "languageId": "polyglot-notebook"
    }
   },
   "outputs": [],
   "source": [
    "var dataAnalyst = new OpenAIChatAgent(\n",
    "    openAIClient: openaiClient,\n",
    "    name: \"Data_Analyst\",\n",
    "    modelName: openAIModel,\n",
    "    systemMessage: \"\"\"\n",
    "    You are Data Analyst. You can plot stock price data.\n",
    "    \"\"\")\n",
    "    .RegisterMessageConnector()\n",
    "    .RegisterMiddleware(marketToolsPluginMiddleware)\n",
    "    .RegisterPrintMessage();"
   ]
  },
  {
   "cell_type": "code",
   "execution_count": 17,
   "metadata": {
    "vscode": {
     "languageId": "polyglot-notebook"
    }
   },
   "outputs": [],
   "source": [
    "var writer = new OpenAIChatAgent(\n",
    "    openAIClient: openaiClient,\n",
    "    name: \"Writer\",\n",
    "    modelName: openAIModel,\n",
    "    systemMessage: \"\"\"\n",
    "    Please write blogs in markdown format (with relevant titles) and put the content in pseudo ```md``` code block.\n",
    "    You take feedback from the admin and refine your blog.\n",
    "    \"\"\")\n",
    "    .RegisterMessageConnector()\n",
    "    .RegisterPrintMessage();"
   ]
  },
  {
   "cell_type": "markdown",
   "metadata": {},
   "source": [
    "#### Define the group chat\n",
    "\n",
    "Create a group chat admin to orchestrate the group chat\n",
    "\n",
    "The admin will be responsible for selecting the next speaker\n",
    "\n",
    "It will not directly participate in the conversation"
   ]
  },
  {
   "cell_type": "code",
   "execution_count": 18,
   "metadata": {
    "vscode": {
     "languageId": "polyglot-notebook"
    }
   },
   "outputs": [],
   "source": [
    "var groupChatAdminAgent = new OpenAIChatAgent(\n",
    "    openAIClient: openaiClient,\n",
    "    name: \"Admin\",\n",
    "    modelName: openAIModel)\n",
    "    .RegisterMessageConnector();"
   ]
  },
  {
   "cell_type": "markdown",
   "metadata": {},
   "source": [
    "Add a speaker selection policy using workflow"
   ]
  },
  {
   "cell_type": "code",
   "execution_count": 19,
   "metadata": {
    "vscode": {
     "languageId": "polyglot-notebook"
    }
   },
   "outputs": [],
   "source": [
    "var workflow = new Graph();\n",
    "\n",
    "// user <=> planner\n",
    "workflow.AddTransition(Transition.Create(user, planner));\n",
    "workflow.AddTransition(Transition.Create(planner, user));\n",
    "\n",
    "// planner <=> marketWatcher\n",
    "workflow.AddTransition(Transition.Create(planner, marketWatcher));\n",
    "workflow.AddTransition(Transition.Create(marketWatcher, planner));\n",
    "\n",
    "// planner <=> dataAnalyst\n",
    "workflow.AddTransition(Transition.Create(planner, dataAnalyst));\n",
    "workflow.AddTransition(Transition.Create(dataAnalyst, planner));\n",
    "\n",
    "// planner <=> writer\n",
    "workflow.AddTransition(Transition.Create(planner, writer));\n",
    "workflow.AddTransition(Transition.Create(writer, planner));"
   ]
  },
  {
   "cell_type": "markdown",
   "metadata": {},
   "source": [
    "Create a group chat"
   ]
  },
  {
   "cell_type": "code",
   "execution_count": 23,
   "metadata": {
    "vscode": {
     "languageId": "polyglot-notebook"
    }
   },
   "outputs": [],
   "source": [
    "var groupChat = new GroupChat(\n",
    "    admin: groupChatAdminAgent,\n",
    "    workflow: workflow,\n",
    "    members: [user, planner, marketWatcher, dataAnalyst, writer]);\n",
    "\n",
    "// Add agent self-description as inital messages.\n",
    "groupChat.AddInitializeMessage(new TextMessage(Role.Assistant, \"I am market watcher. I can gather stock price data.\", from: marketWatcher.Name));\n",
    "groupChat.AddInitializeMessage(new TextMessage(Role.Assistant, \"I am data analyst. I can plot stock price data.\", from: dataAnalyst.Name));\n",
    "groupChat.AddInitializeMessage(new TextMessage(Role.Assistant, \"I am writer. I can write blogs in markdown format.\", from: writer.Name));"
   ]
  },
  {
   "cell_type": "markdown",
   "metadata": {},
   "source": [
    "start the group chat!"
   ]
  },
  {
   "cell_type": "code",
   "execution_count": 26,
   "metadata": {
    "vscode": {
     "languageId": "polyglot-notebook"
    }
   },
   "outputs": [
    {
     "name": "stdout",
     "output_type": "stream",
     "text": [
      "from: Planner\n",
      "1. Market_Watcher: Gather Nvidia's stock price data for the past month up to today's date (2024-04-23).\n",
      "2. Data_Analyst: Plot the stock price data for Nvidia for the past month to analyze its performance.\n",
      "3. Writer: Write a blog post in markdown format discussing Nvidia's stock price performance in the past month based on the analysis.\n",
      "\n",
      "Let's start with step 1. Market_Watcher, please gather Nvidia's stock price data for the past month up to today's date (2024-04-23).\n",
      "\n",
      "AggregateMessage from Market_Watcher\n",
      "--------------------\n",
      "ToolCallMessage:\n",
      "ToolCallMessage from Market_Watcher\n",
      "--------------------\n",
      "- RetrieveStockPrice: {\"symbol\":\"NVDA\",\"from\":\"2024-03-23\",\"to\":\"2024-04-23\"}\n",
      "--------------------\n",
      "\n",
      "ToolCallResultMessage:\n",
      "ToolCallResultMessage from Market_Watcher\n",
      "--------------------\n",
      "- RetrieveStockPrice: Retrieving stock price data for NVDA from 2024-03-23 to 2024-04-23...\n",
      "2024-03-25    950.020020\n",
      "2024-03-26    925.609985\n",
      "2024-03-27    902.500000\n",
      "2024-03-28    903.559998\n",
      "2024-04-01    903.630005\n",
      "2024-04-02    894.520020\n",
      "2024-04-03    889.640015\n",
      "2024-04-04    859.049988\n",
      "2024-04-05    880.080017\n",
      "2024-04-08    871.330017\n",
      "2024-04-09    853.539978\n",
      "2024-04-10    870.390015\n",
      "2024-04-11    906.159973\n",
      "2024-04-12    881.859985\n",
      "2024-04-15    860.010010\n",
      "2024-04-16    874.150024\n",
      "2024-04-17    840.349976\n",
      "2024-04-18    846.710022\n",
      "2024-04-19    762.000000\n",
      "2024-04-22    795.179993\n",
      "\n",
      "--------------------\n",
      "\n",
      "--------------------\n",
      "\n",
      "from: Planner\n",
      "Great job, Market_Watcher! You have successfully gathered Nvidia's stock price data from 2024-03-23 to 2024-04-23. \n",
      "\n",
      "Next, Data_Analyst, please plot the stock price data for Nvidia to analyze its performance in the past month.\n",
      "\n"
     ]
    },
    {
     "ename": "Error",
     "evalue": "Azure.RequestFailedException: The model produced invalid content. Consider modifying your prompt if you are seeing this error persistently.\r\nStatus: 500 (Internal Server Error)\r\n\r\nContent:\r\n{\n  \"error\": {\n    \"message\": \"The model produced invalid content. Consider modifying your prompt if you are seeing this error persistently.\",\n    \"type\": \"model_error\",\n    \"param\": null,\n    \"code\": null\n  }\n}\r\n\r\nHeaders:\r\nDate: Sat, 20 Jul 2024 00:19:17 GMT\r\nConnection: keep-alive\r\nopenai-organization: REDACTED\r\nopenai-processing-ms: REDACTED\r\nopenai-version: REDACTED\r\nStrict-Transport-Security: REDACTED\r\nx-ratelimit-limit-requests: REDACTED\r\nx-ratelimit-limit-tokens: REDACTED\r\nx-ratelimit-remaining-requests: REDACTED\r\nx-ratelimit-remaining-tokens: REDACTED\r\nx-ratelimit-reset-requests: REDACTED\r\nx-ratelimit-reset-tokens: REDACTED\r\nX-Request-ID: REDACTED\r\nCF-Cache-Status: REDACTED\r\nSet-Cookie: REDACTED\r\nX-Content-Type-Options: REDACTED\r\nServer: cloudflare\r\nCF-RAY: REDACTED\r\nAlt-Svc: REDACTED\r\nContent-Type: application/json\r\nContent-Length: 211\r\n\r\n   at Azure.Core.HttpPipelineExtensions.ProcessMessageAsync(HttpPipeline pipeline, HttpMessage message, RequestContext requestContext, CancellationToken cancellationToken)\r\n   at Azure.AI.OpenAI.OpenAIClient.GetChatCompletionsAsync(ChatCompletionsOptions chatCompletionsOptions, CancellationToken cancellationToken)\r\n   at AutoGen.OpenAI.OpenAIChatAgent.GenerateReplyAsync(IEnumerable`1 messages, GenerateReplyOptions options, CancellationToken cancellationToken)\r\n   at AutoGen.OpenAI.OpenAIChatRequestMessageConnector.InvokeAsync(MiddlewareContext context, IAgent agent, CancellationToken cancellationToken)\r\n   at AutoGen.Core.FunctionCallMiddleware.InvokeAsync(MiddlewareContext context, IAgent agent, CancellationToken cancellationToken)\r\n   at AutoGen.Core.PrintMessageMiddleware.InvokeAsync(MiddlewareContext context, IAgent agent, CancellationToken cancellationToken)\r\n   at AutoGen.Core.GroupChat.CallAsync(IEnumerable`1 chatHistory, Int32 maxRound, CancellationToken ct)\r\n   at Submission#27.<<Initialize>>d__0.MoveNext()\r\n--- End of stack trace from previous location ---\r\n   at Microsoft.CodeAnalysis.Scripting.ScriptExecutionState.RunSubmissionsAsync[TResult](ImmutableArray`1 precedingExecutors, Func`2 currentExecutor, StrongBox`1 exceptionHolderOpt, Func`2 catchExceptionOpt, CancellationToken cancellationToken)",
     "output_type": "error",
     "traceback": [
      "Azure.RequestFailedException: The model produced invalid content. Consider modifying your prompt if you are seeing this error persistently.\r\n",
      "Status: 500 (Internal Server Error)\r\n",
      "\r\n",
      "Content:\r\n",
      "{\n",
      "  \"error\": {\n",
      "    \"message\": \"The model produced invalid content. Consider modifying your prompt if you are seeing this error persistently.\",\n",
      "    \"type\": \"model_error\",\n",
      "    \"param\": null,\n",
      "    \"code\": null\n",
      "  }\n",
      "}\r\n",
      "\r\n",
      "Headers:\r\n",
      "Date: Sat, 20 Jul 2024 00:19:17 GMT\r\n",
      "Connection: keep-alive\r\n",
      "openai-organization: REDACTED\r\n",
      "openai-processing-ms: REDACTED\r\n",
      "openai-version: REDACTED\r\n",
      "Strict-Transport-Security: REDACTED\r\n",
      "x-ratelimit-limit-requests: REDACTED\r\n",
      "x-ratelimit-limit-tokens: REDACTED\r\n",
      "x-ratelimit-remaining-requests: REDACTED\r\n",
      "x-ratelimit-remaining-tokens: REDACTED\r\n",
      "x-ratelimit-reset-requests: REDACTED\r\n",
      "x-ratelimit-reset-tokens: REDACTED\r\n",
      "X-Request-ID: REDACTED\r\n",
      "CF-Cache-Status: REDACTED\r\n",
      "Set-Cookie: REDACTED\r\n",
      "X-Content-Type-Options: REDACTED\r\n",
      "Server: cloudflare\r\n",
      "CF-RAY: REDACTED\r\n",
      "Alt-Svc: REDACTED\r\n",
      "Content-Type: application/json\r\n",
      "Content-Length: 211\r\n",
      "\r\n",
      "   at Azure.Core.HttpPipelineExtensions.ProcessMessageAsync(HttpPipeline pipeline, HttpMessage message, RequestContext requestContext, CancellationToken cancellationToken)\r\n",
      "   at Azure.AI.OpenAI.OpenAIClient.GetChatCompletionsAsync(ChatCompletionsOptions chatCompletionsOptions, CancellationToken cancellationToken)\r\n",
      "   at AutoGen.OpenAI.OpenAIChatAgent.GenerateReplyAsync(IEnumerable`1 messages, GenerateReplyOptions options, CancellationToken cancellationToken)\r\n",
      "   at AutoGen.OpenAI.OpenAIChatRequestMessageConnector.InvokeAsync(MiddlewareContext context, IAgent agent, CancellationToken cancellationToken)\r\n",
      "   at AutoGen.Core.FunctionCallMiddleware.InvokeAsync(MiddlewareContext context, IAgent agent, CancellationToken cancellationToken)\r\n",
      "   at AutoGen.Core.PrintMessageMiddleware.InvokeAsync(MiddlewareContext context, IAgent agent, CancellationToken cancellationToken)\r\n",
      "   at AutoGen.Core.GroupChat.CallAsync(IEnumerable`1 chatHistory, Int32 maxRound, CancellationToken ct)\r\n",
      "   at Submission#27.<<Initialize>>d__0.MoveNext()\r\n",
      "--- End of stack trace from previous location ---\r\n",
      "   at Microsoft.CodeAnalysis.Scripting.ScriptExecutionState.RunSubmissionsAsync[TResult](ImmutableArray`1 precedingExecutors, Func`2 currentExecutor, StrongBox`1 exceptionHolderOpt, Func`2 catchExceptionOpt, CancellationToken cancellationToken)"
     ]
    }
   ],
   "source": [
    "var chatHistory = new List<IMessage>()\n",
    "{\n",
    "    new TextMessage(Role.User, task, from: user.Name),\n",
    "};\n",
    "\n",
    "var maxTurn = 20;\n",
    "while (maxTurn > 0)\n",
    "{\n",
    "    var replies = await groupChat.CallAsync(chatHistory, maxRound: 1);\n",
    "    var reply = replies.Last();\n",
    "    chatHistory.Add(reply);\n",
    "    maxTurn--;\n",
    "\n",
    "    if (reply.GetContent()?.ToLower().Contains(\"task completed\") is true\n",
    "     && replies.Where(c => c.From == writer.Name).Any())\n",
    "    {\n",
    "        break;\n",
    "    }\n",
    "}"
   ]
  }
 ],
 "metadata": {
  "kernelspec": {
   "display_name": ".NET (C#)",
   "language": "C#",
   "name": ".net-csharp"
  },
  "language_info": {
   "name": "python"
  },
  "polyglot_notebook": {
   "kernelInfo": {
    "defaultKernelName": "csharp",
    "items": [
     {
      "aliases": [],
      "name": "csharp"
     }
    ]
   }
  }
 },
 "nbformat": 4,
 "nbformat_minor": 2
}
