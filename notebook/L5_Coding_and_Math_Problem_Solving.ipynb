{
 "cells": [
  {
   "cell_type": "markdown",
   "metadata": {},
   "source": [
    "#### Lesson 5: Coding and Math Problem Solving\n",
    "\n",
    "The python version of this lesson is Coding and Financial Analysis. Because of lacking financial and plotting library in dotnet, it is very challenging for GPT to analyze financial data using C# as programming language. So I change the topic to Coding and Math Problem Solving."
   ]
  },
  {
   "cell_type": "markdown",
   "metadata": {},
   "source": [
    "#### Setup"
   ]
  },
  {
   "cell_type": "code",
   "execution_count": 1,
   "metadata": {
    "dotnet_interactive": {
     "language": "csharp"
    },
    "polyglot_notebook": {
     "kernelName": "csharp"
    },
    "vscode": {
     "languageId": "polyglot-notebook"
    }
   },
   "outputs": [
    {
     "data": {
      "text/html": [
       "<div><div></div><div></div><div><strong>Installed Packages</strong><ul><li><span>AutoGen, 0.2.0</span></li><li><span>AutoGen.DotnetInteractive, 0.2.0</span></li></ul></div></div>"
      ]
     },
     "metadata": {},
     "output_type": "display_data"
    }
   ],
   "source": [
    "#r \"nuget:AutoGen,0.2.0\"\n",
    "#r \"nuget:AutoGen.DotnetInteractive,0.2.0\"\n",
    "#load \"util.csx\"\n",
    "\n",
    "using AutoGen.Core;\n",
    "using AutoGen.OpenAI;\n",
    "using AutoGen.OpenAI.Extension;\n",
    "using AutoGen.DotnetInteractive;\n",
    "using AutoGen.DotnetInteractive.Extension;\n",
    "using OpenAI;\n",
    "using OpenAI.Chat;\n",
    "using System.Threading;\n",
    "using System.IO;\n",
    "using System.Reactive.Linq;\n",
    "using Microsoft.DotNet.Interactive;\n",
    "using Microsoft.DotNet.Interactive.Events;\n",
    "\n",
    "var chatClient = ChatClientProvider.Create(\"gpt-4o-mini\");"
   ]
  },
  {
   "cell_type": "markdown",
   "metadata": {},
   "source": [
    "Agent with code executor configuration. Because we are in dotnet interactive notebook, we can simply using the dotnet interactive kernel to execute the code.\n",
    "\n",
    "The code below retreive the csharp code between ```csharp and  ``` and send it to dotnet interactive kernel to execute."
   ]
  },
  {
   "cell_type": "code",
   "execution_count": 2,
   "metadata": {
    "dotnet_interactive": {
     "language": "csharp"
    },
    "polyglot_notebook": {
     "kernelName": "csharp"
    },
    "vscode": {
     "languageId": "polyglot-notebook"
    }
   },
   "outputs": [],
   "source": [
    "// Agent with code executor configuration\n",
    "var codeExecutorAgent = new DefaultReplyAgent(\n",
    "    name: \"code_executor_agent\",\n",
    "    defaultReply: \"no code to execute\")\n",
    "    .RegisterMiddleware(async (msgs, option, next, ct) =>\n",
    "    {\n",
    "        // check if the last message contain csharp code blcok\n",
    "        var lastMsg = msgs.LastOrDefault();\n",
    "        if (lastMsg?.ExtractCodeBlock(\"```csharp\", \"```\") is string csharpCode)\n",
    "        {\n",
    "            var events = new List<DisplayEvent>();\n",
    "            Kernel.Current.RootKernel.KernelEvents.OfType<DisplayEvent>().Subscribe(e => events.Add(e));\n",
    "            var kernelCommandResult = await Kernel.Current.RootKernel.SubmitCodeAsync(csharpCode);\n",
    "            var displayValues = events.Where(x => x is StandardErrorValueProduced || x is StandardOutputValueProduced || x is ReturnValueProduced)\n",
    "                .SelectMany(x => (x as DisplayEvent)!.FormattedValues);\n",
    "            \n",
    "            if (displayValues is null || displayValues.Count() == 0)\n",
    "            {\n",
    "                return new TextMessage(Role.Assistant, \"No output\", from: next.Name);\n",
    "            }\n",
    "            \n",
    "            var codeResult = string.Join(\"\\n\", displayValues.Select(x => x.Value));\n",
    "            \n",
    "            return new TextMessage(Role.Assistant, codeResult ?? string.Empty, from: next.Name);\n",
    "        }\n",
    "\n",
    "        return await next.GenerateReplyAsync(msgs, option, ct);\n",
    "    })\n",
    "    .RegisterPrintMessage();"
   ]
  },
  {
   "cell_type": "markdown",
   "metadata": {},
   "source": [
    "Agent with dotnet coding writing capability"
   ]
  },
  {
   "cell_type": "code",
   "execution_count": 3,
   "metadata": {
    "dotnet_interactive": {
     "language": "csharp"
    },
    "polyglot_notebook": {
     "kernelName": "csharp"
    },
    "vscode": {
     "languageId": "polyglot-notebook"
    }
   },
   "outputs": [],
   "source": [
    "var coderAgent = new OpenAIChatAgent(\n",
    "    chatClient: chatClient,\n",
    "    name: \"code_writer_agent\",\n",
    "    systemMessage: \"\"\"\n",
    "    You act as dotnet coder, you write dotnet code to resolve task. Once you finish writing code, ask runner to run the code for you.\n",
    "\n",
    "    Here're some rules to follow on writing dotnet code:\n",
    "    - put code between ```csharp and ```\n",
    "    - When creating http client, use `var httpClient = new HttpClient()`. Don't use `using var httpClient = new HttpClient()` because it will cause error when running the code.\n",
    "    - Try to use `var` instead of explicit type.\n",
    "    - Try avoid using external library, use .NET Core library instead.\n",
    "    - Use top level statement to write code.\n",
    "    - Always print out the result to console. Don't write code that doesn't print out anything.\n",
    "    \n",
    "    If you need to install nuget packages, put nuget packages in the following format:\n",
    "    ```nuget\n",
    "    nuget_package_name\n",
    "    ```\n",
    "    \n",
    "    If your code is incorrect, Fix the error and send the code again.\n",
    "    Once the task is resolved, say 'task completed' to finish the task.\n",
    "    \"\"\",\n",
    "    temperature: 0.4f)\n",
    "    .RegisterMessageConnector()\n",
    "    .RegisterPrintMessage();"
   ]
  },
  {
   "cell_type": "markdown",
   "metadata": {},
   "source": [
    "The task!"
   ]
  },
  {
   "cell_type": "code",
   "execution_count": 4,
   "metadata": {
    "dotnet_interactive": {
     "language": "csharp"
    },
    "polyglot_notebook": {
     "kernelName": "csharp"
    },
    "vscode": {
     "languageId": "polyglot-notebook"
    }
   },
   "outputs": [],
   "source": [
    "var task = \"\"\"\n",
    "    calculate the 39th fibonacci number and save the result to result.txt\n",
    "    \"\"\";"
   ]
  },
  {
   "cell_type": "markdown",
   "metadata": {},
   "source": [
    "Start the conversation to resolve the task."
   ]
  },
  {
   "cell_type": "code",
   "execution_count": 5,
   "metadata": {
    "dotnet_interactive": {
     "language": "csharp"
    },
    "polyglot_notebook": {
     "kernelName": "csharp"
    },
    "vscode": {
     "languageId": "polyglot-notebook"
    }
   },
   "outputs": [
    {
     "name": "stdout",
     "output_type": "stream",
     "text": [
      "from: code_writer_agent\n",
      "```csharp\n",
      "using System;\n",
      "using System.IO;\n",
      "\n",
      "var fibonacci = new long[40];\n",
      "fibonacci[0] = 0;\n",
      "fibonacci[1] = 1;\n",
      "\n",
      "for (var i = 2; i <= 39; i++)\n",
      "{\n",
      "    fibonacci[i] = fibonacci[i - 1] + fibonacci[i - 2];\n",
      "}\n",
      "\n",
      "var result = fibonacci[39];\n",
      "File.WriteAllText(\"result.txt\", result.ToString());\n",
      "Console.WriteLine($\"The 39th Fibonacci number is: {result}\");\n",
      "```\n",
      "\n",
      "Please run the code.\n",
      "\n",
      "The 39th Fibonacci number is: 63245986\n",
      "TextMessage from code_executor_agent\n",
      "--------------------\n",
      "The 39th Fibonacci number is: 63245986\n",
      "\n",
      "--------------------\n",
      "\n",
      "from: code_writer_agent\n",
      "Task completed.\n",
      "\n"
     ]
    }
   ],
   "source": [
    "var chatHistory = new List<IMessage>()\n",
    "{\n",
    "    new TextMessage(Role.Assistant, task, from: codeExecutorAgent.Name),\n",
    "};\n",
    "\n",
    "await foreach(var reply in coderAgent.SendAsync(receiver: codeExecutorAgent, chatHistory: chatHistory, maxRound: 10))\n",
    "{\n",
    "\n",
    "    if (reply.GetContent()?.ToLower().Contains(\"task completed\") == true)\n",
    "    {\n",
    "        break;\n",
    "    }\n",
    "    else\n",
    "    {\n",
    "        chatHistory.Add(reply);\n",
    "    }\n",
    "}"
   ]
  }
 ],
 "metadata": {
  "kernelspec": {
   "display_name": ".NET (C#)",
   "language": "C#",
   "name": ".net-csharp"
  },
  "language_info": {
   "name": "python"
  },
  "polyglot_notebook": {
   "kernelInfo": {
    "defaultKernelName": "csharp",
    "items": [
     {
      "aliases": [
       "C#",
       "c#"
      ],
      "languageName": "C#",
      "name": "csharp"
     },
     {
      "aliases": [],
      "languageName": "HTTP",
      "name": "http"
     }
    ]
   }
  }
 },
 "nbformat": 4,
 "nbformat_minor": 2
}
