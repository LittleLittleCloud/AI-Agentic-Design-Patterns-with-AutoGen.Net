{
 "cells": [
  {
   "cell_type": "markdown",
   "metadata": {},
   "source": [
    "#### Lesson 3: Reflection and Blogpost Writing"
   ]
  },
  {
   "cell_type": "markdown",
   "metadata": {},
   "source": [
    "#### Setup"
   ]
  },
  {
   "cell_type": "code",
   "execution_count": 1,
   "metadata": {
    "dotnet_interactive": {
     "language": "csharp"
    },
    "polyglot_notebook": {
     "kernelName": "csharp"
    },
    "vscode": {
     "languageId": "polyglot-notebook"
    }
   },
   "outputs": [
    {
     "data": {
      "text/html": [
       "<div><div></div><div></div><div><strong>Installed Packages</strong><ul><li><span>AutoGen, 0.2.0</span></li></ul></div></div>"
      ]
     },
     "metadata": {},
     "output_type": "display_data"
    }
   ],
   "source": [
    "#r \"nuget:AutoGen,0.2.0\"\n",
    "#load \"util.csx\"\n",
    "\n",
    "using AutoGen.Core;\n",
    "using AutoGen.OpenAI;\n",
    "using AutoGen.OpenAI.Extension;\n",
    "using System.Threading;\n",
    "using OpenAI;\n",
    "using OpenAI.Chat;\n",
    "\n",
    "var chatClient = ChatClientProvider.Create(\"gpt-4o-mini\");"
   ]
  },
  {
   "cell_type": "markdown",
   "metadata": {},
   "source": [
    "The Task!"
   ]
  },
  {
   "cell_type": "code",
   "execution_count": 2,
   "metadata": {
    "dotnet_interactive": {
     "language": "csharp"
    },
    "polyglot_notebook": {
     "kernelName": "csharp"
    },
    "vscode": {
     "languageId": "polyglot-notebook"
    }
   },
   "outputs": [],
   "source": [
    "var task = \"\"\"\n",
    "    Write a concise but engaging blogpost about\n",
    "    DeepLearning.AI. Make sure the blogpost is\n",
    "    within 100 words.\n",
    "    \"\"\";"
   ]
  },
  {
   "cell_type": "markdown",
   "metadata": {},
   "source": [
    "Create a writer agent"
   ]
  },
  {
   "cell_type": "code",
   "execution_count": 3,
   "metadata": {
    "dotnet_interactive": {
     "language": "csharp"
    },
    "polyglot_notebook": {
     "kernelName": "csharp"
    },
    "vscode": {
     "languageId": "polyglot-notebook"
    }
   },
   "outputs": [
    {
     "name": "stdout",
     "output_type": "stream",
     "text": [
      "from: Writer\n",
      "**Unlocking AI Potential: DeepLearning.AI**\n",
      "\n",
      "DeepLearning.AI is at the forefront of artificial intelligence education, empowering individuals and organizations to harness the power of deep learning. Founded by AI pioneer Andrew Ng, this platform offers a range of online courses, specializations, and resources tailored for both beginners and experienced practitioners. With a hands-on approach, learners dive into neural networks, data science, and real-world applications, bridging the gap between theory and practice. As AI continues to reshape industries, DeepLearning.AI equips the next generation of innovators with the skills needed to thrive in this dynamic landscape. Join the AI revolution and elevate your expertise today!\n",
      "\n"
     ]
    }
   ],
   "source": [
    "var writer = new OpenAIChatAgent(\n",
    "    chatClient: chatClient,\n",
    "    name: \"Writer\",\n",
    "    systemMessage: \"\"\"\n",
    "    You are a writer. You write engaging and concise blogpost (with title) on given topics.\n",
    "    You must polish your writing based on the feedback you receive and give a refined version.\n",
    "    Only return your final work without additional comments.\"\n",
    "    \"\"\")\n",
    "    .RegisterMessageConnector()\n",
    "    .RegisterPrintMessage();\n",
    "\n",
    "var reply = await writer.SendAsync(task);"
   ]
  },
  {
   "cell_type": "markdown",
   "metadata": {},
   "source": [
    "Adding reflection by creating a critic agent to reflect on the work of the writer agent."
   ]
  },
  {
   "cell_type": "code",
   "execution_count": 4,
   "metadata": {
    "dotnet_interactive": {
     "language": "csharp"
    },
    "polyglot_notebook": {
     "kernelName": "csharp"
    },
    "vscode": {
     "languageId": "polyglot-notebook"
    }
   },
   "outputs": [
    {
     "name": "stdout",
     "output_type": "stream",
     "text": [
      "from: Writer\n",
      "**Unlocking the Future with DeepLearning.AI**\n",
      "\n",
      "DeepLearning.AI is revolutionizing the landscape of artificial intelligence education. Founded by AI pioneer Andrew Ng, this platform offers comprehensive courses that empower learners to master deep learning techniques. With a focus on practical applications, students gain hands-on experience through projects and real-world case studies. The community-driven approach fosters collaboration and innovation, connecting aspiring AI practitioners worldwide. Whether you're a beginner or an experienced professional, DeepLearning.AI provides the tools and knowledge to thrive in this dynamic field. Dive into the world of AI today and unlock your potential with DeepLearning.AI!\n",
      "\n",
      "from: Critic\n",
      "**Feedback:**\n",
      "\n",
      "Your blog post effectively highlights the key features of DeepLearning.AI, and the enthusiasm for the platform is palpable. However, to enhance clarity and engagement, consider these suggestions:\n",
      "\n",
      "1. **Hook:** Start with a captivating question or statistic about AI to draw readers in immediately.\n",
      "  \n",
      "2. **Brevity:** While it’s informative, aim for a tighter focus on 1-2 core benefits to stay within the word limit.\n",
      "\n",
      "3. **Call to Action:** Conclude with a stronger, more specific call to action. Instead of \"dive into the world of AI,\" suggest a specific course or resource.\n",
      "\n",
      "Here's a revised version:\n",
      "\n",
      "**Unlocking the Future with DeepLearning.AI**\n",
      "\n",
      "Are you ready to harness the power of artificial intelligence? DeepLearning.AI, founded by AI pioneer Andrew Ng, offers cutting-edge courses that equip learners with essential deep learning skills. With hands-on projects and a vibrant community, students connect and innovate globally. Whether you're just starting or looking to deepen your expertise, DeepLearning.AI provides the resources to excel. Explore their beginner-friendly courses today and step into the future of AI! \n",
      "\n",
      "This version maintains your original message while improving engagement and clarity.\n",
      "\n",
      "from: Writer\n",
      "**Unlocking the Future with DeepLearning.AI**\n",
      "\n",
      "Are you ready to harness the power of artificial intelligence? DeepLearning.AI, founded by AI pioneer Andrew Ng, offers cutting-edge courses that equip learners with essential deep learning skills. With hands-on projects and a vibrant community, students connect and innovate globally. Whether you're just starting or aiming to deepen your expertise, DeepLearning.AI provides the resources to excel. Explore their beginner-friendly courses today, like the \"Deep Learning Specialization,\" and step into the future of AI!\n",
      "\n"
     ]
    }
   ],
   "source": [
    "var critic = new OpenAIChatAgent(\n",
    "    chatClient: chatClient,\n",
    "    name: \"Critic\",\n",
    "    systemMessage: \"\"\"\n",
    "    You are a critic. You review the work of the writer and provide constructive feedback to help improve the quality of the content.\"\n",
    "    \"\"\")\n",
    "    .RegisterMessageConnector()\n",
    "    .RegisterPrintMessage();\n",
    "\n",
    "var conversation = await critic.SendAsync(\n",
    "    receiver: writer,\n",
    "    message: task,\n",
    "    maxRound: 3)\n",
    "    .ToListAsync();\n",
    "\n",
    "// Use the last message in the conversation as the final result\n",
    "var res = conversation.Last();"
   ]
  },
  {
   "cell_type": "markdown",
   "metadata": {},
   "source": [
    "#### Nested chat using middleware pattern\n",
    "Python AutoGen allows you to create a Json object task list and pass it to agent using `register_nested_chats`\n",
    "This is not supported in AutoGen.Net.\n",
    "But you can achieve the same using the middleware pattern."
   ]
  },
  {
   "cell_type": "code",
   "execution_count": 5,
   "metadata": {
    "dotnet_interactive": {
     "language": "csharp"
    },
    "polyglot_notebook": {
     "kernelName": "csharp"
    },
    "vscode": {
     "languageId": "polyglot-notebook"
    }
   },
   "outputs": [],
   "source": [
    "var SEOReviewer = new OpenAIChatAgent(\n",
    "    chatClient: chatClient,\n",
    "    name: \"SEO_Reviewer\",\n",
    "    systemMessage: \"\"\"\n",
    "    You are an SEO reviewer, known for your ability to optimize content for search engines, ensuring that it ranks well and attracts organic traffic.\n",
    "    Make sure your suggestion is concise (within 3 bullet points), concrete and to the point.\n",
    "    Begin the review by stating your role.\n",
    "    \"\"\")\n",
    "    .RegisterMessageConnector()\n",
    "    .RegisterPrintMessage();"
   ]
  },
  {
   "cell_type": "code",
   "execution_count": 6,
   "metadata": {
    "dotnet_interactive": {
     "language": "csharp"
    },
    "polyglot_notebook": {
     "kernelName": "csharp"
    },
    "vscode": {
     "languageId": "polyglot-notebook"
    }
   },
   "outputs": [],
   "source": [
    "var LegalReviewer = new OpenAIChatAgent(\n",
    "    chatClient: chatClient,\n",
    "    name: \"Legal_Reviewer\",\n",
    "    systemMessage: \"\"\"\n",
    "    You are a legal reviewer, known for your ability to ensure that content is legally compliant and free from any potential legal issues.\n",
    "    Make sure your suggestion is concise (within 3 bullet points), concrete and to the point.\n",
    "    Begin the review by stating your role.\n",
    "    \"\"\")\n",
    "    .RegisterMessageConnector()\n",
    "    .RegisterPrintMessage();"
   ]
  },
  {
   "cell_type": "code",
   "execution_count": 7,
   "metadata": {
    "dotnet_interactive": {
     "language": "csharp"
    },
    "polyglot_notebook": {
     "kernelName": "csharp"
    },
    "vscode": {
     "languageId": "polyglot-notebook"
    }
   },
   "outputs": [],
   "source": [
    "var EthicsReviewer = new OpenAIChatAgent(\n",
    "    chatClient: chatClient,\n",
    "    name: \"Ethics_Reviewer\",\n",
    "    systemMessage: \"\"\"\n",
    "    You are an ethics reviewer, known for your ability to ensure that content is ethically sound and free from any potential ethical issues.\n",
    "    Make sure your suggestion is concise (within 3 bullet points), concrete and to the point.\n",
    "    Begin the review by stating your role.\n",
    "    \"\"\")\n",
    "    .RegisterMessageConnector()\n",
    "    .RegisterPrintMessage();"
   ]
  },
  {
   "cell_type": "code",
   "execution_count": 8,
   "metadata": {
    "dotnet_interactive": {
     "language": "csharp"
    },
    "polyglot_notebook": {
     "kernelName": "csharp"
    },
    "vscode": {
     "languageId": "polyglot-notebook"
    }
   },
   "outputs": [],
   "source": [
    "var MetaReviewer = new OpenAIChatAgent(\n",
    "    chatClient: chatClient,\n",
    "    name: \"Meta_Reviewer\",\n",
    "    systemMessage: \"\"\"\n",
    "    You are a meta reviewer, you aggragate and review the work of other reviewers and give a final suggestion on the content.\"\n",
    "    \"\"\")\n",
    "    .RegisterMessageConnector()\n",
    "    .RegisterPrintMessage();"
   ]
  },
  {
   "cell_type": "markdown",
   "metadata": {},
   "source": [
    "Define nest chat middleware"
   ]
  },
  {
   "cell_type": "code",
   "execution_count": 9,
   "metadata": {
    "dotnet_interactive": {
     "language": "csharp"
    },
    "polyglot_notebook": {
     "kernelName": "csharp"
    },
    "vscode": {
     "languageId": "polyglot-notebook"
    }
   },
   "outputs": [],
   "source": [
    "class NestChatMiddleware : IMiddleware\n",
    "{\n",
    "    private readonly IAgent seo;\n",
    "    private readonly IAgent legal;\n",
    "    private readonly IAgent ethics;\n",
    "    private readonly IAgent meta;\n",
    "    private readonly IAgent writer;\n",
    "\n",
    "    public NestChatMiddleware(IAgent writer, IAgent seo, IAgent legal, IAgent ethics, IAgent meta)\n",
    "    {\n",
    "        this.writer = writer;\n",
    "        this.seo = seo;\n",
    "        this.legal = legal;\n",
    "        this.ethics = ethics;\n",
    "        this.meta = meta;\n",
    "    }\n",
    "\n",
    "    public string? Name => nameof(NestChatMiddleware);\n",
    "\n",
    "    public async Task<IMessage> InvokeAsync(MiddlewareContext context, IAgent critic, CancellationToken cancellationToken = default)\n",
    "    {\n",
    "        // trigger only when the last message is from writer\n",
    "        if (context.Messages.Last().From != writer.Name)\n",
    "        {\n",
    "            return await critic.GenerateReplyAsync(context.Messages, context.Options, cancellationToken);\n",
    "        }\n",
    "\n",
    "        var messageToReview = context.Messages.Last();\n",
    "        var reviewPrompt = $\"\"\"\n",
    "            Review the following content.\n",
    "\n",
    "            {messageToReview.GetContent()}\n",
    "            \"\"\";\n",
    "        // SEO Review\n",
    "        var seoReview = await critic.SendAsync(\n",
    "            receiver: seo,\n",
    "            message: reviewPrompt,\n",
    "            maxRound: 1)\n",
    "            .ToListAsync();\n",
    "        var legalReview = await critic.SendAsync(\n",
    "            receiver: legal,\n",
    "            message: reviewPrompt,\n",
    "            maxRound: 1)\n",
    "            .ToListAsync();\n",
    "\n",
    "        var ethicsReview = await critic.SendAsync(\n",
    "            receiver: ethics,\n",
    "            message: reviewPrompt,\n",
    "            maxRound: 1)\n",
    "            .ToListAsync();\n",
    "\n",
    "        var reviews = seoReview.Concat(legalReview).Concat(ethicsReview);\n",
    "\n",
    "        var metaReview = await critic.SendAsync(\n",
    "            receiver: meta,\n",
    "            message: \"Aggregrate feedback from all reviewers and give final suggestions on the writing.\",\n",
    "            chatHistory: reviews,\n",
    "            maxRound: 1)\n",
    "            .ToListAsync();\n",
    "\n",
    "        var lastReview = metaReview.Last();\n",
    "        lastReview.From = critic.Name;\n",
    "\n",
    "        return lastReview;\n",
    "    }\n",
    "}"
   ]
  },
  {
   "cell_type": "code",
   "execution_count": 10,
   "metadata": {
    "dotnet_interactive": {
     "language": "csharp"
    },
    "polyglot_notebook": {
     "kernelName": "csharp"
    },
    "vscode": {
     "languageId": "polyglot-notebook"
    }
   },
   "outputs": [],
   "source": [
    "// Orchestrate the nested chats to solve the task\n",
    "var middleware = new NestChatMiddleware(\n",
    "    writer: writer,\n",
    "    seo: SEOReviewer,\n",
    "    legal: LegalReviewer,\n",
    "    ethics: EthicsReviewer,\n",
    "    meta: MetaReviewer);"
   ]
  },
  {
   "cell_type": "code",
   "execution_count": 11,
   "metadata": {
    "dotnet_interactive": {
     "language": "csharp"
    },
    "polyglot_notebook": {
     "kernelName": "csharp"
    },
    "vscode": {
     "languageId": "polyglot-notebook"
    }
   },
   "outputs": [],
   "source": [
    "var nestChatCritic = critic\n",
    "    .RegisterMiddleware(middleware)\n",
    "    .RegisterPrintMessage();"
   ]
  },
  {
   "cell_type": "code",
   "execution_count": 12,
   "metadata": {
    "dotnet_interactive": {
     "language": "csharp"
    },
    "polyglot_notebook": {
     "kernelName": "csharp"
    },
    "vscode": {
     "languageId": "polyglot-notebook"
    }
   },
   "outputs": [
    {
     "name": "stdout",
     "output_type": "stream",
     "text": [
      "from: Writer\n",
      "**Unlocking the Future with DeepLearning.AI**\n",
      "\n",
      "DeepLearning.AI is at the forefront of artificial intelligence education, empowering individuals and organizations with essential skills in deep learning and machine learning. Founded by AI pioneer Andrew Ng, it offers comprehensive courses that simplify complex concepts, making them accessible to all. With a focus on practical applications, learners can engage in hands-on projects that enhance their understanding and bolster their resumes. As AI continues to shape industries worldwide, DeepLearning.AI equips the next generation of innovators with the tools they need to thrive in a data-driven world. Embrace the AI revolution and elevate your career today!\n",
      "\n",
      "from: SEO_Reviewer\n",
      "As an SEO reviewer, here are my suggestions to optimize the content for better search engine visibility:\n",
      "\n",
      "- **Incorporate Target Keywords**: Include relevant keywords such as \"artificial intelligence courses,\" \"deep learning training,\" and \"machine learning skills\" throughout the content to enhance search ranking potential.\n",
      "  \n",
      "- **Enhance Meta Tags**: Create a compelling meta title and description that encapsulates the essence of the content while including primary keywords to improve click-through rates from search results.\n",
      "\n",
      "- **Add Internal and External Links**: Integrate internal links to related content on your site and credible external sources to improve credibility and keep readers engaged longer, which can positively affect SEO rankings.\n",
      "\n",
      "from: Legal_Reviewer\n",
      "As a legal reviewer, here are my suggestions for the content:\n",
      "\n",
      "- **Trademark and Copyright Considerations**: Ensure that \"DeepLearning.AI\" and any referenced materials are properly trademarked and that you have permission to use any copyrighted content, including any proprietary images or course materials.\n",
      "\n",
      "- **Disclaimers**: Include a disclaimer about the results of the courses, such as stating that individual success may vary and that the organization does not guarantee job placement or salary increases.\n",
      "\n",
      "- **Compliance with Educational Regulations**: Verify that the courses comply with local educational regulations and standards, especially if targeting learners in different jurisdictions, to avoid potential legal issues.\n",
      "\n",
      "from: Ethics_Reviewer\n",
      "As an ethics reviewer, I have analyzed the provided content for ethical considerations. Here are my suggestions:\n",
      "\n",
      "- **Transparency**: Ensure that the content includes information about the qualifications of the instructors and the scientific validity of the course material to uphold credibility and trustworthiness.\n",
      "- **Inclusivity**: Highlight efforts made by DeepLearning.AI to accommodate diverse learning needs and backgrounds, ensuring that the educational offerings are accessible to a broad audience.\n",
      "- **Data Privacy**: Include a statement addressing how learner data is protected and used, as ethical considerations around data privacy are crucial in educational settings, especially in AI.\n",
      "\n",
      "from: Meta_Reviewer\n",
      "Based on the aggregated feedback from the SEO, Legal, and Ethics reviewers, here are the final suggestions for optimizing the content:\n",
      "\n",
      "1. **Keyword Optimization**: Incorporate relevant keywords such as \"artificial intelligence courses,\" \"deep learning training,\" and \"machine learning skills\" strategically throughout the content. This will enhance search engine visibility and attract a targeted audience.\n",
      "\n",
      "2. **Meta Tags Improvement**: Create a compelling meta title and description that encapsulate the essence of the content while including primary keywords. This will improve click-through rates from search results and bolster SEO performance.\n",
      "\n",
      "3. **Internal and External Linking**: Integrate internal links to related content on your site and credible external sources. This will improve the content's credibility, keep readers engaged longer, and positively affect SEO rankings.\n",
      "\n",
      "4. **Legal Considerations**:\n",
      "   - Ensure that all trademarks (e.g., \"DeepLearning.AI\") are properly acknowledged, and confirm that you have permission for any copyrighted materials used.\n",
      "   - Include disclaimers about the outcomes of the courses, emphasizing that individual success may vary and that job placement or salary increases are not guaranteed.\n",
      "   - Verify compliance with local educational regulations, especially if targeting learners in various jurisdictions, to avoid potential legal issues.\n",
      "\n",
      "5. **Ethical Transparency**:\n",
      "   - Include information about the qualifications of the instructors and the scientific validity of the course material to enhance credibility and trust.\n",
      "   - Highlight inclusivity efforts to accommodate diverse learning needs and backgrounds, ensuring accessibility for a broad audience.\n",
      "   - Add a statement addressing data privacy, detailing how learner data is protected and used, which is essential for maintaining ethical standards in educational contexts.\n",
      "\n",
      "In conclusion, by addressing these areas, the content will not only be optimized for search engines but will also meet legal and ethical standards, enhancing its overall credibility and effectiveness.\n",
      "\n",
      "TextMessage from Critic\n",
      "--------------------\n",
      "Based on the aggregated feedback from the SEO, Legal, and Ethics reviewers, here are the final suggestions for optimizing the content:\n",
      "\n",
      "1. **Keyword Optimization**: Incorporate relevant keywords such as \"artificial intelligence courses,\" \"deep learning training,\" and \"machine learning skills\" strategically throughout the content. This will enhance search engine visibility and attract a targeted audience.\n",
      "\n",
      "2. **Meta Tags Improvement**: Create a compelling meta title and description that encapsulate the essence of the content while including primary keywords. This will improve click-through rates from search results and bolster SEO performance.\n",
      "\n",
      "3. **Internal and External Linking**: Integrate internal links to related content on your site and credible external sources. This will improve the content's credibility, keep readers engaged longer, and positively affect SEO rankings.\n",
      "\n",
      "4. **Legal Considerations**:\n",
      "   - Ensure that all trademarks (e.g., \"DeepLearning.AI\") are properly acknowledged, and confirm that you have permission for any copyrighted materials used.\n",
      "   - Include disclaimers about the outcomes of the courses, emphasizing that individual success may vary and that job placement or salary increases are not guaranteed.\n",
      "   - Verify compliance with local educational regulations, especially if targeting learners in various jurisdictions, to avoid potential legal issues.\n",
      "\n",
      "5. **Ethical Transparency**:\n",
      "   - Include information about the qualifications of the instructors and the scientific validity of the course material to enhance credibility and trust.\n",
      "   - Highlight inclusivity efforts to accommodate diverse learning needs and backgrounds, ensuring accessibility for a broad audience.\n",
      "   - Add a statement addressing data privacy, detailing how learner data is protected and used, which is essential for maintaining ethical standards in educational contexts.\n",
      "\n",
      "In conclusion, by addressing these areas, the content will not only be optimized for search engines but will also meet legal and ethical standards, enhancing its overall credibility and effectiveness.\n",
      "--------------------\n",
      "\n",
      "from: Writer\n",
      "**Unlocking the Future with DeepLearning.AI**\n",
      "\n",
      "DeepLearning.AI is revolutionizing education in artificial intelligence, offering courses that empower individuals with vital machine learning skills and deep learning training. Founded by AI expert Andrew Ng, the platform simplifies complex concepts, making them accessible for everyone. With hands-on projects and practical applications, learners enhance their understanding while building impressive resumes. As AI shapes various industries, DeepLearning.AI equips the next generation of innovators with the tools to excel in a data-driven world. Join the AI revolution today and elevate your career with these transformative artificial intelligence courses!\n",
      "\n",
      "*Disclaimer: Course outcomes may vary, and job placement is not guaranteed.*\n",
      "\n"
     ]
    }
   ],
   "source": [
    "conversation = await nestChatCritic.SendAsync(\n",
    "    message: task,\n",
    "    receiver: writer,\n",
    "    maxRound: 3)\n",
    "    .ToListAsync();\n",
    "\n",
    "var finalResult = conversation.Last();"
   ]
  }
 ],
 "metadata": {
  "kernelspec": {
   "display_name": ".NET (C#)",
   "language": "C#",
   "name": ".net-csharp"
  },
  "language_info": {
   "name": "python"
  },
  "polyglot_notebook": {
   "kernelInfo": {
    "defaultKernelName": "csharp",
    "items": [
     {
      "aliases": [],
      "name": "csharp"
     }
    ]
   }
  }
 },
 "nbformat": 4,
 "nbformat_minor": 2
}
