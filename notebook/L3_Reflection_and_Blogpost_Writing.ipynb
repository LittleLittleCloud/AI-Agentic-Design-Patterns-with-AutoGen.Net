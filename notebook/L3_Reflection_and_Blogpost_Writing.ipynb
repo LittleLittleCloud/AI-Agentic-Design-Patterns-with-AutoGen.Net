{
 "cells": [
  {
   "cell_type": "markdown",
   "metadata": {},
   "source": [
    "#### Lesson 3: Reflection and Blogpost Writing"
   ]
  },
  {
   "cell_type": "markdown",
   "metadata": {},
   "source": [
    "#### Setup"
   ]
  },
  {
   "cell_type": "code",
   "execution_count": 1,
   "metadata": {
    "dotnet_interactive": {
     "language": "csharp"
    },
    "polyglot_notebook": {
     "kernelName": "csharp"
    },
    "vscode": {
     "languageId": "polyglot-notebook"
    }
   },
   "outputs": [
    {
     "data": {
      "text/html": [
       "<div><div></div><div></div><div><strong>Installed Packages</strong><ul><li><span>AutoGen, 0.1.0</span></li></ul></div></div>"
      ]
     },
     "metadata": {},
     "output_type": "display_data"
    }
   ],
   "source": [
    "#r \"nuget:AutoGen,0.1.0\"\n",
    "#load \"util.csx\"\n",
    "\n",
    "using AutoGen.Core;\n",
    "using AutoGen.OpenAI;\n",
    "using AutoGen.OpenAI.Extension;\n",
    "using Azure.AI.OpenAI;\n",
    "using System.Threading;\n",
    "\n",
    "var openAIModel = \"gpt-4o-mini\";\n",
    "var openaiClient = OpenAIClientProvider.Create();"
   ]
  },
  {
   "cell_type": "markdown",
   "metadata": {},
   "source": [
    "The Task!"
   ]
  },
  {
   "cell_type": "code",
   "execution_count": 2,
   "metadata": {
    "dotnet_interactive": {
     "language": "csharp"
    },
    "polyglot_notebook": {
     "kernelName": "csharp"
    },
    "vscode": {
     "languageId": "polyglot-notebook"
    }
   },
   "outputs": [],
   "source": [
    "var task = \"\"\"\n",
    "    Write a concise but engaging blogpost about\n",
    "    DeepLearning.AI. Make sure the blogpost is\n",
    "    within 100 words.\n",
    "    \"\"\";"
   ]
  },
  {
   "cell_type": "markdown",
   "metadata": {},
   "source": [
    "Create a writer agent"
   ]
  },
  {
   "cell_type": "code",
   "execution_count": 3,
   "metadata": {
    "dotnet_interactive": {
     "language": "csharp"
    },
    "polyglot_notebook": {
     "kernelName": "csharp"
    },
    "vscode": {
     "languageId": "polyglot-notebook"
    }
   },
   "outputs": [
    {
     "name": "stdout",
     "output_type": "stream",
     "text": [
      "from: Writer\n",
      "**Unlocking the Future with DeepLearning.AI**\n",
      "\n",
      "DeepLearning.AI is at the forefront of the artificial intelligence revolution, empowering individuals and organizations with cutting-edge resources and education. Founded by AI pioneer Andrew Ng, the platform offers comprehensive courses that demystify complex concepts in machine learning and deep learning. With a robust community and practical applications, learners can bridge the gap between theory and real-world implementation. Whether you're a novice seeking foundational knowledge or a professional looking to refine your skills, DeepLearning.AI provides the tools and expertise to harness the transformative power of AI. Join the movement and shape the future of technology!\n",
      "\n"
     ]
    }
   ],
   "source": [
    "var writer = new OpenAIChatAgent(\n",
    "    openAIClient: openaiClient,\n",
    "    name: \"Writer\",\n",
    "    modelName: openAIModel,\n",
    "    systemMessage: \"\"\"\n",
    "    You are a writer. You write engaging and concise blogpost (with title) on given topics.\n",
    "    You must polish your writing based on the feedback you receive and give a refined version.\n",
    "    Only return your final work without additional comments.\"\n",
    "    \"\"\")\n",
    "    .RegisterMessageConnector()\n",
    "    .RegisterPrintMessage();\n",
    "\n",
    "var reply = await writer.SendAsync(task);"
   ]
  },
  {
   "cell_type": "markdown",
   "metadata": {},
   "source": [
    "Adding reflection by creating a critic agent to reflect on the work of the writer agent."
   ]
  },
  {
   "cell_type": "code",
   "execution_count": 4,
   "metadata": {
    "dotnet_interactive": {
     "language": "csharp"
    },
    "polyglot_notebook": {
     "kernelName": "csharp"
    },
    "vscode": {
     "languageId": "polyglot-notebook"
    }
   },
   "outputs": [
    {
     "name": "stdout",
     "output_type": "stream",
     "text": [
      "from: Writer\n",
      "**Unlocking AI Potential: DeepLearning.AI**\n",
      "\n",
      "DeepLearning.AI is at the forefront of the artificial intelligence revolution, empowering individuals and organizations through innovative education and resources. Founded by Andrew Ng, this platform offers comprehensive courses that demystify deep learning and machine learning concepts, making them accessible to all. Whether you’re a beginner or a seasoned professional, DeepLearning.AI provides the tools and expertise needed to harness the power of AI. With a commitment to fostering a global community of AI practitioners, it inspires learners to tackle real-world challenges. Dive into DeepLearning.AI and unlock your potential in the ever-evolving tech landscape!\n",
      "\n",
      "from: Critic\n",
      "**Feedback:**\n",
      "\n",
      "Your blog post effectively captures the essence of DeepLearning.AI in a concise manner. The introduction is engaging, and the mention of Andrew Ng adds credibility. However, consider the following suggestions to enhance clarity and impact:\n",
      "\n",
      "1. **Hook:** Start with a compelling question or statement to immediately grab the reader's attention. For example, \"Curious about the future of AI? Look no further than DeepLearning.AI.\"\n",
      "\n",
      "2. **Focus on Benefits:** Instead of stating that it \"demystifies\" concepts, highlight specific benefits—such as real-world applications or career advancement opportunities that come from the courses.\n",
      "\n",
      "3. **Call to Action:** Conclude with a more direct call to action. For instance, \"Join the community today and transform your understanding of AI!\"\n",
      "\n",
      "Overall, your post is informative and well-structured; just a few tweaks could make it more engaging and actionable.\n",
      "\n",
      "from: Writer\n",
      "**Curious about the Future of AI? Discover DeepLearning.AI!**\n",
      "\n",
      "DeepLearning.AI is revolutionizing the way we approach artificial intelligence, offering cutting-edge education that empowers both individuals and organizations. Founded by AI pioneer Andrew Ng, this platform provides courses that not only enhance your understanding of deep learning and machine learning but also equip you with skills applicable to real-world challenges. Whether you're looking to advance your career or tackle innovative projects, DeepLearning.AI is your gateway. Join the community today and transform your understanding of AI—your future in tech awaits!\n",
      "\n"
     ]
    }
   ],
   "source": [
    "var critic = new OpenAIChatAgent(\n",
    "    openAIClient: openaiClient,\n",
    "    name: \"Critic\",\n",
    "    modelName: openAIModel,\n",
    "    systemMessage: \"\"\"\n",
    "    You are a critic. You review the work of the writer and provide constructive feedback to help improve the quality of the content.\"\n",
    "    \"\"\")\n",
    "    .RegisterMessageConnector()\n",
    "    .RegisterPrintMessage();\n",
    "\n",
    "var conversation = await critic.SendAsync(\n",
    "    receiver: writer,\n",
    "    message: task,\n",
    "    maxRound: 3)\n",
    "    .ToListAsync();\n",
    "\n",
    "// Use the last message in the conversation as the final result\n",
    "var res = conversation.Last();"
   ]
  },
  {
   "cell_type": "markdown",
   "metadata": {},
   "source": [
    "#### Nested chat using middleware pattern\n",
    "Python AutoGen allows you to create a Json object task list and pass it to agent using `register_nested_chats`\n",
    "This is not supported in AutoGen.Net.\n",
    "But you can achieve the same using the middleware pattern."
   ]
  },
  {
   "cell_type": "code",
   "execution_count": 5,
   "metadata": {
    "dotnet_interactive": {
     "language": "csharp"
    },
    "polyglot_notebook": {
     "kernelName": "csharp"
    },
    "vscode": {
     "languageId": "polyglot-notebook"
    }
   },
   "outputs": [],
   "source": [
    "var SEOReviewer = new OpenAIChatAgent(\n",
    "    openAIClient: openaiClient,\n",
    "    name: \"SEO_Reviewer\",\n",
    "    modelName: openAIModel,\n",
    "    systemMessage: \"\"\"\n",
    "    You are an SEO reviewer, known for your ability to optimize content for search engines, ensuring that it ranks well and attracts organic traffic.\n",
    "    Make sure your suggestion is concise (within 3 bullet points), concrete and to the point.\n",
    "    Begin the review by stating your role.\n",
    "    \"\"\")\n",
    "    .RegisterMessageConnector()\n",
    "    .RegisterPrintMessage();"
   ]
  },
  {
   "cell_type": "code",
   "execution_count": 6,
   "metadata": {
    "dotnet_interactive": {
     "language": "csharp"
    },
    "polyglot_notebook": {
     "kernelName": "csharp"
    },
    "vscode": {
     "languageId": "polyglot-notebook"
    }
   },
   "outputs": [],
   "source": [
    "var LegalReviewer = new OpenAIChatAgent(\n",
    "    openAIClient: openaiClient,\n",
    "    name: \"Legal_Reviewer\",\n",
    "    modelName: openAIModel,\n",
    "    systemMessage: \"\"\"\n",
    "    You are a legal reviewer, known for your ability to ensure that content is legally compliant and free from any potential legal issues.\n",
    "    Make sure your suggestion is concise (within 3 bullet points), concrete and to the point.\n",
    "    Begin the review by stating your role.\n",
    "    \"\"\")\n",
    "    .RegisterMessageConnector()\n",
    "    .RegisterPrintMessage();"
   ]
  },
  {
   "cell_type": "code",
   "execution_count": 7,
   "metadata": {
    "dotnet_interactive": {
     "language": "csharp"
    },
    "polyglot_notebook": {
     "kernelName": "csharp"
    },
    "vscode": {
     "languageId": "polyglot-notebook"
    }
   },
   "outputs": [],
   "source": [
    "var EthicsReviewer = new OpenAIChatAgent(\n",
    "    openAIClient: openaiClient,\n",
    "    name: \"Ethics_Reviewer\",\n",
    "    modelName: openAIModel,\n",
    "    systemMessage: \"\"\"\n",
    "    You are an ethics reviewer, known for your ability to ensure that content is ethically sound and free from any potential ethical issues.\n",
    "    Make sure your suggestion is concise (within 3 bullet points), concrete and to the point.\n",
    "    Begin the review by stating your role.\n",
    "    \"\"\")\n",
    "    .RegisterMessageConnector()\n",
    "    .RegisterPrintMessage();"
   ]
  },
  {
   "cell_type": "code",
   "execution_count": 8,
   "metadata": {
    "dotnet_interactive": {
     "language": "csharp"
    },
    "polyglot_notebook": {
     "kernelName": "csharp"
    },
    "vscode": {
     "languageId": "polyglot-notebook"
    }
   },
   "outputs": [],
   "source": [
    "var MetaReviewer = new OpenAIChatAgent(\n",
    "    openAIClient: openaiClient,\n",
    "    name: \"Meta_Reviewer\",\n",
    "    modelName: openAIModel,\n",
    "    systemMessage: \"\"\"\n",
    "    You are a meta reviewer, you aggragate and review the work of other reviewers and give a final suggestion on the content.\"\n",
    "    \"\"\")\n",
    "    .RegisterMessageConnector()\n",
    "    .RegisterPrintMessage();"
   ]
  },
  {
   "cell_type": "markdown",
   "metadata": {},
   "source": [
    "Define nest chat middleware"
   ]
  },
  {
   "cell_type": "code",
   "execution_count": 10,
   "metadata": {
    "dotnet_interactive": {
     "language": "csharp"
    },
    "polyglot_notebook": {
     "kernelName": "csharp"
    },
    "vscode": {
     "languageId": "polyglot-notebook"
    }
   },
   "outputs": [],
   "source": [
    "class NestChatMiddleware : IMiddleware\n",
    "{\n",
    "    private readonly IAgent seo;\n",
    "    private readonly IAgent legal;\n",
    "    private readonly IAgent ethics;\n",
    "    private readonly IAgent meta;\n",
    "    private readonly IAgent writer;\n",
    "\n",
    "    public NestChatMiddleware(IAgent writer, IAgent seo, IAgent legal, IAgent ethics, IAgent meta)\n",
    "    {\n",
    "        this.writer = writer;\n",
    "        this.seo = seo;\n",
    "        this.legal = legal;\n",
    "        this.ethics = ethics;\n",
    "        this.meta = meta;\n",
    "    }\n",
    "\n",
    "    public string? Name => nameof(NestChatMiddleware);\n",
    "\n",
    "    public async Task<IMessage> InvokeAsync(MiddlewareContext context, IAgent critic, CancellationToken cancellationToken = default)\n",
    "    {\n",
    "        // trigger only when the last message is from writer\n",
    "        if (context.Messages.Last().From != writer.Name)\n",
    "        {\n",
    "            return await critic.GenerateReplyAsync(context.Messages, context.Options, cancellationToken);\n",
    "        }\n",
    "\n",
    "        var messageToReview = context.Messages.Last();\n",
    "        var reviewPrompt = $\"\"\"\n",
    "            Review the following content.\n",
    "\n",
    "            {messageToReview.GetContent()}\n",
    "            \"\"\";\n",
    "        // SEO Review\n",
    "        var seoReview = await critic.SendAsync(\n",
    "            receiver: seo,\n",
    "            message: reviewPrompt,\n",
    "            maxRound: 1)\n",
    "            .ToListAsync();\n",
    "        var legalReview = await critic.SendAsync(\n",
    "            receiver: legal,\n",
    "            message: reviewPrompt,\n",
    "            maxRound: 1)\n",
    "            .ToListAsync();\n",
    "\n",
    "        var ethicsReview = await critic.SendAsync(\n",
    "            receiver: ethics,\n",
    "            message: reviewPrompt,\n",
    "            maxRound: 1)\n",
    "            .ToListAsync();\n",
    "\n",
    "        var reviews = seoReview.Concat(legalReview).Concat(ethicsReview);\n",
    "\n",
    "        var metaReview = await critic.SendAsync(\n",
    "            receiver: meta,\n",
    "            message: \"Aggregrate feedback from all reviewers and give final suggestions on the writing.\",\n",
    "            chatHistory: reviews,\n",
    "            maxRound: 1)\n",
    "            .ToListAsync();\n",
    "\n",
    "        var lastReview = metaReview.Last();\n",
    "        lastReview.From = critic.Name;\n",
    "\n",
    "        return lastReview;\n",
    "    }\n",
    "}"
   ]
  },
  {
   "cell_type": "code",
   "execution_count": 11,
   "metadata": {
    "dotnet_interactive": {
     "language": "csharp"
    },
    "polyglot_notebook": {
     "kernelName": "csharp"
    },
    "vscode": {
     "languageId": "polyglot-notebook"
    }
   },
   "outputs": [],
   "source": [
    "// Orchestrate the nested chats to solve the task\n",
    "var middleware = new NestChatMiddleware(\n",
    "    writer: writer,\n",
    "    seo: SEOReviewer,\n",
    "    legal: LegalReviewer,\n",
    "    ethics: EthicsReviewer,\n",
    "    meta: MetaReviewer);"
   ]
  },
  {
   "cell_type": "code",
   "execution_count": 12,
   "metadata": {
    "dotnet_interactive": {
     "language": "csharp"
    },
    "polyglot_notebook": {
     "kernelName": "csharp"
    },
    "vscode": {
     "languageId": "polyglot-notebook"
    }
   },
   "outputs": [],
   "source": [
    "var nestChatCritic = critic\n",
    "    .RegisterMiddleware(middleware)\n",
    "    .RegisterPrintMessage();"
   ]
  },
  {
   "cell_type": "code",
   "execution_count": 14,
   "metadata": {
    "dotnet_interactive": {
     "language": "csharp"
    },
    "polyglot_notebook": {
     "kernelName": "csharp"
    },
    "vscode": {
     "languageId": "polyglot-notebook"
    }
   },
   "outputs": [
    {
     "name": "stdout",
     "output_type": "stream",
     "text": [
      "from: Writer\n",
      "**Unlocking AI Potential with DeepLearning.AI**\n",
      "\n",
      "DeepLearning.AI is at the forefront of artificial intelligence education, empowering individuals with the skills needed to thrive in the AI landscape. Founded by Andrew Ng, the organization offers a range of online courses that make deep learning accessible to everyone, from beginners to seasoned professionals. Through hands-on projects and a robust community, learners gain practical experience while building their knowledge. As AI continues to transform industries, DeepLearning.AI stands as a vital resource, equipping the next generation of innovators to harness the potential of this groundbreaking technology. Join the movement and unlock your AI potential today!\n",
      "\n",
      "from: SEO_Reviewer\n",
      "As an SEO reviewer, here are my suggestions for optimizing the content:\n",
      "\n",
      "- **Incorporate Keywords**: Include relevant keywords such as \"AI courses,\" \"deep learning training,\" and \"artificial intelligence education\" to enhance search visibility and attract targeted traffic.\n",
      "\n",
      "- **Add Internal Links**: Link to other related articles, courses, or resources on the DeepLearning.AI website to improve user navigation and increase the time spent on the site.\n",
      "\n",
      "- **Enhance Call-to-Action**: Make the call-to-action more specific by guiding readers to a particular course or resource, such as “Explore our beginner's course on deep learning to start your journey today!”\n",
      "\n",
      "from: Legal_Reviewer\n",
      "As a legal reviewer, here are my suggestions for ensuring compliance:\n",
      "\n",
      "- **Trademark Usage**: Confirm that \"DeepLearning.AI\" and any related terms are not trademarked by another entity, or ensure proper usage as per trademark guidelines to avoid infringement.\n",
      "- **Claims Verification**: Ensure that any claims about the effectiveness of the courses or the success of learners are substantiated to avoid misleading statements or potential false advertising issues.\n",
      "- **Privacy Compliance**: If personal data from users is collected, ensure that you have a clear privacy policy in place that complies with relevant data protection regulations (e.g., GDPR, CCPA).\n",
      "\n",
      "from: Ethics_Reviewer\n",
      "As an ethics reviewer, I have evaluated the content provided. Here are my suggestions:\n",
      "\n",
      "- **Transparency**: Ensure that the organization clearly communicates any prerequisites for courses and potential outcomes, avoiding overpromising results to learners.\n",
      "- **Inclusivity**: Highlight efforts made to ensure accessibility for diverse populations, including those from underrepresented backgrounds in AI education.\n",
      "- **Data Privacy**: Emphasize the importance of data privacy and ethical considerations in AI, particularly in relation to the hands-on projects offered in the courses.\n",
      "\n",
      "from: Meta_Reviewer\n",
      "Based on the feedback from the SEO, Legal, and Ethics reviewers, here are the aggregated suggestions for optimizing the content:\n",
      "\n",
      "1. **Keyword Optimization**: \n",
      "   - Incorporate relevant keywords such as \"AI courses,\" \"deep learning training,\" and \"artificial intelligence education\" throughout the content to enhance search visibility and attract targeted traffic.\n",
      "\n",
      "2. **Internal Linking**:\n",
      "   - Add internal links to related articles, courses, or resources on the DeepLearning.AI website. This will improve user navigation and encourage longer site engagement.\n",
      "\n",
      "3. **Enhanced Call-to-Action**:\n",
      "   - Revise the call-to-action to be more specific and actionable. For example, suggest readers explore a particular course with a phrase like “Explore our beginner's course on deep learning to start your journey today!”\n",
      "\n",
      "4. **Trademark and Claims Compliance**:\n",
      "   - Confirm that \"DeepLearning.AI\" and related terms are used correctly and not infringing on any trademarks. Additionally, verify that any claims made about course effectiveness or learner success are substantiated to avoid misleading statements.\n",
      "\n",
      "5. **Privacy Policy**:\n",
      "   - Ensure there is a clear privacy policy in place regarding the collection of personal data, in compliance with relevant regulations such as GDPR and CCPA.\n",
      "\n",
      "6. **Transparency and Inclusivity**:\n",
      "   - Clearly communicate any prerequisites for the courses and potential outcomes, avoiding overpromises. Highlight efforts to ensure accessibility for diverse populations, including underrepresented groups in AI education.\n",
      "\n",
      "7. **Emphasis on Ethical Considerations**:\n",
      "   - Address the importance of data privacy and ethical considerations in AI, particularly concerning hands-on projects offered in the courses.\n",
      "\n",
      "Incorporating these suggestions will not only improve the content's SEO performance but also ensure legal compliance and ethical integrity, making it more appealing and trustworthy to potential learners.\n",
      "\n",
      "TextMessage from Critic\n",
      "--------------------\n",
      "Based on the feedback from the SEO, Legal, and Ethics reviewers, here are the aggregated suggestions for optimizing the content:\n",
      "\n",
      "1. **Keyword Optimization**: \n",
      "   - Incorporate relevant keywords such as \"AI courses,\" \"deep learning training,\" and \"artificial intelligence education\" throughout the content to enhance search visibility and attract targeted traffic.\n",
      "\n",
      "2. **Internal Linking**:\n",
      "   - Add internal links to related articles, courses, or resources on the DeepLearning.AI website. This will improve user navigation and encourage longer site engagement.\n",
      "\n",
      "3. **Enhanced Call-to-Action**:\n",
      "   - Revise the call-to-action to be more specific and actionable. For example, suggest readers explore a particular course with a phrase like “Explore our beginner's course on deep learning to start your journey today!”\n",
      "\n",
      "4. **Trademark and Claims Compliance**:\n",
      "   - Confirm that \"DeepLearning.AI\" and related terms are used correctly and not infringing on any trademarks. Additionally, verify that any claims made about course effectiveness or learner success are substantiated to avoid misleading statements.\n",
      "\n",
      "5. **Privacy Policy**:\n",
      "   - Ensure there is a clear privacy policy in place regarding the collection of personal data, in compliance with relevant regulations such as GDPR and CCPA.\n",
      "\n",
      "6. **Transparency and Inclusivity**:\n",
      "   - Clearly communicate any prerequisites for the courses and potential outcomes, avoiding overpromises. Highlight efforts to ensure accessibility for diverse populations, including underrepresented groups in AI education.\n",
      "\n",
      "7. **Emphasis on Ethical Considerations**:\n",
      "   - Address the importance of data privacy and ethical considerations in AI, particularly concerning hands-on projects offered in the courses.\n",
      "\n",
      "Incorporating these suggestions will not only improve the content's SEO performance but also ensure legal compliance and ethical integrity, making it more appealing and trustworthy to potential learners.\n",
      "--------------------\n",
      "\n",
      "from: Writer\n",
      "**Unlocking AI Potential with DeepLearning.AI**\n",
      "\n",
      "DeepLearning.AI is a leader in artificial intelligence education, offering comprehensive AI courses that empower learners with essential skills in deep learning training. Founded by Andrew Ng, the platform provides engaging, hands-on projects and a supportive community, making artificial intelligence education accessible to all. Interested in starting your journey? Explore our beginner's course on deep learning today! With a commitment to ethical considerations and accessibility, DeepLearning.AI is dedicated to nurturing the next generation of innovators. Join us and discover how you can harness the transformative power of AI to shape the future!\n",
      "\n"
     ]
    }
   ],
   "source": [
    "conversation = await nestChatCritic.SendAsync(\n",
    "    message: task,\n",
    "    receiver: writer,\n",
    "    maxRound: 3)\n",
    "    .ToListAsync();\n",
    "\n",
    "var finalResult = conversation.Last();"
   ]
  }
 ],
 "metadata": {
  "kernelspec": {
   "display_name": ".NET (C#)",
   "language": "C#",
   "name": ".net-csharp"
  },
  "language_info": {
   "name": "python"
  },
  "polyglot_notebook": {
   "kernelInfo": {
    "defaultKernelName": "csharp",
    "items": [
     {
      "aliases": [],
      "name": "csharp"
     }
    ]
   }
  }
 },
 "nbformat": 4,
 "nbformat_minor": 2
}
