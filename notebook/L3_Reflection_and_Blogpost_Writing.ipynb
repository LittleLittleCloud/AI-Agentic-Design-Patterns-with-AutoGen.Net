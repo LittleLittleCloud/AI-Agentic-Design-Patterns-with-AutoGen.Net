{
 "cells": [
  {
   "cell_type": "markdown",
   "metadata": {},
   "source": [
    "#### Lesson 3: Reflection and Blogpost Writing"
   ]
  },
  {
   "cell_type": "markdown",
   "metadata": {},
   "source": [
    "#### Setup"
   ]
  },
  {
   "cell_type": "code",
   "execution_count": 1,
   "metadata": {
    "dotnet_interactive": {
     "language": "csharp"
    },
    "polyglot_notebook": {
     "kernelName": "csharp"
    },
    "vscode": {
     "languageId": "polyglot-notebook"
    }
   },
   "outputs": [
    {
     "data": {
      "text/html": [
       "<div><div></div><div></div><div><strong>Installed Packages</strong><ul><li><span>AutoGen, 0.0.17</span></li></ul></div></div>"
      ]
     },
     "metadata": {},
     "output_type": "display_data"
    }
   ],
   "source": [
    "#r \"nuget:AutoGen\"\n",
    "\n",
    "using AutoGen.Core;\n",
    "using AutoGen.OpenAI;\n",
    "using AutoGen.OpenAI.Extension;\n",
    "using Azure.AI.OpenAI;\n",
    "using System.Threading;\n",
    "\n",
    "var openAIKey = Environment.GetEnvironmentVariable(\"OPENAI_API_KEY\") ?? throw new Exception(\"Please set the OPENAI_API_KEY environment variable.\");\n",
    "var openAIModel = \"gpt-4o-mini\";\n",
    "var openaiClient = new OpenAIClient(openAIKey);\n"
   ]
  },
  {
   "cell_type": "markdown",
   "metadata": {},
   "source": [
    "The Task!"
   ]
  },
  {
   "cell_type": "code",
   "execution_count": 2,
   "metadata": {
    "dotnet_interactive": {
     "language": "csharp"
    },
    "polyglot_notebook": {
     "kernelName": "csharp"
    },
    "vscode": {
     "languageId": "polyglot-notebook"
    }
   },
   "outputs": [],
   "source": [
    "var task = \"\"\"\n",
    "    Write a concise but engaging blogpost about\n",
    "    DeepLearning.AI. Make sure the blogpost is\n",
    "    within 100 words.\n",
    "    \"\"\";"
   ]
  },
  {
   "cell_type": "markdown",
   "metadata": {},
   "source": [
    "Create a writer agent"
   ]
  },
  {
   "cell_type": "code",
   "execution_count": 3,
   "metadata": {
    "dotnet_interactive": {
     "language": "csharp"
    },
    "polyglot_notebook": {
     "kernelName": "csharp"
    },
    "vscode": {
     "languageId": "polyglot-notebook"
    }
   },
   "outputs": [
    {
     "name": "stdout",
     "output_type": "stream",
     "text": [
      "from: Writer\n",
      "**Unlocking the Future with DeepLearning.AI**\n",
      "\n",
      "DeepLearning.AI is at the forefront of artificial intelligence education, empowering individuals to harness the power of deep learning. Founded by AI pioneer Andrew Ng, the platform offers specialized courses designed to demystify complex concepts. With a hands-on approach, learners engage with real-world projects, transforming theoretical knowledge into practical skills. From beginners to seasoned professionals, DeepLearning.AI fosters a vibrant community where innovation thrives. By bridging the gap between academia and industry, it's paving the way for the next generation of AI leaders. Dive in and unlock your potential in the ever-evolving world of AI!\n",
      "\n"
     ]
    }
   ],
   "source": [
    "var writer = new OpenAIChatAgent(\n",
    "    openAIClient: openaiClient,\n",
    "    name: \"Writer\",\n",
    "    modelName: openAIModel,\n",
    "    systemMessage: \"\"\"\n",
    "    You are a writer. You write engaging and concise blogpost (with title) on given topics.\n",
    "    You must polish your writing based on the feedback you receive and give a refined version.\n",
    "    Only return your final work without additional comments.\"\n",
    "    \"\"\")\n",
    "    .RegisterMessageConnector()\n",
    "    .RegisterPrintMessage();\n",
    "\n",
    "    var reply = await writer.SendAsync(task);"
   ]
  },
  {
   "cell_type": "markdown",
   "metadata": {},
   "source": [
    "Adding reflection by creating a critic agent to reflect on the work of the writer agent."
   ]
  },
  {
   "cell_type": "code",
   "execution_count": 4,
   "metadata": {
    "dotnet_interactive": {
     "language": "csharp"
    },
    "polyglot_notebook": {
     "kernelName": "csharp"
    },
    "vscode": {
     "languageId": "polyglot-notebook"
    }
   },
   "outputs": [
    {
     "name": "stdout",
     "output_type": "stream",
     "text": [
      "from: Writer\n",
      "**Unlocking the Future with DeepLearning.AI**\n",
      "\n",
      "DeepLearning.AI is at the forefront of artificial intelligence education, empowering individuals and organizations to harness the potential of deep learning. Founded by AI pioneer Andrew Ng, the platform offers comprehensive courses that demystify complex concepts, making them accessible to all. From beginner to advanced levels, learners gain hands-on experience through practical projects and real-world applications. With a vibrant community and up-to-date resources, DeepLearning.AI is not just an educational hub but a launchpad for innovation in AI. Whether you're looking to boost your career or explore AI's vast possibilities, DeepLearning.AI is your gateway to the future.\n",
      "\n",
      "from: Critic\n",
      "This blog post effectively highlights the key aspects of DeepLearning.AI, such as its educational focus, founder, and community engagement. However, there are a few areas for improvement to enhance clarity and engagement:\n",
      "\n",
      "1. **Hook**: Consider starting with a compelling question or statement to grab the reader's attention immediately. For example, \"Curious about how AI is shaping our world?\"\n",
      "\n",
      "2. **Conciseness**: While the message is clear, some phrases could be more concise. For instance, \"demystify complex concepts\" could be simplified to \"simplify complex concepts.\"\n",
      "\n",
      "3. **Call to Action**: Including a direct call to action, such as \"Join the AI revolution today!\" can encourage readers to engage further.\n",
      "\n",
      "4. **Variety in Sentence Structure**: Mixing up sentence lengths and structures can improve the flow and make the reading experience more dynamic.\n",
      "\n",
      "5. **Word Count**: The piece is slightly over 100 words. Aim to trim it down to meet the requirement without losing essential information.\n",
      "\n",
      "With these adjustments, your blog post will not only be engaging but also more impactful. Great start!\n",
      "\n",
      "from: Writer\n",
      "**Curious About How AI is Shaping Our World?**\n",
      "\n",
      "DeepLearning.AI is revolutionizing artificial intelligence education, helping individuals and organizations tap into the power of deep learning. Founded by AI pioneer Andrew Ng, the platform offers courses that simplify complex concepts for all skill levels. With hands-on projects and real-world applications, learners gain invaluable experience. Join a vibrant community of innovators and stay updated with cutting-edge resources. Whether you want to advance your career or explore AI's potential, DeepLearning.AI is your gateway to the future. Join the AI revolution today!\n",
      "\n"
     ]
    }
   ],
   "source": [
    "var critic = new OpenAIChatAgent(\n",
    "    openAIClient: openaiClient,\n",
    "    name: \"Critic\",\n",
    "    modelName: openAIModel,\n",
    "    systemMessage: \"\"\"\n",
    "    You are a critic. You review the work of the writer and provide constructive feedback to help improve the quality of the content.\"\n",
    "    \"\"\")\n",
    "    .RegisterMessageConnector()\n",
    "    .RegisterPrintMessage();\n",
    "\n",
    "var conversation = await critic.SendAsync(\n",
    "    receiver: writer,\n",
    "    message: task,\n",
    "    maxRound: 3);\n",
    "\n",
    "// Use the last message in the conversation as the final result\n",
    "var res = conversation.Last();"
   ]
  },
  {
   "cell_type": "markdown",
   "metadata": {},
   "source": [
    "#### Nested chat using middleware pattern\n",
    "Python AutoGen allows you to create a Json object task list and pass it to agent using `register_nested_chats`\n",
    "This is not supported in AutoGen.Net.\n",
    "But you can achieve the same using the middleware pattern."
   ]
  },
  {
   "cell_type": "code",
   "execution_count": 5,
   "metadata": {
    "dotnet_interactive": {
     "language": "csharp"
    },
    "polyglot_notebook": {
     "kernelName": "csharp"
    },
    "vscode": {
     "languageId": "polyglot-notebook"
    }
   },
   "outputs": [],
   "source": [
    "var SEOReviewer = new OpenAIChatAgent(\n",
    "    openAIClient: openaiClient,\n",
    "    name: \"SEO_Reviewer\",\n",
    "    modelName: openAIModel,\n",
    "    systemMessage: \"\"\"\n",
    "    You are an SEO reviewer, known for your ability to optimize content for search engines, ensuring that it ranks well and attracts organic traffic.\n",
    "    Make sure your suggestion is concise (within 3 bullet points), concrete and to the point.\n",
    "    Begin the review by stating your role.\n",
    "    \"\"\")\n",
    "    .RegisterMessageConnector()\n",
    "    .RegisterPrintMessage();"
   ]
  },
  {
   "cell_type": "code",
   "execution_count": 6,
   "metadata": {
    "dotnet_interactive": {
     "language": "csharp"
    },
    "polyglot_notebook": {
     "kernelName": "csharp"
    },
    "vscode": {
     "languageId": "polyglot-notebook"
    }
   },
   "outputs": [],
   "source": [
    "var LegalReviewer = new OpenAIChatAgent(\n",
    "    openAIClient: openaiClient,\n",
    "    name: \"Legal_Reviewer\",\n",
    "    modelName: openAIModel,\n",
    "    systemMessage: \"\"\"\n",
    "    You are a legal reviewer, known for your ability to ensure that content is legally compliant and free from any potential legal issues.\n",
    "    Make sure your suggestion is concise (within 3 bullet points), concrete and to the point.\n",
    "    Begin the review by stating your role.\n",
    "    \"\"\")\n",
    "    .RegisterMessageConnector()\n",
    "    .RegisterPrintMessage();"
   ]
  },
  {
   "cell_type": "code",
   "execution_count": 7,
   "metadata": {
    "dotnet_interactive": {
     "language": "csharp"
    },
    "polyglot_notebook": {
     "kernelName": "csharp"
    },
    "vscode": {
     "languageId": "polyglot-notebook"
    }
   },
   "outputs": [],
   "source": [
    "var EthicsReviewer = new OpenAIChatAgent(\n",
    "    openAIClient: openaiClient,\n",
    "    name: \"Ethics_Reviewer\",\n",
    "    modelName: openAIModel,\n",
    "    systemMessage: \"\"\"\n",
    "    You are an ethics reviewer, known for your ability to ensure that content is ethically sound and free from any potential ethical issues.\n",
    "    Make sure your suggestion is concise (within 3 bullet points), concrete and to the point.\n",
    "    Begin the review by stating your role.\n",
    "    \"\"\")\n",
    "    .RegisterMessageConnector()\n",
    "    .RegisterPrintMessage();"
   ]
  },
  {
   "cell_type": "code",
   "execution_count": 8,
   "metadata": {
    "dotnet_interactive": {
     "language": "csharp"
    },
    "polyglot_notebook": {
     "kernelName": "csharp"
    },
    "vscode": {
     "languageId": "polyglot-notebook"
    }
   },
   "outputs": [],
   "source": [
    "var MetaReviewer = new OpenAIChatAgent(\n",
    "    openAIClient: openaiClient,\n",
    "    name: \"Meta_Reviewer\",\n",
    "    modelName: openAIModel,\n",
    "    systemMessage: \"\"\"\n",
    "    You are a meta reviewer, you aggragate and review the work of other reviewers and give a final suggestion on the content.\"\n",
    "    \"\"\")\n",
    "    .RegisterMessageConnector()\n",
    "    .RegisterPrintMessage();"
   ]
  },
  {
   "cell_type": "markdown",
   "metadata": {},
   "source": [
    "Define nest chat middleware"
   ]
  },
  {
   "cell_type": "code",
   "execution_count": 9,
   "metadata": {
    "dotnet_interactive": {
     "language": "csharp"
    },
    "polyglot_notebook": {
     "kernelName": "csharp"
    },
    "vscode": {
     "languageId": "polyglot-notebook"
    }
   },
   "outputs": [],
   "source": [
    "class NestChatMiddleware : IMiddleware\n",
    "{\n",
    "    private readonly IAgent seo;\n",
    "    private readonly IAgent legal;\n",
    "    private readonly IAgent ethics;\n",
    "    private readonly IAgent meta;\n",
    "    private readonly IAgent writer;\n",
    "\n",
    "    public NestChatMiddleware(IAgent writer, IAgent seo, IAgent legal, IAgent ethics, IAgent meta)\n",
    "    {\n",
    "        this.writer = writer;\n",
    "        this.seo = seo;\n",
    "        this.legal = legal;\n",
    "        this.ethics = ethics;\n",
    "        this.meta = meta;\n",
    "    }\n",
    "\n",
    "    public string? Name => nameof(NestChatMiddleware);\n",
    "\n",
    "    public async Task<IMessage> InvokeAsync(MiddlewareContext context, IAgent critic, CancellationToken cancellationToken = default)\n",
    "    {\n",
    "        // trigger only when the last message is from writer\n",
    "        if (context.Messages.Last().From != writer.Name)\n",
    "        {\n",
    "            return await critic.GenerateReplyAsync(context.Messages, context.Options, cancellationToken);\n",
    "        }\n",
    "\n",
    "        var messageToReview = context.Messages.Last();\n",
    "        var reviewPrompt = $\"\"\"\n",
    "            Review the following content.\n",
    "\n",
    "            {messageToReview.GetContent()}\n",
    "            \"\"\";\n",
    "        // SEO Review\n",
    "        var seoReview = await critic.SendAsync(\n",
    "            receiver: seo,\n",
    "            message: reviewPrompt,\n",
    "            maxRound: 1);\n",
    "        var legalReview = await critic.SendAsync(\n",
    "            receiver: legal,\n",
    "            message: reviewPrompt,\n",
    "            maxRound: 1);\n",
    "\n",
    "        var ethicsReview = await critic.SendAsync(\n",
    "            receiver: ethics,\n",
    "            message: reviewPrompt,\n",
    "            maxRound: 1);\n",
    "\n",
    "        var reviews = seoReview.Concat(legalReview).Concat(ethicsReview);\n",
    "\n",
    "        var metaReview = await critic.SendAsync(\n",
    "            receiver: meta,\n",
    "            message: \"Aggregrate feedback from all reviewers and give final suggestions on the writing.\",\n",
    "            chatHistory: reviews,\n",
    "            maxRound: 1);\n",
    "\n",
    "        var lastReview = metaReview.Last();\n",
    "        lastReview.From = critic.Name;\n",
    "\n",
    "        return lastReview;\n",
    "    }\n",
    "}"
   ]
  },
  {
   "cell_type": "code",
   "execution_count": 10,
   "metadata": {
    "dotnet_interactive": {
     "language": "csharp"
    },
    "polyglot_notebook": {
     "kernelName": "csharp"
    },
    "vscode": {
     "languageId": "polyglot-notebook"
    }
   },
   "outputs": [],
   "source": [
    "// Orchestrate the nested chats to solve the task\n",
    "var middleware = new NestChatMiddleware(\n",
    "    writer: writer,\n",
    "    seo: SEOReviewer,\n",
    "    legal: LegalReviewer,\n",
    "    ethics: EthicsReviewer,\n",
    "    meta: MetaReviewer);"
   ]
  },
  {
   "cell_type": "code",
   "execution_count": 11,
   "metadata": {
    "dotnet_interactive": {
     "language": "csharp"
    },
    "polyglot_notebook": {
     "kernelName": "csharp"
    },
    "vscode": {
     "languageId": "polyglot-notebook"
    }
   },
   "outputs": [],
   "source": [
    "var nestChatCritic = critic\n",
    "    .RegisterMiddleware(middleware)\n",
    "    .RegisterPrintMessage();"
   ]
  },
  {
   "cell_type": "code",
   "execution_count": 12,
   "metadata": {
    "dotnet_interactive": {
     "language": "csharp"
    },
    "polyglot_notebook": {
     "kernelName": "csharp"
    },
    "vscode": {
     "languageId": "polyglot-notebook"
    }
   },
   "outputs": [
    {
     "name": "stdout",
     "output_type": "stream",
     "text": [
      "from: Writer\n",
      "**Unlocking AI Potential with DeepLearning.AI**\n",
      "\n",
      "DeepLearning.AI stands at the forefront of artificial intelligence education, empowering individuals and businesses with cutting-edge knowledge. Founded by AI pioneer Andrew Ng, it offers a range of courses tailored for all skill levels, from beginners to advanced practitioners. With hands-on projects and real-world applications, students gain practical experience in machine learning and deep learning techniques. The platform fosters a vibrant community, encouraging collaboration and innovation. Whether you're looking to upskill or dive into AI for the first time, DeepLearning.AI provides the tools and resources needed to thrive in this rapidly evolving field. Join the AI revolution today!\n",
      "\n",
      "from: SEO_Reviewer\n",
      "As an SEO reviewer, here are my suggestions to optimize the content for search engines:\n",
      "\n",
      "- **Incorporate Keywords**: Include specific, high-traffic keywords related to \"AI education,\" \"machine learning courses,\" and \"deep learning training\" throughout the content to improve search visibility.\n",
      "  \n",
      "- **Add Internal Links**: Link to relevant pages within the DeepLearning.AI site (e.g., course offerings, testimonials) to enhance user experience and boost SEO through internal linking structures.\n",
      "\n",
      "- **Use Subheadings**: Break the content into sections with subheadings (e.g., \"Course Offerings,\" \"Community Engagement,\" \"Career Benefits\") to improve readability and allow search engines to better understand the content hierarchy.\n",
      "\n",
      "from: Legal_Reviewer\n",
      "As a legal reviewer, here are my suggestions for ensuring compliance and minimizing potential legal issues in your content:\n",
      "\n",
      "- **Trademark Use**: Ensure that \"DeepLearning.AI\" is used in a manner that respects trademark guidelines, avoiding any implication of endorsement or affiliation that could mislead consumers.\n",
      "  \n",
      "- **Copyright Considerations**: Confirm that the content does not include any copyrighted material without proper attribution or permission, particularly regarding course descriptions or educational materials.\n",
      "\n",
      "- **Compliance with Advertising Standards**: Verify that any claims about the effectiveness of the courses and the potential outcomes for students are substantiated and comply with relevant advertising laws to avoid misleading consumers.\n",
      "\n",
      "from: Ethics_Reviewer\n",
      "As an ethics reviewer, I have evaluated the content for ethical considerations.\n",
      "\n",
      "- **Transparency and Disclosure**: Ensure that any affiliations, sponsorships, or partnerships with corporate entities are disclosed to maintain transparency and avoid any perceived conflicts of interest.\n",
      "- **Accessibility and Inclusivity**: Highlight efforts made to ensure that the courses are accessible to diverse populations, including underrepresented groups in AI, to promote inclusivity in the field.\n",
      "- **Data Privacy**: Address how user data is handled, emphasizing the importance of privacy and security measures in place to protect student information during and after course enrollment.\n",
      "\n",
      "from: Meta_Reviewer\n",
      "Based on the feedback from all reviewers, here are the aggregated suggestions for improving the content titled \"Unlocking AI Potential with DeepLearning.AI\":\n",
      "\n",
      "1. **SEO Optimization**:\n",
      "   - **Incorporate Keywords**: Add specific high-traffic keywords such as \"AI education,\" \"machine learning courses,\" and \"deep learning training\" throughout the text to enhance search visibility.\n",
      "   - **Use Subheadings**: Break down the content into well-defined sections with subheadings (e.g., \"Course Offerings,\" \"Community Engagement,\" \"Career Benefits\") to improve readability and help search engines understand the content structure.\n",
      "\n",
      "2. **Legal Compliance**:\n",
      "   - **Trademark Use**: Ensure that the use of \"DeepLearning.AI\" is compliant with trademark guidelines to avoid misleading implications regarding endorsements or affiliations.\n",
      "   - **Copyright Considerations**: Review the content for any copyrighted materials, ensuring proper attribution and permissions are in place.\n",
      "   - **Advertising Standards**: Verify that any claims about course effectiveness and potential outcomes are substantiated to comply with advertising laws.\n",
      "\n",
      "3. **Ethical Considerations**:\n",
      "   - **Transparency and Disclosure**: Include any affiliations, sponsorships, or partnerships to enhance transparency and mitigate conflicts of interest.\n",
      "   - **Accessibility and Inclusivity**: Emphasize efforts to make courses accessible to diverse populations, particularly underrepresented groups in AI, to promote inclusivity in education.\n",
      "   - **Data Privacy**: Address how user data is managed, highlighting privacy and security measures to reassure potential students about the protection of their information.\n",
      "\n",
      "4. **Content Clarity and Engagement**:\n",
      "   - **Call to Action**: The concluding line, \"Join the AI revolution today!\" can be made more specific or actionable, potentially directing readers to sign up for a newsletter or explore course offerings directly.\n",
      "\n",
      "By implementing these suggestions, the content will not only be more effective in reaching and engaging its target audience but also compliant with legal and ethical standards, ultimately enhancing its credibility and impact in the field of AI education.\n",
      "\n",
      "TextMessage from Critic\n",
      "--------------------\n",
      "Based on the feedback from all reviewers, here are the aggregated suggestions for improving the content titled \"Unlocking AI Potential with DeepLearning.AI\":\n",
      "\n",
      "1. **SEO Optimization**:\n",
      "   - **Incorporate Keywords**: Add specific high-traffic keywords such as \"AI education,\" \"machine learning courses,\" and \"deep learning training\" throughout the text to enhance search visibility.\n",
      "   - **Use Subheadings**: Break down the content into well-defined sections with subheadings (e.g., \"Course Offerings,\" \"Community Engagement,\" \"Career Benefits\") to improve readability and help search engines understand the content structure.\n",
      "\n",
      "2. **Legal Compliance**:\n",
      "   - **Trademark Use**: Ensure that the use of \"DeepLearning.AI\" is compliant with trademark guidelines to avoid misleading implications regarding endorsements or affiliations.\n",
      "   - **Copyright Considerations**: Review the content for any copyrighted materials, ensuring proper attribution and permissions are in place.\n",
      "   - **Advertising Standards**: Verify that any claims about course effectiveness and potential outcomes are substantiated to comply with advertising laws.\n",
      "\n",
      "3. **Ethical Considerations**:\n",
      "   - **Transparency and Disclosure**: Include any affiliations, sponsorships, or partnerships to enhance transparency and mitigate conflicts of interest.\n",
      "   - **Accessibility and Inclusivity**: Emphasize efforts to make courses accessible to diverse populations, particularly underrepresented groups in AI, to promote inclusivity in education.\n",
      "   - **Data Privacy**: Address how user data is managed, highlighting privacy and security measures to reassure potential students about the protection of their information.\n",
      "\n",
      "4. **Content Clarity and Engagement**:\n",
      "   - **Call to Action**: The concluding line, \"Join the AI revolution today!\" can be made more specific or actionable, potentially directing readers to sign up for a newsletter or explore course offerings directly.\n",
      "\n",
      "By implementing these suggestions, the content will not only be more effective in reaching and engaging its target audience but also compliant with legal and ethical standards, ultimately enhancing its credibility and impact in the field of AI education.\n",
      "--------------------\n",
      "\n",
      "from: Writer\n",
      "**Unlocking AI Potential with DeepLearning.AI**\n",
      "\n",
      "**AI Education for Everyone**  \n",
      "DeepLearning.AI is revolutionizing AI education, offering comprehensive machine learning courses suitable for all skill levels. Founded by AI visionary Andrew Ng, the platform provides hands-on training in deep learning techniques, ensuring students gain practical skills that are in high demand.\n",
      "\n",
      "**Engaging Community**  \n",
      "Join a vibrant community of learners and professionals who collaborate and innovate together. DeepLearning.AI emphasizes inclusivity, making its courses accessible to diverse populations in the tech field.\n",
      "\n",
      "**Start Your Journey**  \n",
      "Ready to advance your career in AI? Explore DeepLearning.AI's offerings and take the first step towards mastering artificial intelligence today!\n",
      "\n"
     ]
    }
   ],
   "source": [
    "conversation = await nestChatCritic.SendAsync(\n",
    "    message: task,\n",
    "    receiver: writer,\n",
    "    maxRound: 3);\n",
    "\n",
    "var finalResult = conversation.Last();"
   ]
  }
 ],
 "metadata": {
  "kernelspec": {
   "display_name": ".NET (C#)",
   "language": "C#",
   "name": ".net-csharp"
  },
  "language_info": {
   "name": "python"
  },
  "polyglot_notebook": {
   "kernelInfo": {
    "defaultKernelName": "csharp",
    "items": [
     {
      "aliases": [],
      "name": "csharp"
     }
    ]
   }
  }
 },
 "nbformat": 4,
 "nbformat_minor": 2
}
