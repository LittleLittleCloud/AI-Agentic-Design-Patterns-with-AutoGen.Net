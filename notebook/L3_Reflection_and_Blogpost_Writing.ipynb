{
 "cells": [
  {
   "cell_type": "markdown",
   "metadata": {},
   "source": [
    "#### Lesson 3: Reflection and Blogpost Writing"
   ]
  },
  {
   "cell_type": "markdown",
   "metadata": {},
   "source": [
    "#### Setup"
   ]
  },
  {
   "cell_type": "code",
   "execution_count": 3,
   "metadata": {
    "vscode": {
     "languageId": "polyglot-notebook"
    }
   },
   "outputs": [
    {
     "data": {
      "text/html": [
       "<div><div></div><div></div><div><strong>Installed Packages</strong><ul><li><span>AutoGen, 0.0.16</span></li></ul></div></div>"
      ]
     },
     "metadata": {},
     "output_type": "display_data"
    }
   ],
   "source": [
    "#r \"nuget:AutoGen\"\n",
    "\n",
    "using AutoGen.Core;\n",
    "using AutoGen.OpenAI;\n",
    "using AutoGen.OpenAI.Extension;\n",
    "using Azure.AI.OpenAI;\n",
    "using System.Threading;\n",
    "\n",
    "var openAIKey = Environment.GetEnvironmentVariable(\"OPENAI_API_KEY\") ?? throw new Exception(\"Please set the OPENAI_API_KEY environment variable.\");\n",
    "var openAIModel = \"gpt-3.5-turbo\";\n",
    "var openaiClient = new OpenAIClient(openAIKey);\n"
   ]
  },
  {
   "cell_type": "markdown",
   "metadata": {},
   "source": [
    "The Task!"
   ]
  },
  {
   "cell_type": "code",
   "execution_count": 1,
   "metadata": {
    "vscode": {
     "languageId": "polyglot-notebook"
    }
   },
   "outputs": [],
   "source": [
    "var task = \"\"\"\n",
    "    Write a concise but engaging blogpost about\n",
    "    DeepLearning.AI. Make sure the blogpost is\n",
    "    within 100 words.\n",
    "    \"\"\";"
   ]
  },
  {
   "cell_type": "markdown",
   "metadata": {},
   "source": [
    "Create a writer agent"
   ]
  },
  {
   "cell_type": "code",
   "execution_count": 5,
   "metadata": {
    "vscode": {
     "languageId": "polyglot-notebook"
    }
   },
   "outputs": [
    {
     "name": "stdout",
     "output_type": "stream",
     "text": [
      "from: Writer\n",
      "Title: Unleashing the Power of Deep Learning with DeepLearning.AI\n",
      "\n",
      "Dive into the world of artificial intelligence with DeepLearning.AI! Founded by renowned AI expert Andrew Ng, this platform offers top-notch courses on deep learning, machine learning, and more. Whether you're a beginner or a seasoned professional, DeepLearning.AI provides the tools and knowledge to help you master the latest AI technologies. With hands-on projects and expert-led instruction, you'll be on your way to becoming an AI expert in no time. Join the AI revolution today with DeepLearning.AI!\n",
      "\n"
     ]
    }
   ],
   "source": [
    "var writer = new OpenAIChatAgent(\n",
    "    openAIClient: openaiClient,\n",
    "    name: \"Writer\",\n",
    "    modelName: openAIModel,\n",
    "    systemMessage: \"\"\"\n",
    "    You are a writer. You write engaging and concise blogpost (with title) on given topics.\n",
    "    You must polish your writing based on the feedback you receive and give a refined version.\n",
    "    Only return your final work without additional comments.\"\n",
    "    \"\"\")\n",
    "    .RegisterMessageConnector()\n",
    "    .RegisterPrintMessage();\n",
    "\n",
    "    var reply = await writer.SendAsync(task);"
   ]
  },
  {
   "cell_type": "markdown",
   "metadata": {},
   "source": [
    "Adding reflection by creating a critic agent to reflect on the work of the writer agent."
   ]
  },
  {
   "cell_type": "code",
   "execution_count": 6,
   "metadata": {
    "vscode": {
     "languageId": "polyglot-notebook"
    }
   },
   "outputs": [
    {
     "name": "stdout",
     "output_type": "stream",
     "text": [
      "from: Writer\n",
      "Title: \"Unlocking the Power of Deep Learning with DeepLearning.AI\"\n",
      "\n",
      "Dive into the world of artificial intelligence with DeepLearning.AI, a platform revolutionizing education in deep learning. Led by industry expert Andrew Ng, this online hub offers top-notch courses, hands-on projects, and a vibrant community of learners. Whether you're a beginner or a seasoned professional, DeepLearning.AI provides the tools and resources to master the complexities of deep learning. With a diverse range of topics and flexible learning options, you can upskill at your own pace. Join the millions of learners worldwide and unleash your potential in AI with DeepLearning.AI.\n",
      "\n",
      "from: Critic\n",
      "This blog post is concise and engaging, effectively capturing the essence of DeepLearning.AI and its offerings. The title is attention-grabbing and sets the tone for the content. The content itself provides a good overview of the platform, highlighting key features such as courses, projects, and community support. To enhance the blog post, consider including specific examples of the courses offered or success stories from learners who have benefited from DeepLearning.AI. Additionally, you could provide more details on the impact of Andrew Ng's leadership on the platform. Overall, great job, but adding more depth and specific examples could make the post even more compelling.\n",
      "\n",
      "from: Writer\n",
      "Title: \"Empowering Minds: A Deep Dive into DeepLearning.AI\"\n",
      "\n",
      "Embark on a transformative journey with DeepLearning.AI, a game-changer in the realm of artificial intelligence education. Helmed by the visionary Andrew Ng, this platform offers a treasure trove of courses, hands-on projects, and a thriving global community. From machine learning to neural networks, the diverse curriculum caters to enthusiasts of all levels. One standout feature is the engaging projects that allow learners to apply newfound knowledge in real-world scenarios. The success stories of individuals upskilled by DeepLearning.AI stand as a testament to its impact. Join the revolution today and unlock your potential in AI.\n",
      "\n"
     ]
    }
   ],
   "source": [
    "var critic = new OpenAIChatAgent(\n",
    "    openAIClient: openaiClient,\n",
    "    name: \"Critic\",\n",
    "    modelName: openAIModel,\n",
    "    systemMessage: \"\"\"\n",
    "    You are a critic. You review the work of the writer and provide constructive feedback to help improve the quality of the content.\"\n",
    "    \"\"\")\n",
    "    .RegisterMessageConnector()\n",
    "    .RegisterPrintMessage();\n",
    "\n",
    "var conversation = await critic.SendAsync(\n",
    "    receiver: writer,\n",
    "    message: task,\n",
    "    maxRound: 3);\n",
    "\n",
    "// Use the last message in the conversation as the final result\n",
    "var res = conversation.Last();"
   ]
  },
  {
   "cell_type": "markdown",
   "metadata": {},
   "source": [
    "#### Nested chat using middleware pattern\n",
    "Python AutoGen allows you to create a Json object task list and pass it to agent using `register_nested_chats`\n",
    "This is not supported in AutoGen.Net.\n",
    "But you can achieve the same using the middleware pattern."
   ]
  },
  {
   "cell_type": "code",
   "execution_count": 7,
   "metadata": {
    "vscode": {
     "languageId": "polyglot-notebook"
    }
   },
   "outputs": [],
   "source": [
    "var SEOReviewer = new OpenAIChatAgent(\n",
    "    openAIClient: openaiClient,\n",
    "    name: \"SEO_Reviewer\",\n",
    "    modelName: openAIModel,\n",
    "    systemMessage: \"\"\"\n",
    "    You are an SEO reviewer, known for your ability to optimize content for search engines, ensuring that it ranks well and attracts organic traffic.\n",
    "    Make sure your suggestion is concise (within 3 bullet points), concrete and to the point.\n",
    "    Begin the review by stating your role.\n",
    "    \"\"\")\n",
    "    .RegisterMessageConnector()\n",
    "    .RegisterPrintMessage();"
   ]
  },
  {
   "cell_type": "code",
   "execution_count": 8,
   "metadata": {
    "vscode": {
     "languageId": "polyglot-notebook"
    }
   },
   "outputs": [],
   "source": [
    "var LegalReviewer = new OpenAIChatAgent(\n",
    "    openAIClient: openaiClient,\n",
    "    name: \"Legal_Reviewer\",\n",
    "    modelName: openAIModel,\n",
    "    systemMessage: \"\"\"\n",
    "    You are a legal reviewer, known for your ability to ensure that content is legally compliant and free from any potential legal issues.\n",
    "    Make sure your suggestion is concise (within 3 bullet points), concrete and to the point.\n",
    "    Begin the review by stating your role.\n",
    "    \"\"\")\n",
    "    .RegisterMessageConnector()\n",
    "    .RegisterPrintMessage();"
   ]
  },
  {
   "cell_type": "code",
   "execution_count": 9,
   "metadata": {
    "vscode": {
     "languageId": "polyglot-notebook"
    }
   },
   "outputs": [],
   "source": [
    "var EthicsReviewer = new OpenAIChatAgent(\n",
    "    openAIClient: openaiClient,\n",
    "    name: \"Ethics_Reviewer\",\n",
    "    modelName: openAIModel,\n",
    "    systemMessage: \"\"\"\n",
    "    You are an ethics reviewer, known for your ability to ensure that content is ethically sound and free from any potential ethical issues.\n",
    "    Make sure your suggestion is concise (within 3 bullet points), concrete and to the point.\n",
    "    Begin the review by stating your role.\n",
    "    \"\"\")\n",
    "    .RegisterMessageConnector()\n",
    "    .RegisterPrintMessage();"
   ]
  },
  {
   "cell_type": "code",
   "execution_count": 10,
   "metadata": {
    "vscode": {
     "languageId": "polyglot-notebook"
    }
   },
   "outputs": [],
   "source": [
    "var MetaReviewer = new OpenAIChatAgent(\n",
    "    openAIClient: openaiClient,\n",
    "    name: \"Meta_Reviewer\",\n",
    "    modelName: openAIModel,\n",
    "    systemMessage: \"\"\"\n",
    "    You are a meta reviewer, you aggragate and review the work of other reviewers and give a final suggestion on the content.\"\n",
    "    \"\"\")\n",
    "    .RegisterMessageConnector()\n",
    "    .RegisterPrintMessage();"
   ]
  },
  {
   "cell_type": "markdown",
   "metadata": {},
   "source": [
    "Define nest chat middleware"
   ]
  },
  {
   "cell_type": "code",
   "execution_count": 11,
   "metadata": {
    "dotnet_interactive": {
     "language": "csharp"
    },
    "polyglot_notebook": {
     "kernelName": "csharp"
    },
    "vscode": {
     "languageId": "polyglot-notebook"
    }
   },
   "outputs": [],
   "source": [
    "class NestChatMiddleware : IMiddleware\n",
    "{\n",
    "    private readonly IAgent seo;\n",
    "    private readonly IAgent legal;\n",
    "    private readonly IAgent ethics;\n",
    "    private readonly IAgent meta;\n",
    "    private readonly IAgent writer;\n",
    "\n",
    "    public NestChatMiddleware(IAgent writer, IAgent seo, IAgent legal, IAgent ethics, IAgent meta)\n",
    "    {\n",
    "        this.writer = writer;\n",
    "        this.seo = seo;\n",
    "        this.legal = legal;\n",
    "        this.ethics = ethics;\n",
    "        this.meta = meta;\n",
    "    }\n",
    "\n",
    "    public string? Name => nameof(NestChatMiddleware);\n",
    "\n",
    "    public async Task<IMessage> InvokeAsync(MiddlewareContext context, IAgent critic, CancellationToken cancellationToken = default)\n",
    "    {\n",
    "        // trigger only when the last message is from writer\n",
    "        if (context.Messages.Last().From != writer.Name)\n",
    "        {\n",
    "            return await critic.GenerateReplyAsync(context.Messages, context.Options, cancellationToken);\n",
    "        }\n",
    "\n",
    "        var messageToReview = context.Messages.Last();\n",
    "        var reviewPrompt = $\"\"\"\n",
    "            Review the following content.\n",
    "\n",
    "            {messageToReview.GetContent()}\n",
    "            \"\"\";\n",
    "        // SEO Review\n",
    "        var seoReview = await critic.SendAsync(\n",
    "            receiver: seo,\n",
    "            message: reviewPrompt,\n",
    "            maxRound: 1);\n",
    "        var legalReview = await critic.SendAsync(\n",
    "            receiver: legal,\n",
    "            message: reviewPrompt,\n",
    "            maxRound: 1);\n",
    "\n",
    "        var ethicsReview = await critic.SendAsync(\n",
    "            receiver: ethics,\n",
    "            message: reviewPrompt,\n",
    "            maxRound: 1);\n",
    "\n",
    "        var reviews = seoReview.Concat(legalReview).Concat(ethicsReview);\n",
    "\n",
    "        var metaReview = await critic.SendAsync(\n",
    "            receiver: meta,\n",
    "            message: \"Aggregrate feedback from all reviewers and give final suggestions on the writing.\",\n",
    "            chatHistory: reviews,\n",
    "            maxRound: 1);\n",
    "\n",
    "        var lastReview = metaReview.Last();\n",
    "        lastReview.From = critic.Name;\n",
    "\n",
    "        return lastReview;\n",
    "    }\n",
    "}"
   ]
  },
  {
   "cell_type": "code",
   "execution_count": 12,
   "metadata": {
    "vscode": {
     "languageId": "polyglot-notebook"
    }
   },
   "outputs": [],
   "source": [
    "// Orchestrate the nested chats to solve the task\n",
    "var middleware = new NestChatMiddleware(\n",
    "    writer: writer,\n",
    "    seo: SEOReviewer,\n",
    "    legal: LegalReviewer,\n",
    "    ethics: EthicsReviewer,\n",
    "    meta: MetaReviewer);"
   ]
  },
  {
   "cell_type": "code",
   "execution_count": 13,
   "metadata": {
    "vscode": {
     "languageId": "polyglot-notebook"
    }
   },
   "outputs": [],
   "source": [
    "var nestChatCritic = critic\n",
    "    .RegisterMiddleware(middleware)\n",
    "    .RegisterPrintMessage();"
   ]
  },
  {
   "cell_type": "code",
   "execution_count": 14,
   "metadata": {
    "vscode": {
     "languageId": "polyglot-notebook"
    }
   },
   "outputs": [
    {
     "name": "stdout",
     "output_type": "stream",
     "text": [
      "from: Writer\n",
      "Title: \"Unleashing the Power of Deep Learning with DeepLearning.AI\"\n",
      "\n",
      "Embark on a transformative journey with DeepLearning.AI, a pioneering platform revolutionizing the world of artificial intelligence. Offering cutting-edge courses and resources crafted by industry experts, DeepLearning.AI equips learners with the skills to delve into the depths of deep learning. From neural networks to computer vision, each module provides a comprehensive understanding of this rapidly evolving field. Whether you're a novice or a seasoned professional, DeepLearning.AI empowers you to unlock the full potential of AI technology. Join the community today and dive into the realm of deep learning with confidence and expertise.\n",
      "\n",
      "from: SEO_Reviewer\n",
      "As an SEO reviewer, my feedback on the content is:\n",
      "\n",
      "- Incorporate relevant keywords like \"deep learning courses,\" \"AI training,\" and \"online AI courses\" to improve search engine visibility.\n",
      "- Include a clear call-to-action at the end, encouraging readers to sign up for a course or explore available resources.\n",
      "- Consider adding internal links to other relevant pages on the website to enhance SEO and guide users to explore more content.\n",
      "\n",
      "from: Legal_Reviewer\n",
      "As a legal reviewer:\n",
      "\n",
      "1. Avoid using terms like \"pioneering\" and \"revolutionizing\" without concrete evidence to support these claims, as they could be seen as misleading or exaggerated.\n",
      "   \n",
      "2. Ensure that any claims about the effectiveness of the courses and resources provided by DeepLearning.AI are substantiated with verifiable data or evidence to prevent potential false advertising allegations.\n",
      "   \n",
      "3. Consider adding a disclaimer regarding the outcomes or guarantees of acquiring skills through DeepLearning.AI to manage expectations and prevent any potential liability issues.\n",
      "\n",
      "from: Ethics_Reviewer\n",
      "As an ethics reviewer, my role is to ensure that content is ethically sound and free from any potential ethical issues.\n",
      "\n",
      "- The content should clearly disclose any potential biases or conflicts of interest related to DeepLearning.AI, such as if the platform has sponsored the creation of this content or if the writer has any financial ties to the organization.\n",
      "- Avoid making unsubstantiated claims about the benefits or outcomes of using DeepLearning.AI, as this could be misleading to potential users.\n",
      "- Ensure that the language used does not create unrealistic expectations about the results learners can achieve by using DeepLearning.AI, as this could potentially lead to disappointment or dissatisfaction.\n",
      "\n",
      "from: Meta_Reviewer\n",
      "After aggregating feedback from the SEO, legal, and ethics reviewers, here are some final suggestions for the content:\n",
      "\n",
      "1. **SEO:** Incorporate relevant keywords like \"deep learning courses,\" \"AI training,\" and \"online AI courses\" to improve search engine visibility. Include a clear call-to-action at the end to encourage readers to sign up for a course or explore available resources. Consider adding internal links to guide users to explore more content on the website.\n",
      "\n",
      "2. **Legal:** Avoid using terms like \"pioneering\" and \"revolutionizing\" without concrete evidence to support these claims. Ensure that any claims about the effectiveness of the courses and resources provided by DeepLearning.AI are substantiated with verifiable data or evidence. Consider adding a disclaimer regarding the outcomes or guarantees of acquiring skills through DeepLearning.AI to manage expectations.\n",
      "\n",
      "3. **Ethics:** Clearly disclose any potential biases or conflicts of interest related to DeepLearning.AI. Avoid making unsubstantiated claims about the benefits or outcomes of using DeepLearning.AI. Ensure that the language used does not create unrealistic expectations about the results learners can achieve through the platform.\n",
      "\n",
      "Incorporating these suggestions will not only improve the content's search engine visibility but also ensure that it is legally compliant, ethically sound, and transparent to the readers. Remember to provide evidence to support any bold claims and manage expectations realistically to maintain credibility and trust with the audience.\n",
      "\n",
      "TextMessage from Critic\n",
      "--------------------\n",
      "After aggregating feedback from the SEO, legal, and ethics reviewers, here are some final suggestions for the content:\n",
      "\n",
      "1. **SEO:** Incorporate relevant keywords like \"deep learning courses,\" \"AI training,\" and \"online AI courses\" to improve search engine visibility. Include a clear call-to-action at the end to encourage readers to sign up for a course or explore available resources. Consider adding internal links to guide users to explore more content on the website.\n",
      "\n",
      "2. **Legal:** Avoid using terms like \"pioneering\" and \"revolutionizing\" without concrete evidence to support these claims. Ensure that any claims about the effectiveness of the courses and resources provided by DeepLearning.AI are substantiated with verifiable data or evidence. Consider adding a disclaimer regarding the outcomes or guarantees of acquiring skills through DeepLearning.AI to manage expectations.\n",
      "\n",
      "3. **Ethics:** Clearly disclose any potential biases or conflicts of interest related to DeepLearning.AI. Avoid making unsubstantiated claims about the benefits or outcomes of using DeepLearning.AI. Ensure that the language used does not create unrealistic expectations about the results learners can achieve through the platform.\n",
      "\n",
      "Incorporating these suggestions will not only improve the content's search engine visibility but also ensure that it is legally compliant, ethically sound, and transparent to the readers. Remember to provide evidence to support any bold claims and manage expectations realistically to maintain credibility and trust with the audience.\n",
      "--------------------\n",
      "\n",
      "from: Writer\n",
      "Title: \"Empowering Minds with DeepLearning.AI: A Comprehensive Review\"\n",
      "\n",
      "Embark on an enriching journey with DeepLearning.AI, a leading platform offering top-tier deep learning courses and AI training. Dive into neural networks, computer vision, and more with expert-crafted resources. Enhance your AI skills whether you're a beginner or a pro. Discover the realm of deep learning and unlock its potential. Explore available courses and resources today to take your skills to new heights. Sign up now and start your deep learning adventure with confidence!\n",
      "\n",
      "---\n",
      "Title: \"Empowering Minds with DeepLearning.AI: A Comprehensive Review\"\n",
      "\n",
      "Embark on an enriching journey with DeepLearning.AI, a leading platform offering top-tier deep learning courses and AI training. Dive into neural networks, computer vision, and more with expert-crafted resources. Enhance your AI skills whether you're a beginner or a pro. Discover the realm of deep learning and unlock its potential. Explore available courses and resources today to take your skills to new heights. Sign up now and start your deep learning adventure with confidence!\n",
      "\n"
     ]
    }
   ],
   "source": [
    "conversation = await nestChatCritic.SendAsync(\n",
    "    message: task,\n",
    "    receiver: writer,\n",
    "    maxRound: 3);\n",
    "\n",
    "var finalResult = conversation.Last();"
   ]
  }
 ],
 "metadata": {
  "kernelspec": {
   "display_name": ".NET (C#)",
   "language": "C#",
   "name": ".net-csharp"
  },
  "language_info": {
   "name": "python"
  },
  "polyglot_notebook": {
   "kernelInfo": {
    "defaultKernelName": "csharp",
    "items": [
     {
      "aliases": [],
      "name": "csharp"
     }
    ]
   }
  }
 },
 "nbformat": 4,
 "nbformat_minor": 2
}
