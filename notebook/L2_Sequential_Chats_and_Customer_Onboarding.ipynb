{
 "cells": [
  {
   "cell_type": "markdown",
   "metadata": {},
   "source": [
    "#### Lesson 2: Sequential Chats and Customer Onboarding"
   ]
  },
  {
   "cell_type": "markdown",
   "metadata": {},
   "source": [
    "#### Setup"
   ]
  },
  {
   "cell_type": "code",
   "execution_count": 1,
   "metadata": {
    "dotnet_interactive": {
     "language": "csharp"
    },
    "polyglot_notebook": {
     "kernelName": "csharp"
    },
    "vscode": {
     "languageId": "polyglot-notebook"
    }
   },
   "outputs": [
    {
     "data": {
      "text/html": [
       "<div><div></div><div></div><div><strong>Installed Packages</strong><ul><li><span>AutoGen, 0.1.0</span></li></ul></div></div>"
      ]
     },
     "metadata": {},
     "output_type": "display_data"
    }
   ],
   "source": [
    "#r \"nuget:AutoGen,0.1.0\"\n",
    "#load \"util.csx\"\n",
    "\n",
    "using AutoGen.Core;\n",
    "using AutoGen.OpenAI;\n",
    "using AutoGen.OpenAI.Extension;\n",
    "using Azure.AI.OpenAI;\n",
    "using System.Threading;\n",
    "\n",
    "var openAIModel = \"gpt-4o-mini\";\n",
    "var openaiClient = OpenAIClientProvider.Create();"
   ]
  },
  {
   "cell_type": "markdown",
   "metadata": {},
   "source": [
    "Create the needed agents"
   ]
  },
  {
   "cell_type": "code",
   "execution_count": 2,
   "metadata": {
    "dotnet_interactive": {
     "language": "csharp"
    },
    "polyglot_notebook": {
     "kernelName": "csharp"
    },
    "vscode": {
     "languageId": "polyglot-notebook"
    }
   },
   "outputs": [],
   "source": [
    "var onboardingPersonalInformationAgent = new OpenAIChatAgent(\n",
    "    openAIClient: openaiClient,\n",
    "    name: \"Onboarding_Personal_Information_Agent\",\n",
    "    modelName: openAIModel,\n",
    "    systemMessage: \"\"\"\n",
    "    You are a helpful customer onboarding agent,\n",
    "    you are here to help new customers get started with our product.\n",
    "    Your job is to gather customer's name and location.\n",
    "    Do not ask for other information. Return 'TERMINATE' \n",
    "    when you have gathered all the information.\n",
    "    \"\"\")\n",
    "    .RegisterMessageConnector()\n",
    "    .RegisterPrintMessage();"
   ]
  },
  {
   "cell_type": "code",
   "execution_count": 3,
   "metadata": {
    "dotnet_interactive": {
     "language": "csharp"
    },
    "polyglot_notebook": {
     "kernelName": "csharp"
    },
    "vscode": {
     "languageId": "polyglot-notebook"
    }
   },
   "outputs": [],
   "source": [
    "var onboardingTopicPreferenceAgent = new OpenAIChatAgent(\n",
    "    openAIClient: openaiClient,\n",
    "    name: \"Onboarding_Topic_Preference_Agent\",\n",
    "    modelName: openAIModel,\n",
    "    systemMessage: \"\"\"\n",
    "    You are a helpful customer onboarding agent,\n",
    "    you are here to help new customers get started with our product.\n",
    "    Your job is to gather customer's preferences on news topics.\n",
    "    Do not ask for other information.\n",
    "    Return 'TERMINATE' when you have gathered all the information.\n",
    "    \"\"\")\n",
    "    .RegisterMessageConnector()\n",
    "    .RegisterPrintMessage();"
   ]
  },
  {
   "cell_type": "code",
   "execution_count": 4,
   "metadata": {
    "dotnet_interactive": {
     "language": "csharp"
    },
    "polyglot_notebook": {
     "kernelName": "csharp"
    },
    "vscode": {
     "languageId": "polyglot-notebook"
    }
   },
   "outputs": [],
   "source": [
    "var customerEngagementAgent = new OpenAIChatAgent(\n",
    "    openAIClient: openaiClient,\n",
    "    name: \"Customer_Engagement_Agent\",\n",
    "    modelName: openAIModel,\n",
    "    systemMessage: \"\"\"\n",
    "    You are a helpful customer service agent\n",
    "    here to provide fun for the customer based on the user's\n",
    "    personal information and topic preferences.\n",
    "    This could include fun facts, jokes, or interesting stories.\n",
    "    Make sure to make it engaging and fun!\n",
    "    Return 'TERMINATE' when you are done.\n",
    "    \"\"\")\n",
    "    .RegisterMessageConnector()\n",
    "    .RegisterPrintMessage();"
   ]
  },
  {
   "cell_type": "code",
   "execution_count": 5,
   "metadata": {
    "dotnet_interactive": {
     "language": "csharp"
    },
    "polyglot_notebook": {
     "kernelName": "csharp"
    },
    "vscode": {
     "languageId": "polyglot-notebook"
    }
   },
   "outputs": [],
   "source": [
    "var summarizer = new OpenAIChatAgent(\n",
    "    openAIClient: openaiClient,\n",
    "    name: \"Summarizer\",\n",
    "    modelName: openAIModel,\n",
    "    systemMessage: \"\"\"\n",
    "    You are a helpful summarizer agent.\n",
    "    Your job is to summarize the conversation between the user and the customer service agent.\n",
    "    Return 'TERMINATE' when you are done.\n",
    "    \"\"\")\n",
    "    .RegisterMessageConnector()\n",
    "    .RegisterPrintMessage();"
   ]
  },
  {
   "cell_type": "code",
   "execution_count": 6,
   "metadata": {
    "dotnet_interactive": {
     "language": "csharp"
    },
    "polyglot_notebook": {
     "kernelName": "csharp"
    },
    "vscode": {
     "languageId": "polyglot-notebook"
    }
   },
   "outputs": [],
   "source": [
    "var user = new OpenAIChatAgent(\n",
    "    openAIClient: openaiClient,\n",
    "    name: \"User\",\n",
    "    modelName: openAIModel,\n",
    "    systemMessage: \"\"\"\n",
    "    Your name is John and you live in New York.\n",
    "    You are reaching out to customer service to find out something fun.\n",
    "    \"\"\")\n",
    "    .RegisterMessageConnector()\n",
    "    .RegisterPrintMessage();"
   ]
  },
  {
   "cell_type": "markdown",
   "metadata": {},
   "source": [
    "#### Creating Tasks\n",
    "In python AutoGen, you can use initiate_chats to create and run a sequential of tasks in json object\n",
    "In dotnet AutoGen, however, that feature is not available, so you need to manually create these tasks using code.\n",
    "\n",
    "#### Task 1. Onboard customer by gathering name and location\n",
    "(onboard_personal_information_agent -> user .. (repeat less than two times)) -> summarizer"
   ]
  },
  {
   "cell_type": "code",
   "execution_count": 7,
   "metadata": {
    "dotnet_interactive": {
     "language": "csharp"
    },
    "polyglot_notebook": {
     "kernelName": "csharp"
    },
    "vscode": {
     "languageId": "polyglot-notebook"
    }
   },
   "outputs": [
    {
     "name": "stdout",
     "output_type": "stream",
     "text": [
      "from: User\n",
      "Hi! My name is John and I live in New York. I'm excited to get started!\n",
      "\n",
      "from: Onboarding_Personal_Information_Agent\n",
      "Great to meet you, John! Thank you for sharing your location. \n",
      "\n",
      "TERMINATE\n",
      "\n",
      "from: Summarizer\n",
      "```json\n",
      "{\n",
      "  \"name\": \"John\",\n",
      "  \"location\": \"New York\"\n",
      "}\n",
      "```\n",
      "\n"
     ]
    }
   ],
   "source": [
    "var greetingMessage = new TextMessage(Role.Assistant, \"\"\"\n",
    "    Hello, I'm here to help you get started with our product.\n",
    "    Could you tell me your name and location?\n",
    "    \"\"\", from: onboardingPersonalInformationAgent.Name);\n",
    "\n",
    "var conversation = await onboardingPersonalInformationAgent.SendAsync(\n",
    "    receiver: user,\n",
    "    [greetingMessage],\n",
    "    maxRound: 2)\n",
    "    .ToListAsync();\n",
    "\n",
    "var summarizePrompt = \"\"\"\n",
    "    Return the customer information into as JSON object only: {'name': '', 'location': ''}\n",
    "    \"\"\";\n",
    "\n",
    "var summary = await summarizer.SendAsync(summarizePrompt, conversation);"
   ]
  },
  {
   "cell_type": "markdown",
   "metadata": {},
   "source": [
    "#### Task 2. Gapther customer's preferences on news topics\n",
    "(onboarding_topic_preference_agent -> user .. (repeat one time)) -> summarizer"
   ]
  },
  {
   "cell_type": "code",
   "execution_count": 8,
   "metadata": {
    "dotnet_interactive": {
     "language": "csharp"
    },
    "polyglot_notebook": {
     "kernelName": "csharp"
    },
    "vscode": {
     "languageId": "polyglot-notebook"
    }
   },
   "outputs": [
    {
     "name": "stdout",
     "output_type": "stream",
     "text": [
      "from: User\n",
      "Hi there! I’m really interested in fun topics related to travel, culinary experiences, and unique events happening around the world. Anything quirky or unusual would definitely catch my attention! What do you have in mind?\n",
      "\n",
      "from: Summarizer\n",
      "The user is interested in fun topics related to travel, culinary experiences, and unique events around the world, specifically looking for quirky or unusual content. TERMINATE\n",
      "\n"
     ]
    }
   ],
   "source": [
    "var topicPreferenceMessage = new TextMessage(Role.Assistant, \"\"\"\n",
    "    Great! Could you tell me what topics you are interested in reading about?\n",
    "    \"\"\", from: onboardingTopicPreferenceAgent.Name);\n",
    "\n",
    "conversation = await onboardingTopicPreferenceAgent.SendAsync(\n",
    "    receiver: user,\n",
    "    [topicPreferenceMessage],\n",
    "    maxRound: 1)\n",
    "    .ToListAsync();\n",
    "\n",
    "// Keep summarizing\n",
    "summary = await summarizer.SendAsync(chatHistory: new[] { summary }.Concat(conversation));"
   ]
  },
  {
   "cell_type": "markdown",
   "metadata": {},
   "source": [
    "#### Task 3. Engage the customer with fun facts, jokes, or interesting stories based on the user's personal information and topic preferences\n",
    "(user(find fun thing to read) -> customerEngagementAgent .. (repeat 1 time)) -> summarizer"
   ]
  },
  {
   "cell_type": "code",
   "execution_count": 9,
   "metadata": {
    "dotnet_interactive": {
     "language": "csharp"
    },
    "polyglot_notebook": {
     "kernelName": "csharp"
    },
    "vscode": {
     "languageId": "polyglot-notebook"
    }
   },
   "outputs": [
    {
     "name": "stdout",
     "output_type": "stream",
     "text": [
      "from: Customer_Engagement_Agent\n",
      "Absolutely, let’s embark on a fun journey together!\n",
      "\n",
      "### Quirky Travel Facts:\n",
      "1. **The Town of Dull**: There's a village in Scotland called Dull, and it has a sister town in the USA named Boring, Oregon. Together, they form the ultimate “Dull and Boring” travel destination!\n",
      "\n",
      "2. **The Great Wall of China**: While it’s iconic, many people don’t know that the Great Wall is not a single continuous wall. It’s actually a series of walls and fortifications built over centuries. It’s so long that it could wrap around the Earth nearly 1/2 a time!\n",
      "\n",
      "### Culinary Curiosities:\n",
      "- **Fried Spider, Anyone?**: In Cambodia, fried tarantulas are a delicacy! They’re crispy on the outside and often served with garlic and lime. It’s a unique taste that adventurous eaters say is similar to soft shell crab!\n",
      "\n",
      "- **Chocolate-Covered Insects**: If you’re looking for something sweet and crunchy, how about trying chocolate-covered crickets? They’re packed with protein and are a popular snack in various countries!\n",
      "\n",
      "### Unique Events Around the World:\n",
      "- **La Tomatina**: This famous tomato fight in Buñol, Spain, happens every last Wednesday of August. Participants throw overripe tomatoes at each other for an hour, turning the town into a sea of red!\n",
      "\n",
      "- **World Naked Bike Ride**: Held in various cities across the globe, this event promotes cycling and body positivity. Participants ride through the streets in their birthday suits (or minimal clothing), celebrating freedom and raising awareness about environmental issues!\n",
      "\n",
      "### A Travel Joke to Brighten Your Day:\n",
      "Why did the scarecrow become a successful travel agent?  \n",
      "Because he was outstanding in his field!\n",
      "\n",
      "If any of these topics spark your interest further, let me know, and we can dive deeper into any of them! 🌍✈️🍽️\n",
      "\n",
      "from: Summarizer\n",
      "The customer service agent shared a variety of quirky travel facts, culinary curiosities, and unique events from around the world, including a humorous travel joke. Topics included the town of Dull in Scotland, the Great Wall of China, fried tarantulas in Cambodia, chocolate-covered insects, La Tomatina in Spain, and the World Naked Bike Ride. The agent encouraged the user to express interest in any specific topic for further exploration. TERMINATE\n",
      "\n"
     ]
    }
   ],
   "source": [
    "var funFactMessage = new TextMessage(Role.User, \"\"\"\n",
    "    Let's find something fun to read.\n",
    "    \"\"\", from: user.Name);\n",
    "\n",
    "conversation = await user.SendAsync(\n",
    "    receiver: customerEngagementAgent,\n",
    "    chatHistory: conversation.Concat([funFactMessage]), // this time, we keep the previous conversation history\n",
    "    maxRound: 1)\n",
    "    .ToListAsync();\n",
    "\n",
    "// Keep summarizing\n",
    "summary = await summarizer.SendAsync(chatHistory: new[] { summary }.Concat(conversation));"
   ]
  }
 ],
 "metadata": {
  "kernelspec": {
   "display_name": ".NET (C#)",
   "language": "C#",
   "name": ".net-csharp"
  },
  "language_info": {
   "name": "python"
  },
  "polyglot_notebook": {
   "kernelInfo": {
    "defaultKernelName": "csharp",
    "items": [
     {
      "aliases": [],
      "name": "csharp"
     }
    ]
   }
  }
 },
 "nbformat": 4,
 "nbformat_minor": 2
}
