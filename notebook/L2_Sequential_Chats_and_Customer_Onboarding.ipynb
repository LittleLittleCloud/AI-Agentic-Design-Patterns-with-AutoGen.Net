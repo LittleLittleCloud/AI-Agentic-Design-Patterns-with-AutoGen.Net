{
 "cells": [
  {
   "cell_type": "markdown",
   "metadata": {},
   "source": [
    "#### Lesson 2: Sequential Chats and Customer Onboarding"
   ]
  },
  {
   "cell_type": "markdown",
   "metadata": {},
   "source": [
    "#### Setup"
   ]
  },
  {
   "cell_type": "code",
   "execution_count": 1,
   "metadata": {
    "dotnet_interactive": {
     "language": "csharp"
    },
    "polyglot_notebook": {
     "kernelName": "csharp"
    },
    "vscode": {
     "languageId": "polyglot-notebook"
    }
   },
   "outputs": [
    {
     "data": {
      "text/html": [
       "<div><div></div><div></div><div><strong>Installed Packages</strong><ul><li><span>AutoGen, 0.2.0</span></li></ul></div></div>"
      ]
     },
     "metadata": {},
     "output_type": "display_data"
    }
   ],
   "source": [
    "#r \"nuget:AutoGen,0.2.0\"\n",
    "#load \"util.csx\"\n",
    "\n",
    "using AutoGen.Core;\n",
    "using AutoGen.OpenAI;\n",
    "using AutoGen.OpenAI.Extension;\n",
    "using System.Threading;\n",
    "using OpenAI;\n",
    "using OpenAI.Chat;\n",
    "\n",
    "var chatClient = ChatClientProvider.Create(\"gpt-4o-mini\");"
   ]
  },
  {
   "cell_type": "markdown",
   "metadata": {},
   "source": [
    "Create the needed agents"
   ]
  },
  {
   "cell_type": "code",
   "execution_count": 2,
   "metadata": {
    "dotnet_interactive": {
     "language": "csharp"
    },
    "polyglot_notebook": {
     "kernelName": "csharp"
    },
    "vscode": {
     "languageId": "polyglot-notebook"
    }
   },
   "outputs": [],
   "source": [
    "var onboardingPersonalInformationAgent = new OpenAIChatAgent(\n",
    "    chatClient: chatClient,\n",
    "    name: \"Onboarding_Personal_Information_Agent\",\n",
    "    systemMessage: \"\"\"\n",
    "    You are a helpful customer onboarding agent,\n",
    "    you are here to help new customers get started with our product.\n",
    "    Your job is to gather customer's name and location.\n",
    "    Do not ask for other information. Return 'TERMINATE' \n",
    "    when you have gathered all the information.\n",
    "    \"\"\")\n",
    "    .RegisterMessageConnector()\n",
    "    .RegisterPrintMessage();"
   ]
  },
  {
   "cell_type": "code",
   "execution_count": 3,
   "metadata": {
    "dotnet_interactive": {
     "language": "csharp"
    },
    "polyglot_notebook": {
     "kernelName": "csharp"
    },
    "vscode": {
     "languageId": "polyglot-notebook"
    }
   },
   "outputs": [],
   "source": [
    "var onboardingTopicPreferenceAgent = new OpenAIChatAgent(\n",
    "    chatClient: chatClient,\n",
    "    name: \"Onboarding_Topic_Preference_Agent\",\n",
    "    systemMessage: \"\"\"\n",
    "    You are a helpful customer onboarding agent,\n",
    "    you are here to help new customers get started with our product.\n",
    "    Your job is to gather customer's preferences on news topics.\n",
    "    Do not ask for other information.\n",
    "    Return 'TERMINATE' when you have gathered all the information.\n",
    "    \"\"\")\n",
    "    .RegisterMessageConnector()\n",
    "    .RegisterPrintMessage();"
   ]
  },
  {
   "cell_type": "code",
   "execution_count": 4,
   "metadata": {
    "dotnet_interactive": {
     "language": "csharp"
    },
    "polyglot_notebook": {
     "kernelName": "csharp"
    },
    "vscode": {
     "languageId": "polyglot-notebook"
    }
   },
   "outputs": [],
   "source": [
    "var customerEngagementAgent = new OpenAIChatAgent(\n",
    "    chatClient: chatClient,\n",
    "    name: \"Customer_Engagement_Agent\",\n",
    "    systemMessage: \"\"\"\n",
    "    You are a helpful customer service agent\n",
    "    here to provide fun for the customer based on the user's\n",
    "    personal information and topic preferences.\n",
    "    This could include fun facts, jokes, or interesting stories.\n",
    "    Make sure to make it engaging and fun!\n",
    "    Return 'TERMINATE' when you are done.\n",
    "    \"\"\")\n",
    "    .RegisterMessageConnector()\n",
    "    .RegisterPrintMessage();"
   ]
  },
  {
   "cell_type": "code",
   "execution_count": 5,
   "metadata": {
    "dotnet_interactive": {
     "language": "csharp"
    },
    "polyglot_notebook": {
     "kernelName": "csharp"
    },
    "vscode": {
     "languageId": "polyglot-notebook"
    }
   },
   "outputs": [],
   "source": [
    "var summarizer = new OpenAIChatAgent(\n",
    "    chatClient: chatClient,\n",
    "    name: \"Summarizer\",\n",
    "    systemMessage: \"\"\"\n",
    "    You are a helpful summarizer agent.\n",
    "    Your job is to summarize the conversation between the user and the customer service agent.\n",
    "    Return 'TERMINATE' when you are done.\n",
    "    \"\"\")\n",
    "    .RegisterMessageConnector()\n",
    "    .RegisterPrintMessage();"
   ]
  },
  {
   "cell_type": "code",
   "execution_count": 6,
   "metadata": {
    "dotnet_interactive": {
     "language": "csharp"
    },
    "polyglot_notebook": {
     "kernelName": "csharp"
    },
    "vscode": {
     "languageId": "polyglot-notebook"
    }
   },
   "outputs": [],
   "source": [
    "var user = new OpenAIChatAgent(\n",
    "    chatClient: chatClient,\n",
    "    name: \"User\",\n",
    "    systemMessage: \"\"\"\n",
    "    Your name is John and you live in New York.\n",
    "    You are reaching out to customer service to find out something fun.\n",
    "    \"\"\")\n",
    "    .RegisterMessageConnector()\n",
    "    .RegisterPrintMessage();"
   ]
  },
  {
   "cell_type": "markdown",
   "metadata": {},
   "source": [
    "#### Creating Tasks\n",
    "In python AutoGen, you can use initiate_chats to create and run a sequential of tasks in json object\n",
    "In dotnet AutoGen, however, that feature is not available, so you need to manually create these tasks using code.\n",
    "\n",
    "#### Task 1. Onboard customer by gathering name and location\n",
    "(onboard_personal_information_agent -> user .. (repeat less than two times)) -> summarizer"
   ]
  },
  {
   "cell_type": "code",
   "execution_count": 7,
   "metadata": {
    "dotnet_interactive": {
     "language": "csharp"
    },
    "polyglot_notebook": {
     "kernelName": "csharp"
    },
    "vscode": {
     "languageId": "polyglot-notebook"
    }
   },
   "outputs": [
    {
     "name": "stdout",
     "output_type": "stream",
     "text": [
      "from: User\n",
      "Hi there! My name is John, and I live in New York. I'm excited to get started!\n",
      "\n",
      "from: Onboarding_Personal_Information_Agent\n",
      "Great to meet you, John! Thank you for sharing your location. \n",
      "\n",
      "TERMINATE\n",
      "\n",
      "from: Summarizer\n",
      "{'name': 'John', 'location': 'New York'}\n",
      "\n"
     ]
    }
   ],
   "source": [
    "var greetingMessage = new TextMessage(Role.Assistant, \"\"\"\n",
    "    Hello, I'm here to help you get started with our product.\n",
    "    Could you tell me your name and location?\n",
    "    \"\"\", from: onboardingPersonalInformationAgent.Name);\n",
    "\n",
    "var conversation = await onboardingPersonalInformationAgent.SendAsync(\n",
    "    receiver: user,\n",
    "    [greetingMessage],\n",
    "    maxRound: 2)\n",
    "    .ToListAsync();\n",
    "\n",
    "var summarizePrompt = \"\"\"\n",
    "    Return the customer information into as JSON object only: {'name': '', 'location': ''}\n",
    "    \"\"\";\n",
    "\n",
    "var summary = await summarizer.SendAsync(summarizePrompt, conversation);"
   ]
  },
  {
   "cell_type": "markdown",
   "metadata": {},
   "source": [
    "#### Task 2. Gapther customer's preferences on news topics\n",
    "(onboarding_topic_preference_agent -> user .. (repeat one time)) -> summarizer"
   ]
  },
  {
   "cell_type": "code",
   "execution_count": 8,
   "metadata": {
    "dotnet_interactive": {
     "language": "csharp"
    },
    "polyglot_notebook": {
     "kernelName": "csharp"
    },
    "vscode": {
     "languageId": "polyglot-notebook"
    }
   },
   "outputs": [
    {
     "name": "stdout",
     "output_type": "stream",
     "text": [
      "from: User\n",
      "Hi there! I'm interested in fun and exciting topics like local events happening in New York, unique restaurants to try, or interesting activities and attractions in the city. Anything that can help me discover something new and enjoyable would be great!\n",
      "\n",
      "from: Summarizer\n",
      "The user is looking for recommendations on local events, unique restaurants, and interesting activities and attractions in New York to discover new and enjoyable experiences. \n",
      "\n",
      "TERMINATE\n",
      "\n"
     ]
    }
   ],
   "source": [
    "var topicPreferenceMessage = new TextMessage(Role.Assistant, \"\"\"\n",
    "    Great! Could you tell me what topics you are interested in reading about?\n",
    "    \"\"\", from: onboardingTopicPreferenceAgent.Name);\n",
    "\n",
    "conversation = await onboardingTopicPreferenceAgent.SendAsync(\n",
    "    receiver: user,\n",
    "    [topicPreferenceMessage],\n",
    "    maxRound: 1)\n",
    "    .ToListAsync();\n",
    "\n",
    "// Keep summarizing\n",
    "summary = await summarizer.SendAsync(chatHistory: new[] { summary }.Concat(conversation));"
   ]
  },
  {
   "cell_type": "markdown",
   "metadata": {},
   "source": [
    "#### Task 3. Engage the customer with fun facts, jokes, or interesting stories based on the user's personal information and topic preferences\n",
    "(user(find fun thing to read) -> customerEngagementAgent .. (repeat 1 time)) -> summarizer"
   ]
  },
  {
   "cell_type": "code",
   "execution_count": 9,
   "metadata": {
    "dotnet_interactive": {
     "language": "csharp"
    },
    "polyglot_notebook": {
     "kernelName": "csharp"
    },
    "vscode": {
     "languageId": "polyglot-notebook"
    }
   },
   "outputs": [
    {
     "name": "stdout",
     "output_type": "stream",
     "text": [
      "from: Customer_Engagement_Agent\n",
      "Absolutely! New York City is bursting with excitement and wonderful experiences. Here are a few fun ideas to explore:\n",
      "\n",
      "### Local Events\n",
      "1. **Smorgasburg** - This open-air food market in Williamsburg is a foodie paradise. Try unique dishes from local vendors—like Ramen Burgers and artisanal donuts!\n",
      "2. **Broadway Shows** - Always check for last-minute tickets to catch a dazzling performance. Whether it's a classic like \"The Phantom of the Opera\" or the latest hit, the energy is unbeatable.\n",
      "3. **Street Art Tours** - Explore neighborhoods like Bushwick and Harlem, where you can witness some of the most vibrant street art. You can even join a guided tour to learn about the artists and their inspirations!\n",
      "\n",
      "### Unique Restaurants\n",
      "1. **The Catbird Seat** - A quirky spot where you can enjoy a tasting menu while seated in an intimate setting. The chef prepares dishes right in front of you!\n",
      "2. **Ellen's Stardust Diner** - Enjoy classic diner food while being entertained by singing waitstaff. It's a Broadway-themed experience you won’t forget!\n",
      "3. **Katz's Delicatessen** - Famous for its pastrami sandwiches, this iconic deli has been serving up delicious food since 1888!\n",
      "\n",
      "### Interesting Activities\n",
      "1. **Escape Room** - Test your wits and teamwork with friends in one of NYC's many escape rooms, like \"Mission Escape Games\" or \"The Escape Game NYC.\"\n",
      "2. **High Line Park** - This elevated park built on a former rail line offers stunning views of the city and is lined with art installations. Perfect for a leisurely stroll!\n",
      "3. **Visit the Museum of Illusions** - Get ready for mind-bending fun! This museum features optical illusions, holograms, and interactive exhibits that will leave you in awe.\n",
      "\n",
      "### Fun Fact\n",
      "Did you know that NYC has over 800 languages spoken? It’s one of the most linguistically diverse cities in the world! Imagine the cultural exchanges happening every day!\n",
      "\n",
      "### Joke Time!\n",
      "Why did the tomato turn red?\n",
      "Because it saw the salad dressing!\n",
      "\n",
      "I hope these suggestions spark your interest and help you discover something new and fun in NYC! If you want more details or specific recommendations, just let me know! 🌟\n",
      "\n",
      "from: Summarizer\n",
      "The customer service agent provided the user with a variety of recommendations for local events, unique restaurants, and interesting activities in New York City. \n",
      "\n",
      "**Local Events** included:\n",
      "- Smorgasburg, an open-air food market.\n",
      "- Broadway shows with last-minute ticket options.\n",
      "- Street art tours in neighborhoods like Bushwick and Harlem.\n",
      "\n",
      "**Unique Restaurants** featured:\n",
      "- The Catbird Seat, offering a tasting menu with a close-up chef experience.\n",
      "- Ellen's Stardust Diner, known for its singing waitstaff.\n",
      "- Katz's Delicatessen, famous for its pastrami sandwiches.\n",
      "\n",
      "**Interesting Activities** suggested were:\n",
      "- Escape rooms, such as \"Mission Escape Games.\"\n",
      "- High Line Park for scenic views and art installations.\n",
      "- The Museum of Illusions for interactive optical experiences.\n",
      "\n",
      "The agent also shared a fun fact about NYC's linguistic diversity and included a light-hearted joke. They encouraged the user to ask for more details or specific recommendations if needed.\n",
      "\n",
      "TERMINATE\n",
      "\n"
     ]
    }
   ],
   "source": [
    "var funFactMessage = new TextMessage(Role.User, \"\"\"\n",
    "    Let's find something fun to read.\n",
    "    \"\"\", from: user.Name);\n",
    "\n",
    "conversation = await user.SendAsync(\n",
    "    receiver: customerEngagementAgent,\n",
    "    chatHistory: conversation.Concat([funFactMessage]), // this time, we keep the previous conversation history\n",
    "    maxRound: 1)\n",
    "    .ToListAsync();\n",
    "\n",
    "// Keep summarizing\n",
    "summary = await summarizer.SendAsync(chatHistory: new[] { summary }.Concat(conversation));"
   ]
  }
 ],
 "metadata": {
  "kernelspec": {
   "display_name": ".NET (C#)",
   "language": "C#",
   "name": ".net-csharp"
  },
  "language_info": {
   "name": "python"
  },
  "polyglot_notebook": {
   "kernelInfo": {
    "defaultKernelName": "csharp",
    "items": [
     {
      "aliases": [],
      "name": "csharp"
     }
    ]
   }
  }
 },
 "nbformat": 4,
 "nbformat_minor": 2
}
