{
 "cells": [
  {
   "cell_type": "markdown",
   "metadata": {},
   "source": [
    "#### Lesson 2: Sequential Chats and Customer Onboarding"
   ]
  },
  {
   "cell_type": "markdown",
   "metadata": {},
   "source": [
    "#### Setup"
   ]
  },
  {
   "cell_type": "code",
   "execution_count": 1,
   "metadata": {
    "vscode": {
     "languageId": "polyglot-notebook"
    }
   },
   "outputs": [
    {
     "data": {
      "text/html": [
       "<div><div></div><div></div><div><strong>Installed Packages</strong><ul><li><span>AutoGen, 0.0.16</span></li></ul></div></div>"
      ]
     },
     "metadata": {},
     "output_type": "display_data"
    }
   ],
   "source": [
    "#r \"nuget:AutoGen\"\n",
    "\n",
    "using AutoGen.Core;\n",
    "using AutoGen.OpenAI;\n",
    "using AutoGen.OpenAI.Extension;\n",
    "using Azure.AI.OpenAI;\n",
    "using System.Threading;\n",
    "\n",
    "var openAIKey = Environment.GetEnvironmentVariable(\"OPENAI_API_KEY\") ?? throw new Exception(\"Please set the OPENAI_API_KEY environment variable.\");\n",
    "var openAIModel = \"gpt-3.5-turbo\";\n",
    "var openaiClient = new OpenAIClient(openAIKey);\n"
   ]
  },
  {
   "cell_type": "markdown",
   "metadata": {},
   "source": [
    "Create the needed agents"
   ]
  },
  {
   "cell_type": "code",
   "execution_count": 2,
   "metadata": {
    "vscode": {
     "languageId": "polyglot-notebook"
    }
   },
   "outputs": [],
   "source": [
    "var onboardingPersonalInformationAgent = new OpenAIChatAgent(\n",
    "    openAIClient: openaiClient,\n",
    "    name: \"Onboarding_Personal_Information_Agent\",\n",
    "    modelName: openAIModel,\n",
    "    systemMessage: \"\"\"\n",
    "    You are a helpful customer onboarding agent,\n",
    "    you are here to help new customers get started with our product.\n",
    "    Your job is to gather customer's name and location.\n",
    "    Do not ask for other information. Return 'TERMINATE' \n",
    "    when you have gathered all the information.\n",
    "    \"\"\")\n",
    "    .RegisterMessageConnector()\n",
    "    .RegisterPrintMessage();"
   ]
  },
  {
   "cell_type": "code",
   "execution_count": 3,
   "metadata": {
    "vscode": {
     "languageId": "polyglot-notebook"
    }
   },
   "outputs": [],
   "source": [
    "var onboardingTopicPreferenceAgent = new OpenAIChatAgent(\n",
    "    openAIClient: openaiClient,\n",
    "    name: \"Onboarding_Topic_Preference_Agent\",\n",
    "    modelName: openAIModel,\n",
    "    systemMessage: \"\"\"\n",
    "    You are a helpful customer onboarding agent,\n",
    "    you are here to help new customers get started with our product.\n",
    "    Your job is to gather customer's preferences on news topics.\n",
    "    Do not ask for other information.\n",
    "    Return 'TERMINATE' when you have gathered all the information.\n",
    "    \"\"\")\n",
    "    .RegisterMessageConnector()\n",
    "    .RegisterPrintMessage();"
   ]
  },
  {
   "cell_type": "code",
   "execution_count": 4,
   "metadata": {
    "vscode": {
     "languageId": "polyglot-notebook"
    }
   },
   "outputs": [],
   "source": [
    "var customerEngagementAgent = new OpenAIChatAgent(\n",
    "    openAIClient: openaiClient,\n",
    "    name: \"Customer_Engagement_Agent\",\n",
    "    modelName: openAIModel,\n",
    "    systemMessage: \"\"\"\n",
    "    You are a helpful customer service agent\n",
    "    here to provide fun for the customer based on the user's\n",
    "    personal information and topic preferences.\n",
    "    This could include fun facts, jokes, or interesting stories.\n",
    "    Make sure to make it engaging and fun!\n",
    "    Return 'TERMINATE' when you are done.\n",
    "    \"\"\")\n",
    "    .RegisterMessageConnector()\n",
    "    .RegisterPrintMessage();"
   ]
  },
  {
   "cell_type": "code",
   "execution_count": 5,
   "metadata": {
    "vscode": {
     "languageId": "polyglot-notebook"
    }
   },
   "outputs": [],
   "source": [
    "var summarizer = new OpenAIChatAgent(\n",
    "    openAIClient: openaiClient,\n",
    "    name: \"Summarizer\",\n",
    "    modelName: openAIModel,\n",
    "    systemMessage: \"\"\"\n",
    "    You are a helpful summarizer agent.\n",
    "    Your job is to summarize the conversation between the user and the customer service agent.\n",
    "    Return 'TERMINATE' when you are done.\n",
    "    \"\"\")\n",
    "    .RegisterMessageConnector()\n",
    "    .RegisterPrintMessage();"
   ]
  },
  {
   "cell_type": "code",
   "execution_count": 7,
   "metadata": {
    "vscode": {
     "languageId": "polyglot-notebook"
    }
   },
   "outputs": [],
   "source": [
    "var user = new OpenAIChatAgent(\n",
    "    openAIClient: openaiClient,\n",
    "    name: \"User\",\n",
    "    modelName: openAIModel,\n",
    "    systemMessage: \"\"\"\n",
    "    Your name is John and you live in New York.\n",
    "    You are reaching out to customer service to find out something fun.\n",
    "    \"\"\")\n",
    "    .RegisterMessageConnector()\n",
    "    .RegisterPrintMessage();"
   ]
  },
  {
   "cell_type": "markdown",
   "metadata": {},
   "source": [
    "#### Creating Tasks\n",
    "In python AutoGen, you can use initiate_chats to create and run a sequential of tasks in json object\n",
    "In dotnet AutoGen, however, that feature is not available, so you need to manually create these tasks using code.\n",
    "\n",
    "#### Task 1. Onboard customer by gathering name and location\n",
    "(onboard_personal_information_agent -> user .. (repeat less than two times)) -> summarizer"
   ]
  },
  {
   "cell_type": "code",
   "execution_count": 8,
   "metadata": {
    "vscode": {
     "languageId": "polyglot-notebook"
    }
   },
   "outputs": [
    {
     "name": "stdout",
     "output_type": "stream",
     "text": [
      "from: User\n",
      "Hi, I'm John and I live in New York.\n",
      "\n",
      "from: Onboarding_Personal_Information_Agent\n",
      "Thank you, John. Could you please confirm your location one more time?\n",
      "\n",
      "from: Summarizer\n",
      "{'name': 'John', 'location': 'New York'} \n",
      "\n",
      "TERMINATE\n",
      "\n"
     ]
    }
   ],
   "source": [
    "var greetingMessage = new TextMessage(Role.Assistant, \"\"\"\n",
    "    Hello, I'm here to help you get started with our product.\n",
    "    Could you tell me your name and location?\n",
    "    \"\"\", from: onboardingPersonalInformationAgent.Name);\n",
    "\n",
    "var conversation = await onboardingPersonalInformationAgent.SendAsync(\n",
    "    receiver: user,\n",
    "    [greetingMessage],\n",
    "    maxRound: 2);\n",
    "\n",
    "var summarizePrompt = \"\"\"\n",
    "    Return the customer information into as JSON object only: {'name': '', 'location': ''}\n",
    "    \"\"\";\n",
    "\n",
    "var summary = await summarizer.SendAsync(summarizePrompt, conversation);"
   ]
  },
  {
   "cell_type": "markdown",
   "metadata": {},
   "source": [
    "#### Task 2. Gapther customer's preferences on news topics\n",
    "(onboarding_topic_preference_agent -> user .. (repeat one time)) -> summarizer"
   ]
  },
  {
   "cell_type": "code",
   "execution_count": 9,
   "metadata": {
    "vscode": {
     "languageId": "polyglot-notebook"
    }
   },
   "outputs": [
    {
     "name": "stdout",
     "output_type": "stream",
     "text": [
      "from: User\n",
      "Hi John! What kind of fun information are you looking for today?\n",
      "\n",
      "from: Summarizer\n",
      "TERMINATE\n",
      "\n"
     ]
    }
   ],
   "source": [
    "var topicPreferenceMessage = new TextMessage(Role.Assistant, \"\"\"\n",
    "    Great! Could you tell me what topics you are interested in reading about?\n",
    "    \"\"\", from: onboardingTopicPreferenceAgent.Name);\n",
    "\n",
    "conversation = await onboardingTopicPreferenceAgent.SendAsync(\n",
    "    receiver: user,\n",
    "    [topicPreferenceMessage],\n",
    "    maxRound: 1);\n",
    "\n",
    "// Keep summarizing\n",
    "summary = await summarizer.SendAsync(chatHistory: new[] { summary }.Concat(conversation));"
   ]
  },
  {
   "cell_type": "markdown",
   "metadata": {},
   "source": [
    "#### Task 3. Engage the customer with fun facts, jokes, or interesting stories based on the user's personal information and topic preferences\n",
    "(user(find fun thing to read) -> customerEngagementAgent .. (repeat 1 time)) -> summarizer"
   ]
  },
  {
   "cell_type": "code",
   "execution_count": 10,
   "metadata": {
    "vscode": {
     "languageId": "polyglot-notebook"
    }
   },
   "outputs": [
    {
     "name": "stdout",
     "output_type": "stream",
     "text": [
      "from: Customer_Engagement_Agent\n",
      "Hi there! How about some fun facts about animals to brighten up your day? Did you know that a group of flamingos is called a \"flamboyance\"? They certainly know how to make a statement!\n",
      "\n",
      "from: Summarizer\n",
      "TERMINATE\n",
      "\n"
     ]
    }
   ],
   "source": [
    "var funFactMessage = new TextMessage(Role.User, \"\"\"\n",
    "    Let's find something fun to read.\n",
    "    \"\"\", from: user.Name);\n",
    "\n",
    "conversation = await user.SendAsync(\n",
    "    receiver: customerEngagementAgent,\n",
    "    chatHistory: conversation.Concat([funFactMessage]), // this time, we keep the previous conversation history\n",
    "    maxRound: 1);\n",
    "\n",
    "// Keep summarizing\n",
    "summary = await summarizer.SendAsync(chatHistory: new[] { summary }.Concat(conversation));"
   ]
  }
 ],
 "metadata": {
  "kernelspec": {
   "display_name": ".NET (C#)",
   "language": "C#",
   "name": ".net-csharp"
  },
  "language_info": {
   "name": "python"
  },
  "polyglot_notebook": {
   "kernelInfo": {
    "defaultKernelName": "csharp",
    "items": [
     {
      "aliases": [],
      "name": "csharp"
     }
    ]
   }
  }
 },
 "nbformat": 4,
 "nbformat_minor": 2
}
