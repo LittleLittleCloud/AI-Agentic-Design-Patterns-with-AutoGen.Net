{
 "cells": [
  {
   "cell_type": "markdown",
   "metadata": {},
   "source": [
    "#### Lesson 2: Sequential Chats and Customer Onboarding"
   ]
  },
  {
   "cell_type": "markdown",
   "metadata": {},
   "source": [
    "#### Setup"
   ]
  },
  {
   "cell_type": "code",
   "execution_count": 1,
   "metadata": {
    "dotnet_interactive": {
     "language": "csharp"
    },
    "polyglot_notebook": {
     "kernelName": "csharp"
    },
    "vscode": {
     "languageId": "polyglot-notebook"
    }
   },
   "outputs": [
    {
     "data": {
      "text/html": [
       "<div><div></div><div></div><div><strong>Installed Packages</strong><ul><li><span>AutoGen, 0.0.17</span></li></ul></div></div>"
      ]
     },
     "metadata": {},
     "output_type": "display_data"
    }
   ],
   "source": [
    "#r \"nuget:AutoGen\"\n",
    "\n",
    "using AutoGen.Core;\n",
    "using AutoGen.OpenAI;\n",
    "using AutoGen.OpenAI.Extension;\n",
    "using Azure.AI.OpenAI;\n",
    "using System.Threading;\n",
    "\n",
    "var openAIKey = Environment.GetEnvironmentVariable(\"OPENAI_API_KEY\") ?? throw new Exception(\"Please set the OPENAI_API_KEY environment variable.\");\n",
    "var openAIModel = \"gpt-4o-mini\";\n",
    "var openaiClient = new OpenAIClient(openAIKey);\n"
   ]
  },
  {
   "cell_type": "markdown",
   "metadata": {},
   "source": [
    "Create the needed agents"
   ]
  },
  {
   "cell_type": "code",
   "execution_count": 2,
   "metadata": {
    "dotnet_interactive": {
     "language": "csharp"
    },
    "polyglot_notebook": {
     "kernelName": "csharp"
    },
    "vscode": {
     "languageId": "polyglot-notebook"
    }
   },
   "outputs": [],
   "source": [
    "var onboardingPersonalInformationAgent = new OpenAIChatAgent(\n",
    "    openAIClient: openaiClient,\n",
    "    name: \"Onboarding_Personal_Information_Agent\",\n",
    "    modelName: openAIModel,\n",
    "    systemMessage: \"\"\"\n",
    "    You are a helpful customer onboarding agent,\n",
    "    you are here to help new customers get started with our product.\n",
    "    Your job is to gather customer's name and location.\n",
    "    Do not ask for other information. Return 'TERMINATE' \n",
    "    when you have gathered all the information.\n",
    "    \"\"\")\n",
    "    .RegisterMessageConnector()\n",
    "    .RegisterPrintMessage();"
   ]
  },
  {
   "cell_type": "code",
   "execution_count": 3,
   "metadata": {
    "dotnet_interactive": {
     "language": "csharp"
    },
    "polyglot_notebook": {
     "kernelName": "csharp"
    },
    "vscode": {
     "languageId": "polyglot-notebook"
    }
   },
   "outputs": [],
   "source": [
    "var onboardingTopicPreferenceAgent = new OpenAIChatAgent(\n",
    "    openAIClient: openaiClient,\n",
    "    name: \"Onboarding_Topic_Preference_Agent\",\n",
    "    modelName: openAIModel,\n",
    "    systemMessage: \"\"\"\n",
    "    You are a helpful customer onboarding agent,\n",
    "    you are here to help new customers get started with our product.\n",
    "    Your job is to gather customer's preferences on news topics.\n",
    "    Do not ask for other information.\n",
    "    Return 'TERMINATE' when you have gathered all the information.\n",
    "    \"\"\")\n",
    "    .RegisterMessageConnector()\n",
    "    .RegisterPrintMessage();"
   ]
  },
  {
   "cell_type": "code",
   "execution_count": 4,
   "metadata": {
    "dotnet_interactive": {
     "language": "csharp"
    },
    "polyglot_notebook": {
     "kernelName": "csharp"
    },
    "vscode": {
     "languageId": "polyglot-notebook"
    }
   },
   "outputs": [],
   "source": [
    "var customerEngagementAgent = new OpenAIChatAgent(\n",
    "    openAIClient: openaiClient,\n",
    "    name: \"Customer_Engagement_Agent\",\n",
    "    modelName: openAIModel,\n",
    "    systemMessage: \"\"\"\n",
    "    You are a helpful customer service agent\n",
    "    here to provide fun for the customer based on the user's\n",
    "    personal information and topic preferences.\n",
    "    This could include fun facts, jokes, or interesting stories.\n",
    "    Make sure to make it engaging and fun!\n",
    "    Return 'TERMINATE' when you are done.\n",
    "    \"\"\")\n",
    "    .RegisterMessageConnector()\n",
    "    .RegisterPrintMessage();"
   ]
  },
  {
   "cell_type": "code",
   "execution_count": 5,
   "metadata": {
    "dotnet_interactive": {
     "language": "csharp"
    },
    "polyglot_notebook": {
     "kernelName": "csharp"
    },
    "vscode": {
     "languageId": "polyglot-notebook"
    }
   },
   "outputs": [],
   "source": [
    "var summarizer = new OpenAIChatAgent(\n",
    "    openAIClient: openaiClient,\n",
    "    name: \"Summarizer\",\n",
    "    modelName: openAIModel,\n",
    "    systemMessage: \"\"\"\n",
    "    You are a helpful summarizer agent.\n",
    "    Your job is to summarize the conversation between the user and the customer service agent.\n",
    "    Return 'TERMINATE' when you are done.\n",
    "    \"\"\")\n",
    "    .RegisterMessageConnector()\n",
    "    .RegisterPrintMessage();"
   ]
  },
  {
   "cell_type": "code",
   "execution_count": 6,
   "metadata": {
    "dotnet_interactive": {
     "language": "csharp"
    },
    "polyglot_notebook": {
     "kernelName": "csharp"
    },
    "vscode": {
     "languageId": "polyglot-notebook"
    }
   },
   "outputs": [],
   "source": [
    "var user = new OpenAIChatAgent(\n",
    "    openAIClient: openaiClient,\n",
    "    name: \"User\",\n",
    "    modelName: openAIModel,\n",
    "    systemMessage: \"\"\"\n",
    "    Your name is John and you live in New York.\n",
    "    You are reaching out to customer service to find out something fun.\n",
    "    \"\"\")\n",
    "    .RegisterMessageConnector()\n",
    "    .RegisterPrintMessage();"
   ]
  },
  {
   "cell_type": "markdown",
   "metadata": {},
   "source": [
    "#### Creating Tasks\n",
    "In python AutoGen, you can use initiate_chats to create and run a sequential of tasks in json object\n",
    "In dotnet AutoGen, however, that feature is not available, so you need to manually create these tasks using code.\n",
    "\n",
    "#### Task 1. Onboard customer by gathering name and location\n",
    "(onboard_personal_information_agent -> user .. (repeat less than two times)) -> summarizer"
   ]
  },
  {
   "cell_type": "code",
   "execution_count": 7,
   "metadata": {
    "dotnet_interactive": {
     "language": "csharp"
    },
    "polyglot_notebook": {
     "kernelName": "csharp"
    },
    "vscode": {
     "languageId": "polyglot-notebook"
    }
   },
   "outputs": [
    {
     "name": "stdout",
     "output_type": "stream",
     "text": [
      "from: User\n",
      "Hi! My name is John, and I live in New York. I'm excited to learn more about your product!\n",
      "\n",
      "from: Onboarding_Personal_Information_Agent\n",
      "Thank you, John! It's great to have you here. I have your name and location. \n",
      "\n",
      "TERMINATE\n",
      "\n",
      "from: Summarizer\n",
      "```json\n",
      "{'name': 'John', 'location': 'New York'}\n",
      "```\n",
      "\n"
     ]
    }
   ],
   "source": [
    "var greetingMessage = new TextMessage(Role.Assistant, \"\"\"\n",
    "    Hello, I'm here to help you get started with our product.\n",
    "    Could you tell me your name and location?\n",
    "    \"\"\", from: onboardingPersonalInformationAgent.Name);\n",
    "\n",
    "var conversation = await onboardingPersonalInformationAgent.SendAsync(\n",
    "    receiver: user,\n",
    "    [greetingMessage],\n",
    "    maxRound: 2);\n",
    "\n",
    "var summarizePrompt = \"\"\"\n",
    "    Return the customer information into as JSON object only: {'name': '', 'location': ''}\n",
    "    \"\"\";\n",
    "\n",
    "var summary = await summarizer.SendAsync(summarizePrompt, conversation);"
   ]
  },
  {
   "cell_type": "markdown",
   "metadata": {},
   "source": [
    "#### Task 2. Gapther customer's preferences on news topics\n",
    "(onboarding_topic_preference_agent -> user .. (repeat one time)) -> summarizer"
   ]
  },
  {
   "cell_type": "code",
   "execution_count": 8,
   "metadata": {
    "dotnet_interactive": {
     "language": "csharp"
    },
    "polyglot_notebook": {
     "kernelName": "csharp"
    },
    "vscode": {
     "languageId": "polyglot-notebook"
    }
   },
   "outputs": [
    {
     "name": "stdout",
     "output_type": "stream",
     "text": [
      "from: User\n",
      "Hi there! I'm particularly interested in fun activities and events happening in New York, such as local festivals, concerts, and unique experiences. If you have any recommendations or topics related to that, I'd love to hear about them!\n",
      "\n",
      "from: Summarizer\n",
      "The user expressed interest in fun activities and events in New York, specifically local festivals, concerts, and unique experiences. They are looking for recommendations or topics related to these interests. \n",
      "\n",
      "TERMINATE\n",
      "\n"
     ]
    }
   ],
   "source": [
    "var topicPreferenceMessage = new TextMessage(Role.Assistant, \"\"\"\n",
    "    Great! Could you tell me what topics you are interested in reading about?\n",
    "    \"\"\", from: onboardingTopicPreferenceAgent.Name);\n",
    "\n",
    "conversation = await onboardingTopicPreferenceAgent.SendAsync(\n",
    "    receiver: user,\n",
    "    [topicPreferenceMessage],\n",
    "    maxRound: 1);\n",
    "\n",
    "// Keep summarizing\n",
    "summary = await summarizer.SendAsync(chatHistory: new[] { summary }.Concat(conversation));"
   ]
  },
  {
   "cell_type": "markdown",
   "metadata": {},
   "source": [
    "#### Task 3. Engage the customer with fun facts, jokes, or interesting stories based on the user's personal information and topic preferences\n",
    "(user(find fun thing to read) -> customerEngagementAgent .. (repeat 1 time)) -> summarizer"
   ]
  },
  {
   "cell_type": "code",
   "execution_count": 9,
   "metadata": {
    "dotnet_interactive": {
     "language": "csharp"
    },
    "polyglot_notebook": {
     "kernelName": "csharp"
    },
    "vscode": {
     "languageId": "polyglot-notebook"
    }
   },
   "outputs": [
    {
     "name": "stdout",
     "output_type": "stream",
     "text": [
      "from: Customer_Engagement_Agent\n",
      "Absolutely, let's dive into the vibrant world of New York! 🎉\n",
      "\n",
      "**Fun Fact:** Did you know that New York City hosts over 30,000 events each year? That’s a lot of opportunities to explore and enjoy!\n",
      "\n",
      "**Upcoming Festivals:** \n",
      "1. **New York Film Festival** (September): If you love cinema, this festival showcases some of the most anticipated films from around the globe. You might even catch a Q&A with directors and actors!\n",
      "2. **Village Halloween Parade** (October 31): This iconic parade features thousands of costumed participants, making it one of the largest Halloween celebrations in the world. It's a great place to see some wild creativity!\n",
      "\n",
      "**Concerts to Check Out:**\n",
      "- **SummerStage**: This series hosts concerts in Central Park featuring various genres of music. Keep an eye out for the schedule, as it offers both big-name artists and local talent!\n",
      "- **MSG Events**: Madison Square Garden hosts concerts year-round. From pop to rock, check their calendar for who’s performing next. \n",
      "\n",
      "**Unique Experiences:**\n",
      "- **Smorgasburg**: A food market that showcases local vendors with delicious eats, from gourmet donuts to unique dishes. It’s a foodie’s paradise!\n",
      "- **The High Line**: Walk this elevated park that turns an old railway into a beautiful green space. You can enjoy art installations and stunning views of the city along the way.\n",
      "\n",
      "And here’s a little joke to brighten your day: \n",
      "Why did the scarecrow win an award? \n",
      "Because he was outstanding in his field! 🌾😄\n",
      "\n",
      "Let me know if you want more details about any of these events or if there’s something else you’d like to explore! 🎶🌟\n",
      "\n",
      "TERMINATE\n",
      "\n",
      "from: Summarizer\n",
      "The user is interested in fun activities and events in New York, including local festivals, concerts, and unique experiences. The customer service agent provided several recommendations, including the New York Film Festival, the Village Halloween Parade, SummerStage concerts in Central Park, events at Madison Square Garden, Smorgasburg food market, and walking the High Line. The agent also included a fun fact about the number of events in NYC and shared a joke for added engagement. \n",
      "\n",
      "TERMINATE\n",
      "\n"
     ]
    }
   ],
   "source": [
    "var funFactMessage = new TextMessage(Role.User, \"\"\"\n",
    "    Let's find something fun to read.\n",
    "    \"\"\", from: user.Name);\n",
    "\n",
    "conversation = await user.SendAsync(\n",
    "    receiver: customerEngagementAgent,\n",
    "    chatHistory: conversation.Concat([funFactMessage]), // this time, we keep the previous conversation history\n",
    "    maxRound: 1);\n",
    "\n",
    "// Keep summarizing\n",
    "summary = await summarizer.SendAsync(chatHistory: new[] { summary }.Concat(conversation));"
   ]
  }
 ],
 "metadata": {
  "kernelspec": {
   "display_name": ".NET (C#)",
   "language": "C#",
   "name": ".net-csharp"
  },
  "language_info": {
   "name": "python"
  },
  "polyglot_notebook": {
   "kernelInfo": {
    "defaultKernelName": "csharp",
    "items": [
     {
      "aliases": [],
      "name": "csharp"
     }
    ]
   }
  }
 },
 "nbformat": 4,
 "nbformat_minor": 2
}
